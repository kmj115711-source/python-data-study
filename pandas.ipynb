{
 "cells": [
  {
   "cell_type": "markdown",
   "id": "43ce14e8-88cc-438b-b678-91eb6bfda8f4",
   "metadata": {},
   "source": [
    "## 판다스 (pandas)\n",
    "데이터를 관리하기 위해 사용되는 모듈로, 시리즈와 데이터프레임을 제공함"
   ]
  },
  {
   "cell_type": "code",
   "execution_count": 1,
   "id": "678e97ab-1d84-4a2f-bb6f-639dc22cbbf3",
   "metadata": {},
   "outputs": [],
   "source": [
    "# 모듈 가져오기\n",
    "# 넘파이 모듈을 np라는 이름으로 사용\n",
    "import numpy as np\n",
    "# 판다스 모듈을 pd라는 이름으로 사용\n",
    "import pandas as pd"
   ]
  },
  {
   "cell_type": "markdown",
   "id": "b6e92b71-dd90-4960-ba4e-2b3d9e399c76",
   "metadata": {},
   "source": [
    "### 4.1 시리즈 (Series)\n",
    "객체를 담을 수 있는 1차원 배열 같은 자료 구조"
   ]
  },
  {
   "cell_type": "markdown",
   "id": "dfed0700-f5f0-4c5c-b6bb-5d1097072458",
   "metadata": {},
   "source": [
    "### 시리즈 생성1"
   ]
  },
  {
   "cell_type": "code",
   "execution_count": null,
   "id": "1a1360f7-c227-4bf4-a486-c21103673561",
   "metadata": {},
   "outputs": [],
   "source": [
    "# 시리즈 생성\n",
    "s = pd.Series([1,2,3,4])\n",
    "# 왼쪽은 인덱스, 오른쪽은 값\n",
    "s\n",
    "# 인덱스 확인\n",
    "# 인덱스가 없으면 자동으로 설정됨\n",
    "s.index"
   ]
  },
  {
   "cell_type": "markdown",
   "id": "8fbe1737-c7af-4ee0-b189-f3bbac288925",
   "metadata": {},
   "source": [
    "## (1)  \n",
    "숫자 데이터를 시리즈로 만들어 주세요  \n",
    "값은 [5,10,15,20] 이고, 인덱스는 자동으로 생성됩니다"
   ]
  },
  {
   "cell_type": "markdown",
   "id": "10435746-2c7a-4c2c-a50b-cea136f89318",
   "metadata": {},
   "source": [
    "숫자 데이터를 시리즈로 만들어 주세요.\n",
    "값은 [2,4,6,8] 이고 , 인덱스는 자동으로 생성됩니다"
   ]
  },
  {
   "cell_type": "code",
   "execution_count": 12,
   "id": "f7fb1e6c-1750-422e-b26e-ef3b5a4bd6d9",
   "metadata": {},
   "outputs": [],
   "source": [
    "import pandas as pd"
   ]
  },
  {
   "cell_type": "code",
   "execution_count": 13,
   "id": "56cdd8df-4e1c-4aae-b0b7-563eb1a38821",
   "metadata": {},
   "outputs": [
    {
     "data": {
      "text/plain": [
       "0     5\n",
       "1    10\n",
       "2    15\n",
       "3    20\n",
       "dtype: int64"
      ]
     },
     "execution_count": 13,
     "metadata": {},
     "output_type": "execute_result"
    }
   ],
   "source": [
    "s = pd.Series([5,10,15,20])\n",
    "s"
   ]
  },
  {
   "cell_type": "markdown",
   "id": "637adcc6-0b45-4d07-a7dd-a753a1f4c7f3",
   "metadata": {},
   "source": [
    "## 시리즈 생성2"
   ]
  },
  {
   "cell_type": "code",
   "execution_count": 15,
   "id": "1df8a3c6-3c44-46f2-87d3-730641022da7",
   "metadata": {},
   "outputs": [
    {
     "data": {
      "text/plain": [
       "a    1\n",
       "b    2\n",
       "c    3\n",
       "dtype: int64"
      ]
     },
     "execution_count": 15,
     "metadata": {},
     "output_type": "execute_result"
    }
   ],
   "source": [
    "#인덱스를 직접 설정하여 시리즈 생성\n",
    "#pd.Series([값목록],인덱스)\n",
    "s = pd.Series([1,2,3],index=['a', 'b' ,'c'])\n",
    "s"
   ]
  },
  {
   "cell_type": "code",
   "execution_count": 13,
   "id": "15412bad-38c6-4a02-9814-9f1e90dea2ee",
   "metadata": {},
   "outputs": [
    {
     "data": {
      "text/plain": [
       "Index(['a', 'b', 'c'], dtype='object')"
      ]
     },
     "execution_count": 13,
     "metadata": {},
     "output_type": "execute_result"
    }
   ],
   "source": [
    "#인덱스 확인\n",
    "s.index"
   ]
  },
  {
   "cell_type": "markdown",
   "id": "bbf45ec0-3348-42bf-b088-c1e1457bba66",
   "metadata": {},
   "source": [
    "## 시리즈에서 값 꺼내기\n",
    "값을 찾는 방법 : 인덱스의 이름과 위치  \n",
    "loc 함수 : 인덱스 이름으로 데이터를 찾는다  \n",
    "iloc 함수 : 인덱스 위치로 데이터를 찾는다  \n",
    "대괄호[] : 인덱스 이름으로 데이터를 찾는다"
   ]
  },
  {
   "cell_type": "code",
   "execution_count": 22,
   "id": "d06ca3a3-9761-4000-acff-e251233f38ab",
   "metadata": {},
   "outputs": [
    {
     "name": "stdout",
     "output_type": "stream",
     "text": [
      "a    1\n",
      "b    2\n",
      "c    3\n",
      "dtype: int64\n"
     ]
    },
    {
     "data": {
      "text/plain": [
       "np.int64(3)"
      ]
     },
     "execution_count": 22,
     "metadata": {},
     "output_type": "execute_result"
    }
   ],
   "source": [
    "print(s)\n",
    "# 이 시리즈의 인덱스 이름 : a, b, c\n",
    "# 이 시리지의 인덱스 위치 : 0, 1, 2(고민할 필요 없음)\n",
    "s.loc ['a']\n",
    "# => np.int64(1)\n",
    "\n",
    "#인덱스 이름으로 숫자 2꺼내기\n",
    "s['b']\n",
    "# => np.int64(2)\n",
    "\n",
    "#인덱스 위치로 숫자 3 꺼내기\n",
    "s.iloc[2]\n",
    "# => np.int64(3)"
   ]
  },
  {
   "cell_type": "markdown",
   "id": "571c211a-853c-401f-8fa1-3915d625d342",
   "metadata": {},
   "source": [
    "## 시리즈 값 수정하기"
   ]
  },
  {
   "cell_type": "code",
   "execution_count": 28,
   "id": "47a71366-c3dd-4128-9cfc-297930098665",
   "metadata": {},
   "outputs": [
    {
     "name": "stdout",
     "output_type": "stream",
     "text": [
      "a     0\n",
      "b     2\n",
      "c    99\n",
      "dtype: int64\n"
     ]
    },
    {
     "data": {
      "text/plain": [
       "a     0\n",
       "b     2\n",
       "c    99\n",
       "dtype: int64"
      ]
     },
     "execution_count": 28,
     "metadata": {},
     "output_type": "execute_result"
    }
   ],
   "source": [
    "print(s)\n",
    "# 1을 0으로 변경\n",
    "# 찾기 -> 변경\n",
    "# s.loc['a'] = 0\n",
    "\n",
    "#3을 99로 변경\n",
    "s['c'] = 99\n",
    "s"
   ]
  },
  {
   "cell_type": "markdown",
   "id": "307b74e7-8c8b-4ea6-8d18-cbb371256baf",
   "metadata": {},
   "source": [
    "## (2번)\n",
    "성적 데이터를 시리즈로 만들어주세요.\n",
    "값은 점수 [70, 80, 90] 이고, 인덱스는 과목 ['국어', '영어', '수학'] 입니다.\n",
    "\n",
    "1. 국어 점수를 조회하세요. (결과: 70점)\n",
    "2. 수학 점수를 75점으로 수정하세요."
   ]
  },
  {
   "cell_type": "code",
   "execution_count": 33,
   "id": "55edd7b5-baa4-4fc7-adff-24b4a8a873ae",
   "metadata": {},
   "outputs": [
    {
     "data": {
      "text/plain": [
       "국어    70\n",
       "영어    80\n",
       "수학    90\n",
       "dtype: int64"
      ]
     },
     "execution_count": 33,
     "metadata": {},
     "output_type": "execute_result"
    }
   ],
   "source": [
    "s = pd.Series([70,80,90],index=['국어', '영어' ,'수학'])\n",
    "s"
   ]
  },
  {
   "cell_type": "code",
   "execution_count": 35,
   "id": "57031aeb-e150-4a2e-b33a-8cafe52172ef",
   "metadata": {},
   "outputs": [
    {
     "data": {
      "text/plain": [
       "np.int64(70)"
      ]
     },
     "execution_count": 35,
     "metadata": {},
     "output_type": "execute_result"
    }
   ],
   "source": [
    "s.loc['국어']"
   ]
  },
  {
   "cell_type": "code",
   "execution_count": 36,
   "id": "93c91fe4-6ffa-40cf-a928-f35b8d591347",
   "metadata": {},
   "outputs": [],
   "source": [
    "s.loc['수학'] = 75"
   ]
  },
  {
   "cell_type": "code",
   "execution_count": 37,
   "id": "0c2f0f0f-04b5-4501-865d-6d7e275b4503",
   "metadata": {},
   "outputs": [
    {
     "data": {
      "text/plain": [
       "국어    70\n",
       "영어    80\n",
       "수학    75\n",
       "dtype: int64"
      ]
     },
     "execution_count": 37,
     "metadata": {},
     "output_type": "execute_result"
    }
   ],
   "source": [
    "s"
   ]
  },
  {
   "cell_type": "markdown",
   "id": "a4173ffe-1959-452f-be8d-56bdb0aaa49b",
   "metadata": {},
   "source": [
    "## (3번)\n",
    "계절별 평균 기온 데이터를 시리즈로 만들어주세요.\n",
    "값은 기온 [15, 27, 18] 이고, 인덱스는 계절 ['봄', '여름', '가을'] 입니다.\n",
    "\n",
    "1. 봄 기온을 조회하세요. (결과: 15)\n",
    "2. 가을 기온을 20으로 수정하세요."
   ]
  },
  {
   "cell_type": "code",
   "execution_count": 38,
   "id": "c349b367-baa2-488b-a6ac-c578ae2bc237",
   "metadata": {},
   "outputs": [
    {
     "data": {
      "text/plain": [
       "봄     15\n",
       "여름    27\n",
       "가을    18\n",
       "dtype: int64"
      ]
     },
     "execution_count": 38,
     "metadata": {},
     "output_type": "execute_result"
    }
   ],
   "source": [
    "s = pd.Series([15,27,18],index=['봄', '여름' ,'가을'])\n",
    "s"
   ]
  },
  {
   "cell_type": "code",
   "execution_count": 39,
   "id": "06339b07-8f40-4970-ab29-e7d4a0482ae1",
   "metadata": {},
   "outputs": [
    {
     "data": {
      "text/plain": [
       "np.int64(15)"
      ]
     },
     "execution_count": 39,
     "metadata": {},
     "output_type": "execute_result"
    }
   ],
   "source": [
    "s.loc['봄']"
   ]
  },
  {
   "cell_type": "code",
   "execution_count": 40,
   "id": "5b93e987-4f4c-423e-a367-44f01054f382",
   "metadata": {},
   "outputs": [
    {
     "data": {
      "text/plain": [
       "봄     15\n",
       "여름    27\n",
       "가을    20\n",
       "dtype: int64"
      ]
     },
     "execution_count": 40,
     "metadata": {},
     "output_type": "execute_result"
    }
   ],
   "source": [
    "s.loc['가을'] = 20\n",
    "s"
   ]
  },
  {
   "cell_type": "markdown",
   "id": "7aeac99c-d69d-4a4d-9c24-345c326e880f",
   "metadata": {},
   "source": [
    "## (4번)\n",
    "일별 매출 데이터를 시리즈로 만들어주세요.\n",
    "값은 매출 [1000, 1200, 1300] 이고, 인덱스는 날짜 ['01-01', '01-02', '01-03'] 입니다.\n",
    "\n",
    "1. 1월 1일 매출을 조회하세요. (결과: 1000)\n",
    "2. 1월 2일 매출을 1250으로 수정하세요."
   ]
  },
  {
   "cell_type": "code",
   "execution_count": 41,
   "id": "298c0be5-70a1-44d9-924f-cefed16da5c9",
   "metadata": {},
   "outputs": [
    {
     "data": {
      "text/plain": [
       "01-01    1000\n",
       "01-02    1200\n",
       "01-03    1300\n",
       "dtype: int64"
      ]
     },
     "execution_count": 41,
     "metadata": {},
     "output_type": "execute_result"
    }
   ],
   "source": [
    "s = pd.Series([1000,1200,1300],index=['01-01', '01-02' ,'01-03'])\n",
    "s"
   ]
  },
  {
   "cell_type": "code",
   "execution_count": 42,
   "id": "e5e2d665-2832-41eb-9efe-049b0bc7a12d",
   "metadata": {},
   "outputs": [
    {
     "data": {
      "text/plain": [
       "np.int64(1000)"
      ]
     },
     "execution_count": 42,
     "metadata": {},
     "output_type": "execute_result"
    }
   ],
   "source": [
    "s.loc['01-01']"
   ]
  },
  {
   "cell_type": "code",
   "execution_count": 45,
   "id": "7ac3f442-78a2-47e3-941d-a0a4499cef6f",
   "metadata": {},
   "outputs": [
    {
     "data": {
      "text/plain": [
       "01-01    1000\n",
       "01-02    1250\n",
       "01-03    1300\n",
       "dtype: int64"
      ]
     },
     "execution_count": 45,
     "metadata": {},
     "output_type": "execute_result"
    }
   ],
   "source": [
    "s.loc['01-02'] = 1250\n",
    "s"
   ]
  },
  {
   "cell_type": "markdown",
   "id": "628e6c8e-9539-4769-9c3c-3d231445b919",
   "metadata": {},
   "source": [
    "## (5번)\n",
    "요일별 매출 데이터를 시리즈로 만들어주세요.\n",
    "값은 매출 [300, 400, 500] 이고, 인덱스는 요일 ['월', '화', '수'] 입니다.\n",
    "\n",
    "1. 화요일 매출을 조회하세요. (결과: 400)\n",
    "2. 수요일 매출을 550으로 수정하세요."
   ]
  },
  {
   "cell_type": "code",
   "execution_count": 48,
   "id": "d9226134-c6af-4661-ac88-19ed83c3856f",
   "metadata": {},
   "outputs": [
    {
     "data": {
      "text/plain": [
       "월    300\n",
       "화    400\n",
       "수    500\n",
       "dtype: int64"
      ]
     },
     "execution_count": 48,
     "metadata": {},
     "output_type": "execute_result"
    }
   ],
   "source": [
    "s = pd.Series([300,400,500],index=['월', '화' ,'수'])\n",
    "s"
   ]
  },
  {
   "cell_type": "code",
   "execution_count": 49,
   "id": "ed3b54a6-d52f-4c19-a1ba-87d17f87c52c",
   "metadata": {},
   "outputs": [
    {
     "data": {
      "text/plain": [
       "np.int64(400)"
      ]
     },
     "execution_count": 49,
     "metadata": {},
     "output_type": "execute_result"
    }
   ],
   "source": [
    "s.loc['화']"
   ]
  },
  {
   "cell_type": "code",
   "execution_count": 50,
   "id": "f9e5d601-74fe-406a-a513-d279f591ea92",
   "metadata": {},
   "outputs": [
    {
     "data": {
      "text/plain": [
       "월    300\n",
       "화    400\n",
       "수    550\n",
       "dtype: int64"
      ]
     },
     "execution_count": 50,
     "metadata": {},
     "output_type": "execute_result"
    }
   ],
   "source": [
    "s.loc['수'] = 550\n",
    "s"
   ]
  },
  {
   "cell_type": "markdown",
   "id": "bc9c2bab-016c-4af5-acfd-c874330989cc",
   "metadata": {},
   "source": [
    "## 4.2 데이터 프레임 (data frame)\n",
    "<small>표 형식의 2차원 데이터를 담기 위한 자료구조</small>  "
   ]
  },
  {
   "cell_type": "markdown",
   "id": "99e21e66-688d-4d0c-a063-377ada632461",
   "metadata": {},
   "source": [
    "데이터 프레임 생성1"
   ]
  },
  {
   "cell_type": "code",
   "execution_count": 5,
   "id": "54671b8a-66c2-497b-b9d1-21c556a25dc1",
   "metadata": {},
   "outputs": [
    {
     "name": "stdout",
     "output_type": "stream",
     "text": [
      "RangeIndex(start=0, stop=2, step=1)\n",
      "Index(['city', 'pop'], dtype='object')\n"
     ]
    }
   ],
   "source": [
    "#도시별 인구 데이터를 담은 데이터 프레임 생성\n",
    "# 데이터 먼저 만들기(dic)\n",
    "data = {'city' : ['서울','인천'], \n",
    "        'pop' : [990,240]\n",
    "       }\n",
    "# city, pop 열 두개를 담은 데이터 프레임 생성\n",
    "# pd.DataFrame(값, [인덱스],[컬럼])\n",
    "df = pd.DataFrame(data)\n",
    "df\n",
    "\n",
    "# 행열의 이름을 따로 설정하지 않으면 자동으로 설정됨\n",
    "print(df.index) # 행 이름 : 0,1\n",
    "print(df.columns) # 열 이름 : dic의 key(city, pop)"
   ]
  },
  {
   "cell_type": "markdown",
   "id": "f90532e8-cc6c-43ff-bd6f-d1d1bcc6793a",
   "metadata": {},
   "source": [
    "### (1번)\n",
    "학생 성적 데이터를 데이터프레임으로 만들어주세요.\n",
    "첫 번째 열은 학생 이름: [\"철수\", \"영희\", \"민수\"]\n",
    "두 번째 열은 수학 점수: [85, 90, 78]\n",
    "\n",
    "요일별 매출 데이터를 데이터프레임으로 만들어주세요.\n",
    "첫 번째 열은 요일: [\"월\", \"화\", \"수\"]\n",
    "두 번째 열은 매출: [1000, 1200, 900]"
   ]
  },
  {
   "cell_type": "code",
   "execution_count": 11,
   "id": "54fe0620-769e-4ef3-89ac-deae3e298598",
   "metadata": {},
   "outputs": [
    {
     "data": {
      "text/html": [
       "<div>\n",
       "<style scoped>\n",
       "    .dataframe tbody tr th:only-of-type {\n",
       "        vertical-align: middle;\n",
       "    }\n",
       "\n",
       "    .dataframe tbody tr th {\n",
       "        vertical-align: top;\n",
       "    }\n",
       "\n",
       "    .dataframe thead th {\n",
       "        text-align: right;\n",
       "    }\n",
       "</style>\n",
       "<table border=\"1\" class=\"dataframe\">\n",
       "  <thead>\n",
       "    <tr style=\"text-align: right;\">\n",
       "      <th></th>\n",
       "      <th>name</th>\n",
       "      <th>math</th>\n",
       "    </tr>\n",
       "  </thead>\n",
       "  <tbody>\n",
       "    <tr>\n",
       "      <th>0</th>\n",
       "      <td>철수</td>\n",
       "      <td>85</td>\n",
       "    </tr>\n",
       "    <tr>\n",
       "      <th>1</th>\n",
       "      <td>영희</td>\n",
       "      <td>90</td>\n",
       "    </tr>\n",
       "    <tr>\n",
       "      <th>2</th>\n",
       "      <td>민수</td>\n",
       "      <td>78</td>\n",
       "    </tr>\n",
       "  </tbody>\n",
       "</table>\n",
       "</div>"
      ],
      "text/plain": [
       "  name  math\n",
       "0   철수    85\n",
       "1   영희    90\n",
       "2   민수    78"
      ]
     },
     "execution_count": 11,
     "metadata": {},
     "output_type": "execute_result"
    }
   ],
   "source": [
    "# 학생 성적 데이터를 데이터 프레임으로 만들기\n",
    "data = {'name':['철수','영희','민수'], \n",
    "        'math' : [85,90,78]}\n",
    "df = pd.DataFrame(data)\n",
    "df"
   ]
  },
  {
   "cell_type": "code",
   "execution_count": 12,
   "id": "7c79ad02-1adf-4c65-9307-3a3cef3b251a",
   "metadata": {},
   "outputs": [
    {
     "data": {
      "text/html": [
       "<div>\n",
       "<style scoped>\n",
       "    .dataframe tbody tr th:only-of-type {\n",
       "        vertical-align: middle;\n",
       "    }\n",
       "\n",
       "    .dataframe tbody tr th {\n",
       "        vertical-align: top;\n",
       "    }\n",
       "\n",
       "    .dataframe thead th {\n",
       "        text-align: right;\n",
       "    }\n",
       "</style>\n",
       "<table border=\"1\" class=\"dataframe\">\n",
       "  <thead>\n",
       "    <tr style=\"text-align: right;\">\n",
       "      <th></th>\n",
       "      <th>day</th>\n",
       "      <th>sales</th>\n",
       "    </tr>\n",
       "  </thead>\n",
       "  <tbody>\n",
       "    <tr>\n",
       "      <th>0</th>\n",
       "      <td>월</td>\n",
       "      <td>1000</td>\n",
       "    </tr>\n",
       "    <tr>\n",
       "      <th>1</th>\n",
       "      <td>화</td>\n",
       "      <td>1200</td>\n",
       "    </tr>\n",
       "    <tr>\n",
       "      <th>2</th>\n",
       "      <td>수</td>\n",
       "      <td>900</td>\n",
       "    </tr>\n",
       "  </tbody>\n",
       "</table>\n",
       "</div>"
      ],
      "text/plain": [
       "  day  sales\n",
       "0   월   1000\n",
       "1   화   1200\n",
       "2   수    900"
      ]
     },
     "execution_count": 12,
     "metadata": {},
     "output_type": "execute_result"
    }
   ],
   "source": [
    "# 요일별 매출 데이터를 데이터 프레임으로 만들기\n",
    "data = {'day' : ['월','화','수'],\n",
    "        'sales' : [1000,1200,900]}\n",
    "df = pd.DataFrame(data)\n",
    "df"
   ]
  },
  {
   "cell_type": "markdown",
   "id": "2aedb199-62e9-488b-acca-c386b9eda80c",
   "metadata": {},
   "source": [
    "## 데이터 프레임 생성2"
   ]
  },
  {
   "cell_type": "code",
   "execution_count": 20,
   "id": "23459c2d-9a24-4df7-a80e-4aabd073a67b",
   "metadata": {},
   "outputs": [
    {
     "data": {
      "text/plain": [
       "Index(['국어', '영어', '수학'], dtype='object')"
      ]
     },
     "execution_count": 20,
     "metadata": {},
     "output_type": "execute_result"
    }
   ],
   "source": [
    "# 학생 성적 데이터 만들기\n",
    "# dic, listm\n",
    "# 넘파이의 다차원 배열 사용하여 2차원 배열 생성\n",
    "data = np.array([ [60,70,80],[70,80,90],[80,90,100] ])\n",
    "data\n",
    "# 성적 데이터를 담아서 데이터 프레임 생성\n",
    "df = pd.DataFrame(data)\n",
    "df\n",
    "\n",
    "# => 이 점수가 누구의 어떤 점수인지 알기 위해, 이름표 붙이기\n",
    "# 행 이름 : 학생의 이름\n",
    "# 열 이름 : 과목명\n",
    "df = pd.DataFrame(data, \n",
    "                  index=['둘리','또치','도우너'],\n",
    "                  columns=['국어','영어','수학'])\n",
    "df\n",
    "\n",
    "# 행 인덱스\n",
    "df.index # =>['둘리', '또치', '도우너']\n",
    "# 열 컬럼\n",
    "df.columns # =>['국어', '영어', '수학']"
   ]
  },
  {
   "cell_type": "markdown",
   "id": "f151e667-a47b-4c97-ab2a-27ee262f07a2",
   "metadata": {},
   "source": [
    "## 데이터 프레임에서 데이터 꺼내기\n",
    "loc : 행, 열 이름으로 데이터를 꺼낸다  \n",
    "iloc : 행, 열 위치로 데이터를 꺼낸다  \n",
    "[] : 행, 열 이름으로 데이터를 꺼낸다  "
   ]
  },
  {
   "cell_type": "code",
   "execution_count": 24,
   "id": "7b11e8c8-a12c-4644-a31d-fa48992ce057",
   "metadata": {},
   "outputs": [
    {
     "name": "stdout",
     "output_type": "stream",
     "text": [
      "     국어  영어   수학\n",
      "둘리   60  70   80\n",
      "또치   70  80   90\n",
      "도우너  80  90  100\n"
     ]
    },
    {
     "data": {
      "text/plain": [
       "np.int64(100)"
      ]
     },
     "execution_count": 24,
     "metadata": {},
     "output_type": "execute_result"
    }
   ],
   "source": [
    "print(df)\n",
    "#loc[행 이름, 열 이름]\n",
    "\n",
    "df.loc[ : , : ] # 전체 데이터\n",
    "\n",
    "#특정 데이터 꺼내기\n",
    "df.loc['둘리', '국어'] # => 60\n",
    "# 도우너의 수학 점수\n",
    "df.loc['도우너', '수학'] # =>100"
   ]
  },
  {
   "cell_type": "code",
   "execution_count": 26,
   "id": "95ccb2bc-78c3-4c05-b734-0f9c1fd6469a",
   "metadata": {},
   "outputs": [
    {
     "data": {
      "text/plain": [
       "둘리     70\n",
       "또치     80\n",
       "도우너    90\n",
       "Name: 영어, dtype: int64"
      ]
     },
     "execution_count": 26,
     "metadata": {},
     "output_type": "execute_result"
    }
   ],
   "source": [
    "# [열 이름] => 프레임에서 []를 쓰면, 열만 입력 가능! = 컬럼 이름만 \n",
    "# 모든 학생의 국어 점수\n",
    "df['국어']\n",
    "# 모든 학생의 영어 점수\n",
    "df['영어']"
   ]
  },
  {
   "cell_type": "markdown",
   "id": "22c2ab74-0917-4453-bebf-fe4e639c4b00",
   "metadata": {},
   "source": [
    "## 데이터 프레임에 새로운 열 추가"
   ]
  },
  {
   "cell_type": "code",
   "execution_count": 33,
   "id": "9ec408cd-0a3f-497e-a313-1570371d1475",
   "metadata": {},
   "outputs": [
    {
     "data": {
      "text/html": [
       "<div>\n",
       "<style scoped>\n",
       "    .dataframe tbody tr th:only-of-type {\n",
       "        vertical-align: middle;\n",
       "    }\n",
       "\n",
       "    .dataframe tbody tr th {\n",
       "        vertical-align: top;\n",
       "    }\n",
       "\n",
       "    .dataframe thead th {\n",
       "        text-align: right;\n",
       "    }\n",
       "</style>\n",
       "<table border=\"1\" class=\"dataframe\">\n",
       "  <thead>\n",
       "    <tr style=\"text-align: right;\">\n",
       "      <th></th>\n",
       "      <th>국어</th>\n",
       "      <th>영어</th>\n",
       "      <th>미술</th>\n",
       "      <th>수학</th>\n",
       "      <th>과학</th>\n",
       "    </tr>\n",
       "  </thead>\n",
       "  <tbody>\n",
       "    <tr>\n",
       "      <th>둘리</th>\n",
       "      <td>60</td>\n",
       "      <td>70</td>\n",
       "      <td>70</td>\n",
       "      <td>80</td>\n",
       "      <td>60</td>\n",
       "    </tr>\n",
       "    <tr>\n",
       "      <th>또치</th>\n",
       "      <td>70</td>\n",
       "      <td>80</td>\n",
       "      <td>80</td>\n",
       "      <td>90</td>\n",
       "      <td>70</td>\n",
       "    </tr>\n",
       "    <tr>\n",
       "      <th>도우너</th>\n",
       "      <td>80</td>\n",
       "      <td>90</td>\n",
       "      <td>90</td>\n",
       "      <td>100</td>\n",
       "      <td>80</td>\n",
       "    </tr>\n",
       "  </tbody>\n",
       "</table>\n",
       "</div>"
      ],
      "text/plain": [
       "     국어  영어  미술   수학  과학\n",
       "둘리   60  70  70   80  60\n",
       "또치   70  80  80   90  70\n",
       "도우너  80  90  90  100  80"
      ]
     },
     "execution_count": 33,
     "metadata": {},
     "output_type": "execute_result"
    }
   ],
   "source": [
    "# 새로운 과목 추가\n",
    "# 새로운 열 = 리스트\n",
    "# 맨 뒤에 추가됨\n",
    "# df['과학'] = [60,70,80]\n",
    "\n",
    "# 이번엔 2번째 위치에 '미술' 과목을 추가\n",
    "# insert(위치, 컬럼명, 값 리스트)\n",
    "#df.insert(2, '미술', [70,80,90])\n",
    "df\n"
   ]
  },
  {
   "cell_type": "markdown",
   "id": "7f716ed7-89c9-45f6-8aab-033e7209d1b6",
   "metadata": {},
   "source": [
    "## 데이터 프레임에서 열 삭제\n",
    "del : 원본에서 바로 삭제  \n",
    "drop : 원본은 그대로 , 결과만 보여줌  "
   ]
  },
  {
   "cell_type": "code",
   "execution_count": 42,
   "id": "ed37fe9a-6d35-43b9-beb1-5a4adb70b946",
   "metadata": {},
   "outputs": [
    {
     "data": {
      "text/html": [
       "<div>\n",
       "<style scoped>\n",
       "    .dataframe tbody tr th:only-of-type {\n",
       "        vertical-align: middle;\n",
       "    }\n",
       "\n",
       "    .dataframe tbody tr th {\n",
       "        vertical-align: top;\n",
       "    }\n",
       "\n",
       "    .dataframe thead th {\n",
       "        text-align: right;\n",
       "    }\n",
       "</style>\n",
       "<table border=\"1\" class=\"dataframe\">\n",
       "  <thead>\n",
       "    <tr style=\"text-align: right;\">\n",
       "      <th></th>\n",
       "      <th>국어</th>\n",
       "      <th>영어</th>\n",
       "      <th>미술</th>\n",
       "      <th>수학</th>\n",
       "    </tr>\n",
       "  </thead>\n",
       "  <tbody>\n",
       "    <tr>\n",
       "      <th>둘리</th>\n",
       "      <td>60</td>\n",
       "      <td>70</td>\n",
       "      <td>70</td>\n",
       "      <td>80</td>\n",
       "    </tr>\n",
       "    <tr>\n",
       "      <th>도우너</th>\n",
       "      <td>80</td>\n",
       "      <td>90</td>\n",
       "      <td>90</td>\n",
       "      <td>100</td>\n",
       "    </tr>\n",
       "  </tbody>\n",
       "</table>\n",
       "</div>"
      ],
      "text/plain": [
       "     국어  영어  미술   수학\n",
       "둘리   60  70  70   80\n",
       "도우너  80  90  90  100"
      ]
     },
     "execution_count": 42,
     "metadata": {},
     "output_type": "execute_result"
    }
   ],
   "source": [
    "# 과학 과목 삭제\n",
    "# 선택 => 삭제\n",
    "#del df['과학']\n",
    "\n",
    "# 수학 과목 삭제\n",
    "# drop(형 또는 열의 이름, 방향)\n",
    "# axis = 1 또는 axis = 'columns'\n",
    "#result = df.drop('수학', axis = 1) # axis=(축, 방향)\n",
    "#print(result)\n",
    "#df\n",
    "# drop은 원본에 영향이 없다\n",
    "# 결과를 반영하려면 , 교체( result => df)\n",
    "#df = df.drop('수학', axis = 1)\n",
    "\n",
    "# 또치 학생 삭제 (행 삭제)\n",
    "# axis = 0 또는 axis = 'row'\n",
    "# drop은 원본에 영향 없음!!\n",
    "df = df.drop('또치', axis = 0)\n",
    "df"
   ]
  },
  {
   "cell_type": "markdown",
   "id": "19c1b1d8-0ed1-40fc-86e4-300e28023f59",
   "metadata": {},
   "source": [
    "## 데이터 프레임 연습문제"
   ]
  },
  {
   "cell_type": "markdown",
   "id": "4e88a356-c0b5-473a-9f35-7231c534ceba",
   "metadata": {},
   "source": [
    "### (2번)\n",
    "과일 판매 데이터를 데이터프레임으로 만들어주세요.  \n",
    "값은 [[30, 50], [20, 40]]  \n",
    "행 이름(index)은 ['사과', '배']  \n",
    "열 이름(columns)은 ['판매량', '재고']  \n",
    "  \n",
    "1. 사과의 판매량을 조회하세요. (결과: 30)\n",
    "2. 새로운 열 '가격'을 추가하고, 사과는 1000원, 배는 1200원으로 입력하세요."
   ]
  },
  {
   "cell_type": "code",
   "execution_count": 45,
   "id": "511f98b1-b886-41e8-87e1-9f5f93489fc2",
   "metadata": {},
   "outputs": [
    {
     "data": {
      "text/html": [
       "<div>\n",
       "<style scoped>\n",
       "    .dataframe tbody tr th:only-of-type {\n",
       "        vertical-align: middle;\n",
       "    }\n",
       "\n",
       "    .dataframe tbody tr th {\n",
       "        vertical-align: top;\n",
       "    }\n",
       "\n",
       "    .dataframe thead th {\n",
       "        text-align: right;\n",
       "    }\n",
       "</style>\n",
       "<table border=\"1\" class=\"dataframe\">\n",
       "  <thead>\n",
       "    <tr style=\"text-align: right;\">\n",
       "      <th></th>\n",
       "      <th>판매량</th>\n",
       "      <th>재고</th>\n",
       "    </tr>\n",
       "  </thead>\n",
       "  <tbody>\n",
       "    <tr>\n",
       "      <th>사과</th>\n",
       "      <td>30</td>\n",
       "      <td>50</td>\n",
       "    </tr>\n",
       "    <tr>\n",
       "      <th>배</th>\n",
       "      <td>20</td>\n",
       "      <td>40</td>\n",
       "    </tr>\n",
       "  </tbody>\n",
       "</table>\n",
       "</div>"
      ],
      "text/plain": [
       "    판매량  재고\n",
       "사과   30  50\n",
       "배    20  40"
      ]
     },
     "execution_count": 45,
     "metadata": {},
     "output_type": "execute_result"
    }
   ],
   "source": [
    "data = np.array([[30,50],[20,40]])\n",
    "df = pd.DataFrame(data, \n",
    "                  index=['사과','배'],\n",
    "                  columns=['판매량','재고'])\n",
    "df"
   ]
  },
  {
   "cell_type": "code",
   "execution_count": 50,
   "id": "1e713408-3c0e-48e9-873c-798f3cf30578",
   "metadata": {},
   "outputs": [
    {
     "data": {
      "text/plain": [
       "np.int64(30)"
      ]
     },
     "execution_count": 50,
     "metadata": {},
     "output_type": "execute_result"
    }
   ],
   "source": [
    "# 1.사과의 판매량을 조회하세요. (결과: 30)\n",
    "df.loc['사과','판매량']"
   ]
  },
  {
   "cell_type": "code",
   "execution_count": 46,
   "id": "12b892c7-e6bf-40f7-a3f0-284dc7d5fea8",
   "metadata": {},
   "outputs": [
    {
     "data": {
      "text/html": [
       "<div>\n",
       "<style scoped>\n",
       "    .dataframe tbody tr th:only-of-type {\n",
       "        vertical-align: middle;\n",
       "    }\n",
       "\n",
       "    .dataframe tbody tr th {\n",
       "        vertical-align: top;\n",
       "    }\n",
       "\n",
       "    .dataframe thead th {\n",
       "        text-align: right;\n",
       "    }\n",
       "</style>\n",
       "<table border=\"1\" class=\"dataframe\">\n",
       "  <thead>\n",
       "    <tr style=\"text-align: right;\">\n",
       "      <th></th>\n",
       "      <th>판매량</th>\n",
       "      <th>재고</th>\n",
       "      <th>가격</th>\n",
       "    </tr>\n",
       "  </thead>\n",
       "  <tbody>\n",
       "    <tr>\n",
       "      <th>사과</th>\n",
       "      <td>30</td>\n",
       "      <td>50</td>\n",
       "      <td>1000</td>\n",
       "    </tr>\n",
       "    <tr>\n",
       "      <th>배</th>\n",
       "      <td>20</td>\n",
       "      <td>40</td>\n",
       "      <td>1200</td>\n",
       "    </tr>\n",
       "  </tbody>\n",
       "</table>\n",
       "</div>"
      ],
      "text/plain": [
       "    판매량  재고    가격\n",
       "사과   30  50  1000\n",
       "배    20  40  1200"
      ]
     },
     "execution_count": 46,
     "metadata": {},
     "output_type": "execute_result"
    }
   ],
   "source": [
    "# 2.새로운 열 '가격'을 추가하고, 사과는 1000원, 배는 1200원으로 입력하세요.\n",
    "df['가격'] = [1000,1200]\n",
    "df"
   ]
  },
  {
   "cell_type": "markdown",
   "id": "64d64ce1-d522-401e-9e1a-a8ad6b186b13",
   "metadata": {},
   "source": [
    "## (3번)\n",
    "도시 데이터를 데이터프레임으로 만들어주세요.\n",
    "값은 [[950, 1200], [500, 800]]  \n",
    "행 이름(index)은 ['서울', '부산']  \n",
    "열 이름(columns)은 ['인구', '면적']  \n",
    "\n",
    "1. 서울의 면적을 조회하세요. (결과: 1200)  \n",
    "2. 새로운 열 '특산물'을 추가하고, 서울은 \"김치\", 부산은 \"어묵\"으로 입력하세요."
   ]
  },
  {
   "cell_type": "code",
   "execution_count": 51,
   "id": "6f97f08d-bd95-4471-985f-e59fe18cc1ee",
   "metadata": {},
   "outputs": [
    {
     "data": {
      "text/html": [
       "<div>\n",
       "<style scoped>\n",
       "    .dataframe tbody tr th:only-of-type {\n",
       "        vertical-align: middle;\n",
       "    }\n",
       "\n",
       "    .dataframe tbody tr th {\n",
       "        vertical-align: top;\n",
       "    }\n",
       "\n",
       "    .dataframe thead th {\n",
       "        text-align: right;\n",
       "    }\n",
       "</style>\n",
       "<table border=\"1\" class=\"dataframe\">\n",
       "  <thead>\n",
       "    <tr style=\"text-align: right;\">\n",
       "      <th></th>\n",
       "      <th>인구</th>\n",
       "      <th>면적</th>\n",
       "    </tr>\n",
       "  </thead>\n",
       "  <tbody>\n",
       "    <tr>\n",
       "      <th>서울</th>\n",
       "      <td>950</td>\n",
       "      <td>1200</td>\n",
       "    </tr>\n",
       "    <tr>\n",
       "      <th>부산</th>\n",
       "      <td>500</td>\n",
       "      <td>800</td>\n",
       "    </tr>\n",
       "  </tbody>\n",
       "</table>\n",
       "</div>"
      ],
      "text/plain": [
       "     인구    면적\n",
       "서울  950  1200\n",
       "부산  500   800"
      ]
     },
     "execution_count": 51,
     "metadata": {},
     "output_type": "execute_result"
    }
   ],
   "source": [
    "data = np.array([[950,1200],[500,800]])\n",
    "df = pd.DataFrame(data, \n",
    "                  index=['서울','부산'],\n",
    "                  columns=['인구','면적'])\n",
    "df"
   ]
  },
  {
   "cell_type": "code",
   "execution_count": 53,
   "id": "c0c94f51-79a9-4679-a3a6-5251833f1e7f",
   "metadata": {},
   "outputs": [
    {
     "data": {
      "text/plain": [
       "np.int64(1200)"
      ]
     },
     "execution_count": 53,
     "metadata": {},
     "output_type": "execute_result"
    }
   ],
   "source": [
    "# 1.서울의 면적을 조회하세요. (결과: 1200)\n",
    "df.loc['서울','면적']"
   ]
  },
  {
   "cell_type": "code",
   "execution_count": 54,
   "id": "5afd9fd5-d7c2-4ecb-8c7b-5a5aea3360c1",
   "metadata": {},
   "outputs": [
    {
     "data": {
      "text/html": [
       "<div>\n",
       "<style scoped>\n",
       "    .dataframe tbody tr th:only-of-type {\n",
       "        vertical-align: middle;\n",
       "    }\n",
       "\n",
       "    .dataframe tbody tr th {\n",
       "        vertical-align: top;\n",
       "    }\n",
       "\n",
       "    .dataframe thead th {\n",
       "        text-align: right;\n",
       "    }\n",
       "</style>\n",
       "<table border=\"1\" class=\"dataframe\">\n",
       "  <thead>\n",
       "    <tr style=\"text-align: right;\">\n",
       "      <th></th>\n",
       "      <th>인구</th>\n",
       "      <th>면적</th>\n",
       "      <th>특산물</th>\n",
       "    </tr>\n",
       "  </thead>\n",
       "  <tbody>\n",
       "    <tr>\n",
       "      <th>서울</th>\n",
       "      <td>950</td>\n",
       "      <td>1200</td>\n",
       "      <td>김치</td>\n",
       "    </tr>\n",
       "    <tr>\n",
       "      <th>부산</th>\n",
       "      <td>500</td>\n",
       "      <td>800</td>\n",
       "      <td>어묵</td>\n",
       "    </tr>\n",
       "  </tbody>\n",
       "</table>\n",
       "</div>"
      ],
      "text/plain": [
       "     인구    면적 특산물\n",
       "서울  950  1200  김치\n",
       "부산  500   800  어묵"
      ]
     },
     "execution_count": 54,
     "metadata": {},
     "output_type": "execute_result"
    }
   ],
   "source": [
    "# 2.새로운 열 '특산물'을 추가하고, 서울은 \"김치\", 부산은 \"어묵\"으로 입력하세요.\n",
    "df['특산물'] = ['김치','어묵']\n",
    "df"
   ]
  },
  {
   "cell_type": "code",
   "execution_count": null,
   "id": "8b1f6c28-66fc-4eb1-8e7e-d1fb99ebf7c7",
   "metadata": {},
   "outputs": [],
   "source": []
  },
  {
   "cell_type": "markdown",
   "id": "52535414-8cae-499d-a7f0-63413dcc79c3",
   "metadata": {},
   "source": [
    "## (4번)\n",
    "도서 데이터를 데이터프레임으로 만들어주세요.  \n",
    "값은 [[15000, '홍길동전'], [20000, '해리포터']]  \n",
    "행 이름(index)은 ['책1', '책2']  \n",
    "열 이름(columns)은 ['가격', '제목']  \n",
    "\n",
    "1. 책2의 가격을 조회하세요. (결과: 20000)  \n",
    "2. 새로운 열 '저자'를 가격 뒤에 추가하고, 책1은 \"허균\", 책2는 \"J.K. 롤링\"으로 입력하세요."
   ]
  },
  {
   "cell_type": "code",
   "execution_count": 68,
   "id": "736ad4b2-abe1-4969-9c49-06177835f96a",
   "metadata": {},
   "outputs": [
    {
     "data": {
      "text/html": [
       "<div>\n",
       "<style scoped>\n",
       "    .dataframe tbody tr th:only-of-type {\n",
       "        vertical-align: middle;\n",
       "    }\n",
       "\n",
       "    .dataframe tbody tr th {\n",
       "        vertical-align: top;\n",
       "    }\n",
       "\n",
       "    .dataframe thead th {\n",
       "        text-align: right;\n",
       "    }\n",
       "</style>\n",
       "<table border=\"1\" class=\"dataframe\">\n",
       "  <thead>\n",
       "    <tr style=\"text-align: right;\">\n",
       "      <th></th>\n",
       "      <th>가격</th>\n",
       "      <th>제목</th>\n",
       "    </tr>\n",
       "  </thead>\n",
       "  <tbody>\n",
       "    <tr>\n",
       "      <th>책1</th>\n",
       "      <td>15000</td>\n",
       "      <td>홍길동전</td>\n",
       "    </tr>\n",
       "    <tr>\n",
       "      <th>책2</th>\n",
       "      <td>20000</td>\n",
       "      <td>해리포터</td>\n",
       "    </tr>\n",
       "  </tbody>\n",
       "</table>\n",
       "</div>"
      ],
      "text/plain": [
       "       가격    제목\n",
       "책1  15000  홍길동전\n",
       "책2  20000  해리포터"
      ]
     },
     "execution_count": 68,
     "metadata": {},
     "output_type": "execute_result"
    }
   ],
   "source": [
    "data = np.array([[15000,'홍길동전'],[20000,'해리포터']])\n",
    "df = pd.DataFrame(data, \n",
    "                  index=['책1','책2'],\n",
    "                  columns=['가격','제목'])\n",
    "df"
   ]
  },
  {
   "cell_type": "code",
   "execution_count": 69,
   "id": "9ba2d080-1367-4096-a0f6-26d7578529b2",
   "metadata": {},
   "outputs": [
    {
     "data": {
      "text/plain": [
       "'20000'"
      ]
     },
     "execution_count": 69,
     "metadata": {},
     "output_type": "execute_result"
    }
   ],
   "source": [
    "# 1.책2의 가격을 조회하세요. (결과: 20000)\n",
    "# 행, 열 모두 선택시에는 => loc , iloc 사용\n",
    "df.loc['책2','가격']"
   ]
  },
  {
   "cell_type": "code",
   "execution_count": 70,
   "id": "73369336-4a20-4217-9a1f-a19a70dfcec8",
   "metadata": {},
   "outputs": [
    {
     "data": {
      "text/html": [
       "<div>\n",
       "<style scoped>\n",
       "    .dataframe tbody tr th:only-of-type {\n",
       "        vertical-align: middle;\n",
       "    }\n",
       "\n",
       "    .dataframe tbody tr th {\n",
       "        vertical-align: top;\n",
       "    }\n",
       "\n",
       "    .dataframe thead th {\n",
       "        text-align: right;\n",
       "    }\n",
       "</style>\n",
       "<table border=\"1\" class=\"dataframe\">\n",
       "  <thead>\n",
       "    <tr style=\"text-align: right;\">\n",
       "      <th></th>\n",
       "      <th>가격</th>\n",
       "      <th>저자</th>\n",
       "      <th>제목</th>\n",
       "    </tr>\n",
       "  </thead>\n",
       "  <tbody>\n",
       "    <tr>\n",
       "      <th>책1</th>\n",
       "      <td>15000</td>\n",
       "      <td>허균</td>\n",
       "      <td>홍길동전</td>\n",
       "    </tr>\n",
       "    <tr>\n",
       "      <th>책2</th>\n",
       "      <td>20000</td>\n",
       "      <td>J.K.롤링</td>\n",
       "      <td>해리포터</td>\n",
       "    </tr>\n",
       "  </tbody>\n",
       "</table>\n",
       "</div>"
      ],
      "text/plain": [
       "       가격      저자    제목\n",
       "책1  15000      허균  홍길동전\n",
       "책2  20000  J.K.롤링  해리포터"
      ]
     },
     "execution_count": 70,
     "metadata": {},
     "output_type": "execute_result"
    }
   ],
   "source": [
    "# 2.새로운 열 '저자'를 가격 뒤에 추가하고, 책1은 \"허균\", 책2는 \"J.K. 롤링\"으로 입력하세요\n",
    "df.insert(1, '저자', ['허균','J.K.롤링'])\n",
    "df"
   ]
  },
  {
   "cell_type": "markdown",
   "id": "3c7f18f6-eb0a-4dc3-9e5e-221ce07df31f",
   "metadata": {},
   "source": [
    "## (5번)\n",
    "영화 데이터를 데이터프레임으로 만들어주세요.\n",
    "값은 [[9.0, 14000], [8.2, 9500]]  \n",
    "행 이름(index)은 ['기생충', '인터스텔라']  \n",
    "열 이름(columns)은 ['평점', '관객수']  \n",
    "\n",
    "1. 영화 기생충의 평점을 조회하세요. (결과: 9.0)  \n",
    "2. '관객수' 열을 삭제하세요."
   ]
  },
  {
   "cell_type": "code",
   "execution_count": 71,
   "id": "62377cd2-e283-40c1-ae7f-9649a4da82dc",
   "metadata": {},
   "outputs": [
    {
     "data": {
      "text/html": [
       "<div>\n",
       "<style scoped>\n",
       "    .dataframe tbody tr th:only-of-type {\n",
       "        vertical-align: middle;\n",
       "    }\n",
       "\n",
       "    .dataframe tbody tr th {\n",
       "        vertical-align: top;\n",
       "    }\n",
       "\n",
       "    .dataframe thead th {\n",
       "        text-align: right;\n",
       "    }\n",
       "</style>\n",
       "<table border=\"1\" class=\"dataframe\">\n",
       "  <thead>\n",
       "    <tr style=\"text-align: right;\">\n",
       "      <th></th>\n",
       "      <th>평점</th>\n",
       "      <th>관객수</th>\n",
       "    </tr>\n",
       "  </thead>\n",
       "  <tbody>\n",
       "    <tr>\n",
       "      <th>기생충</th>\n",
       "      <td>9.0</td>\n",
       "      <td>14000.0</td>\n",
       "    </tr>\n",
       "    <tr>\n",
       "      <th>인터스텔라</th>\n",
       "      <td>8.2</td>\n",
       "      <td>9500.0</td>\n",
       "    </tr>\n",
       "  </tbody>\n",
       "</table>\n",
       "</div>"
      ],
      "text/plain": [
       "        평점      관객수\n",
       "기생충    9.0  14000.0\n",
       "인터스텔라  8.2   9500.0"
      ]
     },
     "execution_count": 71,
     "metadata": {},
     "output_type": "execute_result"
    }
   ],
   "source": [
    "data = np.array([[9.0,14000],[8.2,9500]])\n",
    "df = pd.DataFrame(data, \n",
    "                  index=['기생충','인터스텔라'],\n",
    "                  columns=['평점','관객수'])\n",
    "df"
   ]
  },
  {
   "cell_type": "code",
   "execution_count": 72,
   "id": "6cd0cb3a-b22f-416d-90d5-e8db899a7bcd",
   "metadata": {},
   "outputs": [
    {
     "data": {
      "text/plain": [
       "np.float64(9.0)"
      ]
     },
     "execution_count": 72,
     "metadata": {},
     "output_type": "execute_result"
    }
   ],
   "source": [
    "# 1.영화 기생충의 평점을 조회하세요. (결과: 9.0)\n",
    "df.loc['기생충','평점']"
   ]
  },
  {
   "cell_type": "code",
   "execution_count": 74,
   "id": "bf6a007b-27fa-412b-a297-fc0cab1f0d00",
   "metadata": {},
   "outputs": [
    {
     "name": "stdout",
     "output_type": "stream",
     "text": [
      "        평점\n",
      "기생충    9.0\n",
      "인터스텔라  8.2\n"
     ]
    }
   ],
   "source": [
    "# 2.'관객수' 열을 삭제하세요.\n",
    "# 1) del 이용 \n",
    "#del df['관객수']\n",
    "# 2)result 이용\n",
    "#result = df.drop('관객수', axis = 1)\n",
    "#print(result)\n",
    "#df"
   ]
  },
  {
   "cell_type": "markdown",
   "id": "ba99cc86-a833-4d25-aba5-02325a9d48de",
   "metadata": {},
   "source": [
    "## 4.3 데이터 계산과 처리"
   ]
  },
  {
   "cell_type": "markdown",
   "id": "d4b15f70-a99c-4616-825b-55291ad39cc3",
   "metadata": {},
   "source": [
    "시리즈에서 계산과 조건 검색"
   ]
  },
  {
   "cell_type": "code",
   "execution_count": 76,
   "id": "8a41757c-b5ec-4523-b1af-d50e5b0ae4c0",
   "metadata": {},
   "outputs": [
    {
     "name": "stdout",
     "output_type": "stream",
     "text": [
      "-1\n",
      "0\n",
      "1\n",
      "2\n",
      "3\n"
     ]
    }
   ],
   "source": [
    "# 숫자가 담긴 리스트 생성\n",
    "lis = [-2,-1,0,1,2]\n",
    "\n",
    "# 모든 원소에 1만큼 더하기\n",
    "for i in lis:\n",
    "    print(i+1)"
   ]
  },
  {
   "cell_type": "code",
   "execution_count": 75,
   "id": "211016b5-5474-47f5-b6d3-63741847c915",
   "metadata": {},
   "outputs": [
    {
     "data": {
      "text/plain": [
       "0   -1\n",
       "1    0\n",
       "2    1\n",
       "3    2\n",
       "4    3\n",
       "dtype: int64"
      ]
     },
     "execution_count": 75,
     "metadata": {},
     "output_type": "execute_result"
    }
   ],
   "source": [
    "# 숫자가 담긴 시리즈 생성\n",
    "s = pd.Series([-2,-1,0,1,2])\n",
    "\n",
    "# 모든 원소에 1만큼 더하기\n",
    "s + 1\n",
    "s.add(1)\n",
    "\n",
    "# => 판다스의 시리즈는 for 없이 반복 수행 가능\n",
    "# 위의 계산식은 자동으로 더하기가 5번 반복 수행됨"
   ]
  },
  {
   "cell_type": "code",
   "execution_count": 79,
   "id": "6cd78fb6-4603-4462-a5fa-46112be43e24",
   "metadata": {},
   "outputs": [
    {
     "data": {
      "text/plain": [
       "3    1\n",
       "4    2\n",
       "dtype: int64"
      ]
     },
     "execution_count": 79,
     "metadata": {},
     "output_type": "execute_result"
    }
   ],
   "source": [
    "s\n",
    "# 조건 검색( 양수만 찾기 )\n",
    "# 불리언 배열 만들기\n",
    "# series > int => 시리즈의 전체 데이터와 0을 비교\n",
    "s > 0\n",
    "# 불리언 배열은 시리즈의 인덱스로 사용할 수 있다\n",
    "# true인 값만 남음\n",
    "s[s > 0]\n"
   ]
  },
  {
   "cell_type": "code",
   "execution_count": 83,
   "id": "93fdd818-a684-4591-ae47-ba4420e72397",
   "metadata": {},
   "outputs": [
    {
     "data": {
      "text/plain": [
       "1     2\n",
       "3     4\n",
       "5     6\n",
       "7     8\n",
       "9    10\n",
       "dtype: int64"
      ]
     },
     "execution_count": 83,
     "metadata": {},
     "output_type": "execute_result"
    }
   ],
   "source": [
    "# 조건 검색2(짝수만 찾기)\n",
    "s = pd.Series(np.arange(1,11))\n",
    "s\n",
    "# 짝수만 찾기 => 0이 나오면 짝수\n",
    "s % 2 == 0\n",
    "# bool 배열을 시리즈의 인덱스로 사용\n",
    "s[s % 2 ==0]"
   ]
  },
  {
   "cell_type": "markdown",
   "id": "6ce6d703-a695-4f20-9669-f0d919ce6c7a",
   "metadata": {},
   "source": [
    "# 시리즈 계산 연습문제"
   ]
  },
  {
   "cell_type": "markdown",
   "id": "7cb2e539-8925-47fd-b35f-c5d6f41e7471",
   "metadata": {},
   "source": [
    "## (1번)\n",
    "학생 점수 데이터를 시리즈로 만들어주세요.\n",
    "값은 점수 [80, 90, 75, 85] 이고, 인덱스는 과목 ['국어', '영어', '수학', '과학'] 입니다.\n",
    "\n",
    "1. 총점을 구하세요.\n",
    "2. 평균 점수를 구하세요.\n",
    "3. 가장 높은 점수를 구하세요.\n",
    "4. 가장 낮은 점수를 구하세요."
   ]
  },
  {
   "cell_type": "code",
   "execution_count": 34,
   "id": "fb3af4a5-424e-4438-b0fb-c0169bfdb25d",
   "metadata": {},
   "outputs": [
    {
     "data": {
      "text/plain": [
       "국어    80\n",
       "영어    90\n",
       "수학    75\n",
       "과학    85\n",
       "dtype: int64"
      ]
     },
     "execution_count": 34,
     "metadata": {},
     "output_type": "execute_result"
    }
   ],
   "source": [
    "s = pd.Series([80,90,75,85],index=['국어', '영어' ,'수학','과학'])\n",
    "s"
   ]
  },
  {
   "cell_type": "code",
   "execution_count": null,
   "id": "3edb7b67-3a2c-4c2a-b5a9-3931dd87b065",
   "metadata": {},
   "outputs": [],
   "source": [
    "# 자주 사용하는 통계 함수 : sum mean max min\n",
    "# numpy의 배열, pandas의 시리즈와 데이터 프레임 모두 사용 가능하다"
   ]
  },
  {
   "cell_type": "code",
   "execution_count": 100,
   "id": "96d8a0dd-43d2-4358-949f-f46a38b12bea",
   "metadata": {},
   "outputs": [
    {
     "name": "stdout",
     "output_type": "stream",
     "text": [
      "총점: 330\n"
     ]
    }
   ],
   "source": [
    "# 1.총점을 구하세요.\n",
    "print(\"총점:\", s.sum())"
   ]
  },
  {
   "cell_type": "code",
   "execution_count": 103,
   "id": "14ddc449-80d7-4716-9a41-b3a4dc1bce62",
   "metadata": {},
   "outputs": [
    {
     "name": "stdout",
     "output_type": "stream",
     "text": [
      "평균: 82.5\n"
     ]
    }
   ],
   "source": [
    "# 2.평균 점수를 구하세요.\n",
    "print(\"평균:\", s.mean())"
   ]
  },
  {
   "cell_type": "code",
   "execution_count": 101,
   "id": "32210b42-be5a-49fe-9c4b-54842058f64b",
   "metadata": {},
   "outputs": [
    {
     "name": "stdout",
     "output_type": "stream",
     "text": [
      "가장 높은 점수: 90\n"
     ]
    }
   ],
   "source": [
    "# 3.가장 높은 점수를 구하세요.\n",
    "print(\"가장 높은 점수:\", s.max())"
   ]
  },
  {
   "cell_type": "code",
   "execution_count": 102,
   "id": "ea920d52-87c5-476e-902d-ced274ac01db",
   "metadata": {},
   "outputs": [
    {
     "name": "stdout",
     "output_type": "stream",
     "text": [
      "가장 낮은 점수: 75\n"
     ]
    }
   ],
   "source": [
    "# 4.가장 낮은 점수를 구하세요.\n",
    "print(\"가장 낮은 점수:\", s.min())"
   ]
  },
  {
   "cell_type": "markdown",
   "id": "5992373b-d8d4-46f9-8aff-15af7c9744e6",
   "metadata": {},
   "source": [
    "## (2번)\n",
    "일주일 동안의 기온 데이터를 시리즈로 만들어주세요.\n",
    "값은 기온 [2, 5, -1, 0, 7, -3, 4] 이고, 인덱스는 요일 ['월', '화', '수', '목', '금', '토', '일'] 입니다.\n",
    "\n",
    "1. 영상(0°C 이상)인 날만 골라내세요."
   ]
  },
  {
   "cell_type": "code",
   "execution_count": 95,
   "id": "ca55ae51-8daf-4721-9c3d-3ab799d54dea",
   "metadata": {},
   "outputs": [
    {
     "data": {
      "text/plain": [
       "월    2\n",
       "화    5\n",
       "수   -1\n",
       "목    0\n",
       "금    7\n",
       "토   -3\n",
       "일    4\n",
       "dtype: int64"
      ]
     },
     "execution_count": 95,
     "metadata": {},
     "output_type": "execute_result"
    }
   ],
   "source": [
    "s = pd.Series([2,5,-1,0,7,-3,4],index=['월', '화' ,'수','목','금','토','일'])\n",
    "s"
   ]
  },
  {
   "cell_type": "code",
   "execution_count": 97,
   "id": "9bcc9f0e-8cc4-4bc5-bf4d-d203611fc564",
   "metadata": {},
   "outputs": [
    {
     "data": {
      "text/plain": [
       "월    2\n",
       "화    5\n",
       "목    0\n",
       "금    7\n",
       "일    4\n",
       "dtype: int64"
      ]
     },
     "execution_count": 97,
     "metadata": {},
     "output_type": "execute_result"
    }
   ],
   "source": [
    "# 1.영상(0°C 이상)인 날만 골라내세요.\n",
    "s >=0\n",
    "s[s>=0]"
   ]
  },
  {
   "cell_type": "markdown",
   "id": "df0f69dc-af83-4d28-911f-4d90f81c17c5",
   "metadata": {},
   "source": [
    "## 데이터 프레임에서 계산과 처리"
   ]
  },
  {
   "cell_type": "code",
   "execution_count": 21,
   "id": "3bbbdca5-c90f-40d7-8341-97593a70eec7",
   "metadata": {},
   "outputs": [],
   "source": [
    "import numpy as np\n",
    "import pandas as pd"
   ]
  },
  {
   "cell_type": "code",
   "execution_count": 22,
   "id": "c61d83b1-020b-4b9c-9de7-63b58b98a483",
   "metadata": {},
   "outputs": [
    {
     "data": {
      "text/html": [
       "<div>\n",
       "<style scoped>\n",
       "    .dataframe tbody tr th:only-of-type {\n",
       "        vertical-align: middle;\n",
       "    }\n",
       "\n",
       "    .dataframe tbody tr th {\n",
       "        vertical-align: top;\n",
       "    }\n",
       "\n",
       "    .dataframe thead th {\n",
       "        text-align: right;\n",
       "    }\n",
       "</style>\n",
       "<table border=\"1\" class=\"dataframe\">\n",
       "  <thead>\n",
       "    <tr style=\"text-align: right;\">\n",
       "      <th></th>\n",
       "      <th>국어</th>\n",
       "      <th>영어</th>\n",
       "      <th>수학</th>\n",
       "    </tr>\n",
       "  </thead>\n",
       "  <tbody>\n",
       "    <tr>\n",
       "      <th>둘리</th>\n",
       "      <td>60</td>\n",
       "      <td>70</td>\n",
       "      <td>80</td>\n",
       "    </tr>\n",
       "    <tr>\n",
       "      <th>또치</th>\n",
       "      <td>70</td>\n",
       "      <td>80</td>\n",
       "      <td>90</td>\n",
       "    </tr>\n",
       "    <tr>\n",
       "      <th>도우너</th>\n",
       "      <td>80</td>\n",
       "      <td>90</td>\n",
       "      <td>100</td>\n",
       "    </tr>\n",
       "  </tbody>\n",
       "</table>\n",
       "</div>"
      ],
      "text/plain": [
       "     국어  영어   수학\n",
       "둘리   60  70   80\n",
       "또치   70  80   90\n",
       "도우너  80  90  100"
      ]
     },
     "execution_count": 22,
     "metadata": {},
     "output_type": "execute_result"
    }
   ],
   "source": [
    "# 학생 성적 데이터 만들기\n",
    "data = np.array([[60,70,80],[70,80,90],[80,90,100]])\n",
    "# 성적 데이터를 담아서 프레임 생성\n",
    "df = pd.DataFrame(data,  index = ['둘리','또치','도우너'],\n",
    "                        columns = ['국어','영어','수학'])\n",
    "df"
   ]
  },
  {
   "cell_type": "code",
   "execution_count": 110,
   "id": "9ed3fa55-5c44-4428-ab9a-073d24d0a2ec",
   "metadata": {},
   "outputs": [
    {
     "data": {
      "text/plain": [
       "pandas.core.series.Series"
      ]
     },
     "execution_count": 110,
     "metadata": {},
     "output_type": "execute_result"
    }
   ],
   "source": [
    "# 국어 과목만 조회\n",
    "df['국어']\n",
    "# 국어 과목에 담겨있는 값의 자료형 => int\n",
    "df['국어'].dtype\n",
    "# 국어 과목의 자료구조 => series\n",
    "type(df['국어'])\n",
    "\n",
    "# => 데이터 프레임은 여러 시리즈의 묶음"
   ]
  },
  {
   "cell_type": "code",
   "execution_count": 113,
   "id": "e904e504-ca58-4638-9288-8c2d53f296de",
   "metadata": {},
   "outputs": [
    {
     "data": {
      "text/plain": [
       "둘리     70\n",
       "또치     80\n",
       "도우너    90\n",
       "Name: 국어, dtype: int64"
      ]
     },
     "execution_count": 113,
     "metadata": {},
     "output_type": "execute_result"
    }
   ],
   "source": [
    "# 전체 정수에 1점씩 더하기\n",
    "# 데이터 프레임 전체 데이터에 더하기가 적용됨\n",
    "df + 1\n",
    "# 국어 점수만 10점씩 더하기\n",
    "df['국어'] + 10"
   ]
  },
  {
   "cell_type": "code",
   "execution_count": 116,
   "id": "d85a9d24-3ebd-40cc-a8d2-f5015e24b9ac",
   "metadata": {},
   "outputs": [
    {
     "data": {
      "text/html": [
       "<div>\n",
       "<style scoped>\n",
       "    .dataframe tbody tr th:only-of-type {\n",
       "        vertical-align: middle;\n",
       "    }\n",
       "\n",
       "    .dataframe tbody tr th {\n",
       "        vertical-align: top;\n",
       "    }\n",
       "\n",
       "    .dataframe thead th {\n",
       "        text-align: right;\n",
       "    }\n",
       "</style>\n",
       "<table border=\"1\" class=\"dataframe\">\n",
       "  <thead>\n",
       "    <tr style=\"text-align: right;\">\n",
       "      <th></th>\n",
       "      <th>국어</th>\n",
       "      <th>영어</th>\n",
       "      <th>수학</th>\n",
       "    </tr>\n",
       "  </thead>\n",
       "  <tbody>\n",
       "    <tr>\n",
       "      <th>또치</th>\n",
       "      <td>70</td>\n",
       "      <td>80</td>\n",
       "      <td>90</td>\n",
       "    </tr>\n",
       "    <tr>\n",
       "      <th>도우너</th>\n",
       "      <td>80</td>\n",
       "      <td>90</td>\n",
       "      <td>100</td>\n",
       "    </tr>\n",
       "  </tbody>\n",
       "</table>\n",
       "</div>"
      ],
      "text/plain": [
       "     국어  영어   수학\n",
       "또치   70  80   90\n",
       "도우너  80  90  100"
      ]
     },
     "execution_count": 116,
     "metadata": {},
     "output_type": "execute_result"
    }
   ],
   "source": [
    "# 조건 검색 ( 국어점수가 70점 이상인 학생만 찾기)\n",
    "df['국어'] >= 70\n",
    "# 프레임에 bool 배열을 인덱스로 사용\n",
    "df[df['국어'] >= 70]"
   ]
  },
  {
   "cell_type": "markdown",
   "id": "8297c56c-e80b-436d-9d01-10e9a4292703",
   "metadata": {},
   "source": [
    "## 연습문제"
   ]
  },
  {
   "cell_type": "markdown",
   "id": "b863f3c9-225a-4809-bbc1-5f16b2dc97e9",
   "metadata": {},
   "source": [
    "### (1번)\n",
    "영화 데이터를 데이터프레임으로 만들어주세요.  \n",
    "값은 [[12000, 9.0], [8000, 8.5], [15000, 9.3]]  \n",
    "행 이름(index)은 ['기생충', '인터스텔라', '아바타']  \n",
    "열 이름(columns)은 ['관객수', '평점']  \n",
    "\n",
    "1. 모든 영화의 관객수에 1000명을 추가하세요.  \n",
    "(결과: [13000, 9000, 16000])  \n",
    "\n",
    "2. 평점이 9.0 이상인 영화만 조회하세요.  "
   ]
  },
  {
   "cell_type": "code",
   "execution_count": 125,
   "id": "3e522cd7-3be5-4784-a98c-bcca57db35a0",
   "metadata": {},
   "outputs": [
    {
     "data": {
      "text/html": [
       "<div>\n",
       "<style scoped>\n",
       "    .dataframe tbody tr th:only-of-type {\n",
       "        vertical-align: middle;\n",
       "    }\n",
       "\n",
       "    .dataframe tbody tr th {\n",
       "        vertical-align: top;\n",
       "    }\n",
       "\n",
       "    .dataframe thead th {\n",
       "        text-align: right;\n",
       "    }\n",
       "</style>\n",
       "<table border=\"1\" class=\"dataframe\">\n",
       "  <thead>\n",
       "    <tr style=\"text-align: right;\">\n",
       "      <th></th>\n",
       "      <th>관객수</th>\n",
       "      <th>평점</th>\n",
       "    </tr>\n",
       "  </thead>\n",
       "  <tbody>\n",
       "    <tr>\n",
       "      <th>기생충</th>\n",
       "      <td>12000.0</td>\n",
       "      <td>9.0</td>\n",
       "    </tr>\n",
       "    <tr>\n",
       "      <th>인터스텔라</th>\n",
       "      <td>8000.0</td>\n",
       "      <td>8.5</td>\n",
       "    </tr>\n",
       "    <tr>\n",
       "      <th>아바타</th>\n",
       "      <td>15000.0</td>\n",
       "      <td>9.3</td>\n",
       "    </tr>\n",
       "  </tbody>\n",
       "</table>\n",
       "</div>"
      ],
      "text/plain": [
       "           관객수   평점\n",
       "기생충    12000.0  9.0\n",
       "인터스텔라   8000.0  8.5\n",
       "아바타    15000.0  9.3"
      ]
     },
     "execution_count": 125,
     "metadata": {},
     "output_type": "execute_result"
    }
   ],
   "source": [
    "data = np.array([[12000,9.0],[8000,8.5],[15000,9.3]])\n",
    "df = pd.DataFrame(data,  index = ['기생충','인터스텔라','아바타'],\n",
    "                        columns = ['관객수','평점'])\n",
    "df\n"
   ]
  },
  {
   "cell_type": "code",
   "execution_count": 127,
   "id": "79bb56d3-cdee-454b-a8ac-2b6d04321925",
   "metadata": {},
   "outputs": [
    {
     "data": {
      "text/plain": [
       "기생충      13000.0\n",
       "인터스텔라     9000.0\n",
       "아바타      16000.0\n",
       "Name: 관객수, dtype: float64"
      ]
     },
     "execution_count": 127,
     "metadata": {},
     "output_type": "execute_result"
    }
   ],
   "source": [
    "# 1.모든 영화의 관객수에 1000명을 추가하세요.(결과: [13000, 9000, 16000])\n",
    "df['관객수'] + 1000\n",
    "\n"
   ]
  },
  {
   "cell_type": "code",
   "execution_count": 128,
   "id": "33f847a3-5450-495c-afe8-c187302dbd51",
   "metadata": {
    "collapsed": true,
    "jupyter": {
     "outputs_hidden": true
    }
   },
   "outputs": [
    {
     "data": {
      "text/html": [
       "<div>\n",
       "<style scoped>\n",
       "    .dataframe tbody tr th:only-of-type {\n",
       "        vertical-align: middle;\n",
       "    }\n",
       "\n",
       "    .dataframe tbody tr th {\n",
       "        vertical-align: top;\n",
       "    }\n",
       "\n",
       "    .dataframe thead th {\n",
       "        text-align: right;\n",
       "    }\n",
       "</style>\n",
       "<table border=\"1\" class=\"dataframe\">\n",
       "  <thead>\n",
       "    <tr style=\"text-align: right;\">\n",
       "      <th></th>\n",
       "      <th>관객수</th>\n",
       "      <th>평점</th>\n",
       "    </tr>\n",
       "  </thead>\n",
       "  <tbody>\n",
       "    <tr>\n",
       "      <th>기생충</th>\n",
       "      <td>12000.0</td>\n",
       "      <td>9.0</td>\n",
       "    </tr>\n",
       "    <tr>\n",
       "      <th>아바타</th>\n",
       "      <td>15000.0</td>\n",
       "      <td>9.3</td>\n",
       "    </tr>\n",
       "  </tbody>\n",
       "</table>\n",
       "</div>"
      ],
      "text/plain": [
       "         관객수   평점\n",
       "기생충  12000.0  9.0\n",
       "아바타  15000.0  9.3"
      ]
     },
     "execution_count": 128,
     "metadata": {},
     "output_type": "execute_result"
    }
   ],
   "source": [
    "# 2.평점이 9.0 이상인 영화만 조회하세요\n",
    "df[df['평점'] >= 9.0]"
   ]
  },
  {
   "cell_type": "code",
   "execution_count": null,
   "id": "98f140c3-51ad-44d6-b308-e79d75df5fdd",
   "metadata": {},
   "outputs": [],
   "source": []
  },
  {
   "cell_type": "markdown",
   "id": "ad53abbf-050d-4f9a-9ba6-0eeb3db68458",
   "metadata": {},
   "source": [
    "### (2번)\n",
    "상품 매출 데이터를 데이터프레임으로 만들어주세요.  \n",
    "값: [[25000, 30000], [40000, 15000]]  \n",
    "행 이름(index): [‘치마', '바지']  \n",
    "열 이름(columns): ['1월 매출', ‘2월 매출']  \n",
    "\n",
    "1. 새로운 열 '합계'를 추가하여 1월과 2월 매출의 합을 구하세요.  \n",
    "2. '합계'를 만원 단위로 바꾼 새로운 열 '합계(만원)'을 추가하세요."
   ]
  },
  {
   "cell_type": "code",
   "execution_count": 129,
   "id": "057ae147-2cb1-4170-9cbe-016523ddca97",
   "metadata": {},
   "outputs": [
    {
     "data": {
      "text/html": [
       "<div>\n",
       "<style scoped>\n",
       "    .dataframe tbody tr th:only-of-type {\n",
       "        vertical-align: middle;\n",
       "    }\n",
       "\n",
       "    .dataframe tbody tr th {\n",
       "        vertical-align: top;\n",
       "    }\n",
       "\n",
       "    .dataframe thead th {\n",
       "        text-align: right;\n",
       "    }\n",
       "</style>\n",
       "<table border=\"1\" class=\"dataframe\">\n",
       "  <thead>\n",
       "    <tr style=\"text-align: right;\">\n",
       "      <th></th>\n",
       "      <th>1월 매출</th>\n",
       "      <th>2월 매출</th>\n",
       "    </tr>\n",
       "  </thead>\n",
       "  <tbody>\n",
       "    <tr>\n",
       "      <th>치마</th>\n",
       "      <td>25000</td>\n",
       "      <td>30000</td>\n",
       "    </tr>\n",
       "    <tr>\n",
       "      <th>바지</th>\n",
       "      <td>40000</td>\n",
       "      <td>15000</td>\n",
       "    </tr>\n",
       "  </tbody>\n",
       "</table>\n",
       "</div>"
      ],
      "text/plain": [
       "    1월 매출  2월 매출\n",
       "치마  25000  30000\n",
       "바지  40000  15000"
      ]
     },
     "execution_count": 129,
     "metadata": {},
     "output_type": "execute_result"
    }
   ],
   "source": [
    "data = np.array([[25000,30000],[40000,15000]])\n",
    "df = pd.DataFrame(data,  index = ['치마','바지'],\n",
    "                        columns = ['1월 매출','2월 매출'])\n",
    "df\n"
   ]
  },
  {
   "cell_type": "code",
   "execution_count": 133,
   "id": "80e6cb91-1e99-4efd-a25e-3cf6ea87b88a",
   "metadata": {},
   "outputs": [
    {
     "data": {
      "text/html": [
       "<div>\n",
       "<style scoped>\n",
       "    .dataframe tbody tr th:only-of-type {\n",
       "        vertical-align: middle;\n",
       "    }\n",
       "\n",
       "    .dataframe tbody tr th {\n",
       "        vertical-align: top;\n",
       "    }\n",
       "\n",
       "    .dataframe thead th {\n",
       "        text-align: right;\n",
       "    }\n",
       "</style>\n",
       "<table border=\"1\" class=\"dataframe\">\n",
       "  <thead>\n",
       "    <tr style=\"text-align: right;\">\n",
       "      <th></th>\n",
       "      <th>1월 매출</th>\n",
       "      <th>2월 매출</th>\n",
       "      <th>합계</th>\n",
       "    </tr>\n",
       "  </thead>\n",
       "  <tbody>\n",
       "    <tr>\n",
       "      <th>치마</th>\n",
       "      <td>25000</td>\n",
       "      <td>30000</td>\n",
       "      <td>55000</td>\n",
       "    </tr>\n",
       "    <tr>\n",
       "      <th>바지</th>\n",
       "      <td>40000</td>\n",
       "      <td>15000</td>\n",
       "      <td>55000</td>\n",
       "    </tr>\n",
       "  </tbody>\n",
       "</table>\n",
       "</div>"
      ],
      "text/plain": [
       "    1월 매출  2월 매출     합계\n",
       "치마  25000  30000  55000\n",
       "바지  40000  15000  55000"
      ]
     },
     "execution_count": 133,
     "metadata": {},
     "output_type": "execute_result"
    }
   ],
   "source": [
    "# 1.새로운 열 '합계'를 추가하여 1월과 2월 매출의 합을 구하세요.\n",
    "df['합계'] = df['1월 매출'] + df['2월 매출']\n",
    "df"
   ]
  },
  {
   "cell_type": "code",
   "execution_count": 134,
   "id": "c86fbd26-2684-4465-888f-929824484bd6",
   "metadata": {},
   "outputs": [
    {
     "data": {
      "text/html": [
       "<div>\n",
       "<style scoped>\n",
       "    .dataframe tbody tr th:only-of-type {\n",
       "        vertical-align: middle;\n",
       "    }\n",
       "\n",
       "    .dataframe tbody tr th {\n",
       "        vertical-align: top;\n",
       "    }\n",
       "\n",
       "    .dataframe thead th {\n",
       "        text-align: right;\n",
       "    }\n",
       "</style>\n",
       "<table border=\"1\" class=\"dataframe\">\n",
       "  <thead>\n",
       "    <tr style=\"text-align: right;\">\n",
       "      <th></th>\n",
       "      <th>1월 매출</th>\n",
       "      <th>2월 매출</th>\n",
       "      <th>합계</th>\n",
       "      <th>합계(만원)</th>\n",
       "    </tr>\n",
       "  </thead>\n",
       "  <tbody>\n",
       "    <tr>\n",
       "      <th>치마</th>\n",
       "      <td>25000</td>\n",
       "      <td>30000</td>\n",
       "      <td>55000</td>\n",
       "      <td>5.5</td>\n",
       "    </tr>\n",
       "    <tr>\n",
       "      <th>바지</th>\n",
       "      <td>40000</td>\n",
       "      <td>15000</td>\n",
       "      <td>55000</td>\n",
       "      <td>5.5</td>\n",
       "    </tr>\n",
       "  </tbody>\n",
       "</table>\n",
       "</div>"
      ],
      "text/plain": [
       "    1월 매출  2월 매출     합계  합계(만원)\n",
       "치마  25000  30000  55000     5.5\n",
       "바지  40000  15000  55000     5.5"
      ]
     },
     "execution_count": 134,
     "metadata": {},
     "output_type": "execute_result"
    }
   ],
   "source": [
    "# 2.'합계'를 만원 단위로 바꾼 새로운 열 '합계(만원)'을 추가하세요\n",
    "df['합계(만원)'] = df['합계'] / 10000\n",
    "df"
   ]
  },
  {
   "cell_type": "markdown",
   "id": "d6f52419-8299-4f9c-83f1-29c8fa025b8a",
   "metadata": {},
   "source": [
    "## 데이터 프레임의 정렬\n",
    "시험 성적 순위를 매길때 사용"
   ]
  },
  {
   "cell_type": "code",
   "execution_count": 25,
   "id": "3be41241-e155-4b0c-90ba-cd2df5e4bed5",
   "metadata": {},
   "outputs": [],
   "source": [
    "# 시험 성적에서 국어 점수를 기준으로 정렬\n",
    "# df.sort_values('국어')\n",
    "# 국어 점수를 기준으로 내림차순 정렬\n",
    "# 정렬기준 : 오름차순(1->10)/ 내림차순(10->1)\n",
    "# ascending: 오름차순(true)/ 내림차순(false)\n",
    "# df.sort_values('국어', ascending=false)"
   ]
  },
  {
   "cell_type": "code",
   "execution_count": 33,
   "id": "f6f061a1-5fac-474e-ad16-6da845e49125",
   "metadata": {},
   "outputs": [
    {
     "name": "stdout",
     "output_type": "stream",
     "text": [
      "[[86 99 95]\n",
      " [88 86 63]\n",
      " [75 94 60]]\n",
      "     수학  영어  과학\n",
      "둘리   86  99  95\n",
      "또치   88  86  63\n",
      "도우너  75  94  60\n"
     ]
    },
    {
     "data": {
      "text/html": [
       "<div>\n",
       "<style scoped>\n",
       "    .dataframe tbody tr th:only-of-type {\n",
       "        vertical-align: middle;\n",
       "    }\n",
       "\n",
       "    .dataframe tbody tr th {\n",
       "        vertical-align: top;\n",
       "    }\n",
       "\n",
       "    .dataframe thead th {\n",
       "        text-align: right;\n",
       "    }\n",
       "</style>\n",
       "<table border=\"1\" class=\"dataframe\">\n",
       "  <thead>\n",
       "    <tr style=\"text-align: right;\">\n",
       "      <th></th>\n",
       "      <th>수학</th>\n",
       "      <th>영어</th>\n",
       "      <th>과학</th>\n",
       "    </tr>\n",
       "  </thead>\n",
       "  <tbody>\n",
       "    <tr>\n",
       "      <th>둘리</th>\n",
       "      <td>86</td>\n",
       "      <td>99</td>\n",
       "      <td>95</td>\n",
       "    </tr>\n",
       "    <tr>\n",
       "      <th>도우너</th>\n",
       "      <td>75</td>\n",
       "      <td>94</td>\n",
       "      <td>60</td>\n",
       "    </tr>\n",
       "    <tr>\n",
       "      <th>또치</th>\n",
       "      <td>88</td>\n",
       "      <td>86</td>\n",
       "      <td>63</td>\n",
       "    </tr>\n",
       "  </tbody>\n",
       "</table>\n",
       "</div>"
      ],
      "text/plain": [
       "     수학  영어  과학\n",
       "둘리   86  99  95\n",
       "도우너  75  94  60\n",
       "또치   88  86  63"
      ]
     },
     "execution_count": 33,
     "metadata": {},
     "output_type": "execute_result"
    }
   ],
   "source": [
    "# 랜덤함수로 시험 점수 생성\n",
    "# 범위 : 60~100점\n",
    "# 개수 : 9개\n",
    "data = np.random.randint(60,100,9)\n",
    "# 3행 3열 크기의 2차원 배열로 변환\n",
    "arr = data.reshape(3,3)\n",
    "print(arr)\n",
    "\n",
    "# 프레임 생성\n",
    "df = pd.DataFrame(arr, index = ['둘리','또치','도우너'], \n",
    "                  columns =['수학','영어','과학'])\n",
    "print(df)\n",
    "# 영어 점수가 높은 사람 순으로 정렬\n",
    "df.sort_values('영어', ascending=False)"
   ]
  },
  {
   "cell_type": "markdown",
   "id": "74bcf033-7f24-4679-ba0d-60020b7eca21",
   "metadata": {},
   "source": [
    "## nan 처리  \n",
    "누락된 값, 빈값  \n",
    "예를 들어 엑셀에서 빈셀을 표현할 때 사용  \n",
    "nan은 float 타입에서만 표현 가능"
   ]
  },
  {
   "cell_type": "code",
   "execution_count": 35,
   "id": "d2738f13-184d-467a-a061-9017d8c53765",
   "metadata": {},
   "outputs": [
    {
     "data": {
      "text/html": [
       "<div>\n",
       "<style scoped>\n",
       "    .dataframe tbody tr th:only-of-type {\n",
       "        vertical-align: middle;\n",
       "    }\n",
       "\n",
       "    .dataframe tbody tr th {\n",
       "        vertical-align: top;\n",
       "    }\n",
       "\n",
       "    .dataframe thead th {\n",
       "        text-align: right;\n",
       "    }\n",
       "</style>\n",
       "<table border=\"1\" class=\"dataframe\">\n",
       "  <thead>\n",
       "    <tr style=\"text-align: right;\">\n",
       "      <th></th>\n",
       "      <th>수학</th>\n",
       "      <th>영어</th>\n",
       "      <th>과학</th>\n",
       "    </tr>\n",
       "  </thead>\n",
       "  <tbody>\n",
       "    <tr>\n",
       "      <th>둘리</th>\n",
       "      <td>86</td>\n",
       "      <td>99</td>\n",
       "      <td>95</td>\n",
       "    </tr>\n",
       "    <tr>\n",
       "      <th>또치</th>\n",
       "      <td>88</td>\n",
       "      <td>86</td>\n",
       "      <td>63</td>\n",
       "    </tr>\n",
       "    <tr>\n",
       "      <th>도우너</th>\n",
       "      <td>75</td>\n",
       "      <td>94</td>\n",
       "      <td>60</td>\n",
       "    </tr>\n",
       "  </tbody>\n",
       "</table>\n",
       "</div>"
      ],
      "text/plain": [
       "     수학  영어  과학\n",
       "둘리   86  99  95\n",
       "또치   88  86  63\n",
       "도우너  75  94  60"
      ]
     },
     "execution_count": 35,
     "metadata": {},
     "output_type": "execute_result"
    }
   ],
   "source": [
    "df"
   ]
  },
  {
   "cell_type": "code",
   "execution_count": 39,
   "id": "8860bcca-7091-46a7-b95b-f8b2b858787d",
   "metadata": {},
   "outputs": [
    {
     "data": {
      "text/html": [
       "<div>\n",
       "<style scoped>\n",
       "    .dataframe tbody tr th:only-of-type {\n",
       "        vertical-align: middle;\n",
       "    }\n",
       "\n",
       "    .dataframe tbody tr th {\n",
       "        vertical-align: top;\n",
       "    }\n",
       "\n",
       "    .dataframe thead th {\n",
       "        text-align: right;\n",
       "    }\n",
       "</style>\n",
       "<table border=\"1\" class=\"dataframe\">\n",
       "  <thead>\n",
       "    <tr style=\"text-align: right;\">\n",
       "      <th></th>\n",
       "      <th>수학</th>\n",
       "      <th>영어</th>\n",
       "      <th>과학</th>\n",
       "    </tr>\n",
       "  </thead>\n",
       "  <tbody>\n",
       "    <tr>\n",
       "      <th>둘리</th>\n",
       "      <td>86</td>\n",
       "      <td>NaN</td>\n",
       "      <td>95</td>\n",
       "    </tr>\n",
       "    <tr>\n",
       "      <th>또치</th>\n",
       "      <td>88</td>\n",
       "      <td>86.0</td>\n",
       "      <td>63</td>\n",
       "    </tr>\n",
       "    <tr>\n",
       "      <th>도우너</th>\n",
       "      <td>75</td>\n",
       "      <td>94.0</td>\n",
       "      <td>60</td>\n",
       "    </tr>\n",
       "  </tbody>\n",
       "</table>\n",
       "</div>"
      ],
      "text/plain": [
       "     수학    영어  과학\n",
       "둘리   86   NaN  95\n",
       "또치   88  86.0  63\n",
       "도우너  75  94.0  60"
      ]
     },
     "execution_count": 39,
     "metadata": {},
     "output_type": "execute_result"
    }
   ],
   "source": [
    "# 둘리의 영어점수를 빈값(nan)으로 표시\n",
    "# 빈값을 넣으면 해당 값이 들어간 열이 => float 타입으로 자동 형변환됨\n",
    "# df.loc['둘리','영어'] = np.nan # =>예약어 사용\n",
    "df"
   ]
  },
  {
   "cell_type": "code",
   "execution_count": 41,
   "id": "0ff09480-0b4a-4f26-8acb-568245ff4345",
   "metadata": {},
   "outputs": [
    {
     "data": {
      "text/html": [
       "<div>\n",
       "<style scoped>\n",
       "    .dataframe tbody tr th:only-of-type {\n",
       "        vertical-align: middle;\n",
       "    }\n",
       "\n",
       "    .dataframe tbody tr th {\n",
       "        vertical-align: top;\n",
       "    }\n",
       "\n",
       "    .dataframe thead th {\n",
       "        text-align: right;\n",
       "    }\n",
       "</style>\n",
       "<table border=\"1\" class=\"dataframe\">\n",
       "  <thead>\n",
       "    <tr style=\"text-align: right;\">\n",
       "      <th></th>\n",
       "      <th>수학</th>\n",
       "      <th>영어</th>\n",
       "      <th>과학</th>\n",
       "    </tr>\n",
       "  </thead>\n",
       "  <tbody>\n",
       "    <tr>\n",
       "      <th>또치</th>\n",
       "      <td>88</td>\n",
       "      <td>86.0</td>\n",
       "      <td>63</td>\n",
       "    </tr>\n",
       "    <tr>\n",
       "      <th>도우너</th>\n",
       "      <td>75</td>\n",
       "      <td>94.0</td>\n",
       "      <td>60</td>\n",
       "    </tr>\n",
       "  </tbody>\n",
       "</table>\n",
       "</div>"
      ],
      "text/plain": [
       "     수학    영어  과학\n",
       "또치   88  86.0  63\n",
       "도우너  75  94.0  60"
      ]
     },
     "execution_count": 41,
     "metadata": {},
     "output_type": "execute_result"
    }
   ],
   "source": [
    "# 점수가 없는 학생 데이터 삭제\n",
    "# 빈값이 있는 행 삭제\n",
    "# axis 0 'row' =>행\n",
    "df = df.dropna(axis=0) # => dropna도 원본에는 영향 없음 => 결과를 df에 덮어씌우기\n",
    "df"
   ]
  },
  {
   "cell_type": "code",
   "execution_count": 43,
   "id": "33afcf54-1194-4d4b-ab05-8c19146f184b",
   "metadata": {},
   "outputs": [
    {
     "data": {
      "text/html": [
       "<div>\n",
       "<style scoped>\n",
       "    .dataframe tbody tr th:only-of-type {\n",
       "        vertical-align: middle;\n",
       "    }\n",
       "\n",
       "    .dataframe tbody tr th {\n",
       "        vertical-align: top;\n",
       "    }\n",
       "\n",
       "    .dataframe thead th {\n",
       "        text-align: right;\n",
       "    }\n",
       "</style>\n",
       "<table border=\"1\" class=\"dataframe\">\n",
       "  <thead>\n",
       "    <tr style=\"text-align: right;\">\n",
       "      <th></th>\n",
       "      <th>수학</th>\n",
       "      <th>영어</th>\n",
       "      <th>과학</th>\n",
       "    </tr>\n",
       "  </thead>\n",
       "  <tbody>\n",
       "    <tr>\n",
       "      <th>또치</th>\n",
       "      <td>88</td>\n",
       "      <td>86.0</td>\n",
       "      <td>NaN</td>\n",
       "    </tr>\n",
       "    <tr>\n",
       "      <th>도우너</th>\n",
       "      <td>75</td>\n",
       "      <td>94.0</td>\n",
       "      <td>60.0</td>\n",
       "    </tr>\n",
       "  </tbody>\n",
       "</table>\n",
       "</div>"
      ],
      "text/plain": [
       "     수학    영어    과학\n",
       "또치   88  86.0   NaN\n",
       "도우너  75  94.0  60.0"
      ]
     },
     "execution_count": 43,
     "metadata": {},
     "output_type": "execute_result"
    }
   ],
   "source": [
    "# 또치의 과학 점수를 반값으로 설정\n",
    "df.loc['또치','과학'] = np.nan\n",
    "df"
   ]
  },
  {
   "cell_type": "code",
   "execution_count": 44,
   "id": "92e7e326-acee-455e-9c09-1bf831b41193",
   "metadata": {},
   "outputs": [
    {
     "data": {
      "text/html": [
       "<div>\n",
       "<style scoped>\n",
       "    .dataframe tbody tr th:only-of-type {\n",
       "        vertical-align: middle;\n",
       "    }\n",
       "\n",
       "    .dataframe tbody tr th {\n",
       "        vertical-align: top;\n",
       "    }\n",
       "\n",
       "    .dataframe thead th {\n",
       "        text-align: right;\n",
       "    }\n",
       "</style>\n",
       "<table border=\"1\" class=\"dataframe\">\n",
       "  <thead>\n",
       "    <tr style=\"text-align: right;\">\n",
       "      <th></th>\n",
       "      <th>수학</th>\n",
       "      <th>영어</th>\n",
       "      <th>과학</th>\n",
       "    </tr>\n",
       "  </thead>\n",
       "  <tbody>\n",
       "    <tr>\n",
       "      <th>또치</th>\n",
       "      <td>88</td>\n",
       "      <td>86.0</td>\n",
       "      <td>0.0</td>\n",
       "    </tr>\n",
       "    <tr>\n",
       "      <th>도우너</th>\n",
       "      <td>75</td>\n",
       "      <td>94.0</td>\n",
       "      <td>60.0</td>\n",
       "    </tr>\n",
       "  </tbody>\n",
       "</table>\n",
       "</div>"
      ],
      "text/plain": [
       "     수학    영어    과학\n",
       "또치   88  86.0   0.0\n",
       "도우너  75  94.0  60.0"
      ]
     },
     "execution_count": 44,
     "metadata": {},
     "output_type": "execute_result"
    }
   ],
   "source": [
    "# 비어있는 점수를 모두 0으로 설정\n",
    "df.fillna(0)"
   ]
  },
  {
   "cell_type": "markdown",
   "id": "3206972f-e60f-485d-abf4-3c974edbea6b",
   "metadata": {},
   "source": [
    "## (1번)\n",
    "도시별 기온 데이터를 데이터 프레임으로 만들어 주세요.  \n",
    "데이터: [[20, 25, 15], [18, 22, 19], [25, 27, 23]]  \n",
    "행 이름(index): ['서울', '부산', '대구']  \n",
    "열 이름(columns): ['봄', '여름', '겨울']  \n",
    "\n",
    "1. 서울의 여름 기온을 빈값(NaN) 으로 변경하세요.  \n",
    "2. 빈값이 포함된 행을 삭제 하세요.  \n",
    "3. 부산의 봄 기온을 빈값(NaN) 으로 변경하세요.  \n",
    "4. 모든 빈값을 0으로 채우세요.  "
   ]
  },
  {
   "cell_type": "code",
   "execution_count": 45,
   "id": "99f52b03-aec5-4076-8e43-0a449c541550",
   "metadata": {},
   "outputs": [
    {
     "data": {
      "text/html": [
       "<div>\n",
       "<style scoped>\n",
       "    .dataframe tbody tr th:only-of-type {\n",
       "        vertical-align: middle;\n",
       "    }\n",
       "\n",
       "    .dataframe tbody tr th {\n",
       "        vertical-align: top;\n",
       "    }\n",
       "\n",
       "    .dataframe thead th {\n",
       "        text-align: right;\n",
       "    }\n",
       "</style>\n",
       "<table border=\"1\" class=\"dataframe\">\n",
       "  <thead>\n",
       "    <tr style=\"text-align: right;\">\n",
       "      <th></th>\n",
       "      <th>봄</th>\n",
       "      <th>여름</th>\n",
       "      <th>겨울</th>\n",
       "    </tr>\n",
       "  </thead>\n",
       "  <tbody>\n",
       "    <tr>\n",
       "      <th>서울</th>\n",
       "      <td>20</td>\n",
       "      <td>25</td>\n",
       "      <td>15</td>\n",
       "    </tr>\n",
       "    <tr>\n",
       "      <th>부산</th>\n",
       "      <td>18</td>\n",
       "      <td>22</td>\n",
       "      <td>19</td>\n",
       "    </tr>\n",
       "    <tr>\n",
       "      <th>대구</th>\n",
       "      <td>25</td>\n",
       "      <td>27</td>\n",
       "      <td>23</td>\n",
       "    </tr>\n",
       "  </tbody>\n",
       "</table>\n",
       "</div>"
      ],
      "text/plain": [
       "     봄  여름  겨울\n",
       "서울  20  25  15\n",
       "부산  18  22  19\n",
       "대구  25  27  23"
      ]
     },
     "execution_count": 45,
     "metadata": {},
     "output_type": "execute_result"
    }
   ],
   "source": [
    "data = np.array([[20,25,15],[18,22,19],[25,27,23]])\n",
    "df = pd.DataFrame(data,  index = ['서울','부산','대구'],\n",
    "                        columns = ['봄','여름','겨울'])\n",
    "df"
   ]
  },
  {
   "cell_type": "code",
   "execution_count": 46,
   "id": "4d823dd3-2dd2-4918-b7f1-1221dcac4dc1",
   "metadata": {},
   "outputs": [
    {
     "data": {
      "text/html": [
       "<div>\n",
       "<style scoped>\n",
       "    .dataframe tbody tr th:only-of-type {\n",
       "        vertical-align: middle;\n",
       "    }\n",
       "\n",
       "    .dataframe tbody tr th {\n",
       "        vertical-align: top;\n",
       "    }\n",
       "\n",
       "    .dataframe thead th {\n",
       "        text-align: right;\n",
       "    }\n",
       "</style>\n",
       "<table border=\"1\" class=\"dataframe\">\n",
       "  <thead>\n",
       "    <tr style=\"text-align: right;\">\n",
       "      <th></th>\n",
       "      <th>봄</th>\n",
       "      <th>여름</th>\n",
       "      <th>겨울</th>\n",
       "    </tr>\n",
       "  </thead>\n",
       "  <tbody>\n",
       "    <tr>\n",
       "      <th>서울</th>\n",
       "      <td>20</td>\n",
       "      <td>NaN</td>\n",
       "      <td>15</td>\n",
       "    </tr>\n",
       "    <tr>\n",
       "      <th>부산</th>\n",
       "      <td>18</td>\n",
       "      <td>22.0</td>\n",
       "      <td>19</td>\n",
       "    </tr>\n",
       "    <tr>\n",
       "      <th>대구</th>\n",
       "      <td>25</td>\n",
       "      <td>27.0</td>\n",
       "      <td>23</td>\n",
       "    </tr>\n",
       "  </tbody>\n",
       "</table>\n",
       "</div>"
      ],
      "text/plain": [
       "     봄    여름  겨울\n",
       "서울  20   NaN  15\n",
       "부산  18  22.0  19\n",
       "대구  25  27.0  23"
      ]
     },
     "execution_count": 46,
     "metadata": {},
     "output_type": "execute_result"
    }
   ],
   "source": [
    "# 1.서울의 여름 기온을 빈값(NaN) 으로 변경하세요.\n",
    "df.loc['서울','여름'] = np.nan\n",
    "df"
   ]
  },
  {
   "cell_type": "code",
   "execution_count": 48,
   "id": "3c1f8aa3-fcd6-4ab5-861d-dfe323b1f67d",
   "metadata": {},
   "outputs": [
    {
     "data": {
      "text/html": [
       "<div>\n",
       "<style scoped>\n",
       "    .dataframe tbody tr th:only-of-type {\n",
       "        vertical-align: middle;\n",
       "    }\n",
       "\n",
       "    .dataframe tbody tr th {\n",
       "        vertical-align: top;\n",
       "    }\n",
       "\n",
       "    .dataframe thead th {\n",
       "        text-align: right;\n",
       "    }\n",
       "</style>\n",
       "<table border=\"1\" class=\"dataframe\">\n",
       "  <thead>\n",
       "    <tr style=\"text-align: right;\">\n",
       "      <th></th>\n",
       "      <th>봄</th>\n",
       "      <th>여름</th>\n",
       "      <th>겨울</th>\n",
       "    </tr>\n",
       "  </thead>\n",
       "  <tbody>\n",
       "    <tr>\n",
       "      <th>부산</th>\n",
       "      <td>18</td>\n",
       "      <td>22.0</td>\n",
       "      <td>19</td>\n",
       "    </tr>\n",
       "    <tr>\n",
       "      <th>대구</th>\n",
       "      <td>25</td>\n",
       "      <td>27.0</td>\n",
       "      <td>23</td>\n",
       "    </tr>\n",
       "  </tbody>\n",
       "</table>\n",
       "</div>"
      ],
      "text/plain": [
       "     봄    여름  겨울\n",
       "부산  18  22.0  19\n",
       "대구  25  27.0  23"
      ]
     },
     "execution_count": 48,
     "metadata": {},
     "output_type": "execute_result"
    }
   ],
   "source": [
    "# 2.빈값이 포함된 행을 삭제 하세요.\n",
    "df = df.dropna(axis=0)\n",
    "df"
   ]
  },
  {
   "cell_type": "code",
   "execution_count": 49,
   "id": "50474bfa-aa1e-42f1-9989-ba7606c3f222",
   "metadata": {},
   "outputs": [
    {
     "data": {
      "text/html": [
       "<div>\n",
       "<style scoped>\n",
       "    .dataframe tbody tr th:only-of-type {\n",
       "        vertical-align: middle;\n",
       "    }\n",
       "\n",
       "    .dataframe tbody tr th {\n",
       "        vertical-align: top;\n",
       "    }\n",
       "\n",
       "    .dataframe thead th {\n",
       "        text-align: right;\n",
       "    }\n",
       "</style>\n",
       "<table border=\"1\" class=\"dataframe\">\n",
       "  <thead>\n",
       "    <tr style=\"text-align: right;\">\n",
       "      <th></th>\n",
       "      <th>봄</th>\n",
       "      <th>여름</th>\n",
       "      <th>겨울</th>\n",
       "    </tr>\n",
       "  </thead>\n",
       "  <tbody>\n",
       "    <tr>\n",
       "      <th>부산</th>\n",
       "      <td>NaN</td>\n",
       "      <td>22.0</td>\n",
       "      <td>19</td>\n",
       "    </tr>\n",
       "    <tr>\n",
       "      <th>대구</th>\n",
       "      <td>25.0</td>\n",
       "      <td>27.0</td>\n",
       "      <td>23</td>\n",
       "    </tr>\n",
       "  </tbody>\n",
       "</table>\n",
       "</div>"
      ],
      "text/plain": [
       "       봄    여름  겨울\n",
       "부산   NaN  22.0  19\n",
       "대구  25.0  27.0  23"
      ]
     },
     "execution_count": 49,
     "metadata": {},
     "output_type": "execute_result"
    }
   ],
   "source": [
    "# 3.부산의 봄 기온을 빈값(NaN) 으로 변경하세요\n",
    "df.loc['부산','봄'] = np.nan\n",
    "df"
   ]
  },
  {
   "cell_type": "code",
   "execution_count": 50,
   "id": "956f56dc-6377-490d-9164-a22b24af6056",
   "metadata": {},
   "outputs": [
    {
     "data": {
      "text/html": [
       "<div>\n",
       "<style scoped>\n",
       "    .dataframe tbody tr th:only-of-type {\n",
       "        vertical-align: middle;\n",
       "    }\n",
       "\n",
       "    .dataframe tbody tr th {\n",
       "        vertical-align: top;\n",
       "    }\n",
       "\n",
       "    .dataframe thead th {\n",
       "        text-align: right;\n",
       "    }\n",
       "</style>\n",
       "<table border=\"1\" class=\"dataframe\">\n",
       "  <thead>\n",
       "    <tr style=\"text-align: right;\">\n",
       "      <th></th>\n",
       "      <th>봄</th>\n",
       "      <th>여름</th>\n",
       "      <th>겨울</th>\n",
       "    </tr>\n",
       "  </thead>\n",
       "  <tbody>\n",
       "    <tr>\n",
       "      <th>부산</th>\n",
       "      <td>0.0</td>\n",
       "      <td>22.0</td>\n",
       "      <td>19</td>\n",
       "    </tr>\n",
       "    <tr>\n",
       "      <th>대구</th>\n",
       "      <td>25.0</td>\n",
       "      <td>27.0</td>\n",
       "      <td>23</td>\n",
       "    </tr>\n",
       "  </tbody>\n",
       "</table>\n",
       "</div>"
      ],
      "text/plain": [
       "       봄    여름  겨울\n",
       "부산   0.0  22.0  19\n",
       "대구  25.0  27.0  23"
      ]
     },
     "execution_count": 50,
     "metadata": {},
     "output_type": "execute_result"
    }
   ],
   "source": [
    "# 4.모든 빈값을 0으로 채우세요.\n",
    "df.fillna(0)"
   ]
  },
  {
   "cell_type": "markdown",
   "id": "6a5133e0-ab3c-4790-84f2-e8f450c536e8",
   "metadata": {},
   "source": [
    "## (2번)\n",
    "학급별 점수 데이터를 데이터프레임으로 만드세요.   \n",
    "데이터: [[80, 75, 90], [85, 88, 82], [70, 65, 78]]  \n",
    "행 이름(index): ['국어', '영어', '수학']  \n",
    "열 이름(columns): ['1반', '2반', '3반']  \n",
    "\n",
    "1. 2반 영어 점수를 빈값(NaN) 으로 변경하세요.  \n",
    "2. 빈값이 포함된 열을 삭제하세요.  \n",
    "3. 3반 수학 점수를 빈값(NaN) 으로 변경하세요.  \n",
    "4. 모든 빈값을 100으로 채우세요.  "
   ]
  },
  {
   "cell_type": "code",
   "execution_count": 56,
   "id": "78961468-48b5-428a-ae68-64dfa9b72867",
   "metadata": {},
   "outputs": [
    {
     "data": {
      "text/html": [
       "<div>\n",
       "<style scoped>\n",
       "    .dataframe tbody tr th:only-of-type {\n",
       "        vertical-align: middle;\n",
       "    }\n",
       "\n",
       "    .dataframe tbody tr th {\n",
       "        vertical-align: top;\n",
       "    }\n",
       "\n",
       "    .dataframe thead th {\n",
       "        text-align: right;\n",
       "    }\n",
       "</style>\n",
       "<table border=\"1\" class=\"dataframe\">\n",
       "  <thead>\n",
       "    <tr style=\"text-align: right;\">\n",
       "      <th></th>\n",
       "      <th>1반</th>\n",
       "      <th>2반</th>\n",
       "      <th>3반</th>\n",
       "    </tr>\n",
       "  </thead>\n",
       "  <tbody>\n",
       "    <tr>\n",
       "      <th>국어</th>\n",
       "      <td>80</td>\n",
       "      <td>75</td>\n",
       "      <td>90</td>\n",
       "    </tr>\n",
       "    <tr>\n",
       "      <th>영어</th>\n",
       "      <td>85</td>\n",
       "      <td>88</td>\n",
       "      <td>82</td>\n",
       "    </tr>\n",
       "    <tr>\n",
       "      <th>수학</th>\n",
       "      <td>70</td>\n",
       "      <td>65</td>\n",
       "      <td>78</td>\n",
       "    </tr>\n",
       "  </tbody>\n",
       "</table>\n",
       "</div>"
      ],
      "text/plain": [
       "    1반  2반  3반\n",
       "국어  80  75  90\n",
       "영어  85  88  82\n",
       "수학  70  65  78"
      ]
     },
     "execution_count": 56,
     "metadata": {},
     "output_type": "execute_result"
    }
   ],
   "source": [
    "data = np.array([[80,75,90],[85,88,82],[70,65,78]])\n",
    "df = pd.DataFrame(data,  index = ['국어','영어','수학'],\n",
    "                        columns = ['1반','2반','3반'])\n",
    "df"
   ]
  },
  {
   "cell_type": "code",
   "execution_count": 57,
   "id": "05685101-d2eb-4348-8853-48c51445dddd",
   "metadata": {},
   "outputs": [
    {
     "data": {
      "text/html": [
       "<div>\n",
       "<style scoped>\n",
       "    .dataframe tbody tr th:only-of-type {\n",
       "        vertical-align: middle;\n",
       "    }\n",
       "\n",
       "    .dataframe tbody tr th {\n",
       "        vertical-align: top;\n",
       "    }\n",
       "\n",
       "    .dataframe thead th {\n",
       "        text-align: right;\n",
       "    }\n",
       "</style>\n",
       "<table border=\"1\" class=\"dataframe\">\n",
       "  <thead>\n",
       "    <tr style=\"text-align: right;\">\n",
       "      <th></th>\n",
       "      <th>1반</th>\n",
       "      <th>2반</th>\n",
       "      <th>3반</th>\n",
       "    </tr>\n",
       "  </thead>\n",
       "  <tbody>\n",
       "    <tr>\n",
       "      <th>국어</th>\n",
       "      <td>80</td>\n",
       "      <td>75.0</td>\n",
       "      <td>90</td>\n",
       "    </tr>\n",
       "    <tr>\n",
       "      <th>영어</th>\n",
       "      <td>85</td>\n",
       "      <td>NaN</td>\n",
       "      <td>82</td>\n",
       "    </tr>\n",
       "    <tr>\n",
       "      <th>수학</th>\n",
       "      <td>70</td>\n",
       "      <td>65.0</td>\n",
       "      <td>78</td>\n",
       "    </tr>\n",
       "  </tbody>\n",
       "</table>\n",
       "</div>"
      ],
      "text/plain": [
       "    1반    2반  3반\n",
       "국어  80  75.0  90\n",
       "영어  85   NaN  82\n",
       "수학  70  65.0  78"
      ]
     },
     "execution_count": 57,
     "metadata": {},
     "output_type": "execute_result"
    }
   ],
   "source": [
    "# 1.2반 영어 점수를 빈값(NaN) 으로 변경하세요.\n",
    "df.loc['영어','2반'] = np.nan\n",
    "df"
   ]
  },
  {
   "cell_type": "code",
   "execution_count": 58,
   "id": "86603b68-adab-483e-a7e6-b43b72676317",
   "metadata": {},
   "outputs": [
    {
     "data": {
      "text/html": [
       "<div>\n",
       "<style scoped>\n",
       "    .dataframe tbody tr th:only-of-type {\n",
       "        vertical-align: middle;\n",
       "    }\n",
       "\n",
       "    .dataframe tbody tr th {\n",
       "        vertical-align: top;\n",
       "    }\n",
       "\n",
       "    .dataframe thead th {\n",
       "        text-align: right;\n",
       "    }\n",
       "</style>\n",
       "<table border=\"1\" class=\"dataframe\">\n",
       "  <thead>\n",
       "    <tr style=\"text-align: right;\">\n",
       "      <th></th>\n",
       "      <th>1반</th>\n",
       "      <th>3반</th>\n",
       "    </tr>\n",
       "  </thead>\n",
       "  <tbody>\n",
       "    <tr>\n",
       "      <th>국어</th>\n",
       "      <td>80</td>\n",
       "      <td>90</td>\n",
       "    </tr>\n",
       "    <tr>\n",
       "      <th>영어</th>\n",
       "      <td>85</td>\n",
       "      <td>82</td>\n",
       "    </tr>\n",
       "    <tr>\n",
       "      <th>수학</th>\n",
       "      <td>70</td>\n",
       "      <td>78</td>\n",
       "    </tr>\n",
       "  </tbody>\n",
       "</table>\n",
       "</div>"
      ],
      "text/plain": [
       "    1반  3반\n",
       "국어  80  90\n",
       "영어  85  82\n",
       "수학  70  78"
      ]
     },
     "execution_count": 58,
     "metadata": {},
     "output_type": "execute_result"
    }
   ],
   "source": [
    "# 2.빈값이 포함된 열을 삭제하세요.\n",
    "# axis = 0 행\n",
    "# axis = 1 열\n",
    "df = df.dropna(axis=1)\n",
    "df"
   ]
  },
  {
   "cell_type": "code",
   "execution_count": 59,
   "id": "636cabac-149b-4a4a-a84f-2b6c9cfbc3a2",
   "metadata": {},
   "outputs": [
    {
     "data": {
      "text/html": [
       "<div>\n",
       "<style scoped>\n",
       "    .dataframe tbody tr th:only-of-type {\n",
       "        vertical-align: middle;\n",
       "    }\n",
       "\n",
       "    .dataframe tbody tr th {\n",
       "        vertical-align: top;\n",
       "    }\n",
       "\n",
       "    .dataframe thead th {\n",
       "        text-align: right;\n",
       "    }\n",
       "</style>\n",
       "<table border=\"1\" class=\"dataframe\">\n",
       "  <thead>\n",
       "    <tr style=\"text-align: right;\">\n",
       "      <th></th>\n",
       "      <th>1반</th>\n",
       "      <th>3반</th>\n",
       "    </tr>\n",
       "  </thead>\n",
       "  <tbody>\n",
       "    <tr>\n",
       "      <th>국어</th>\n",
       "      <td>80</td>\n",
       "      <td>90.0</td>\n",
       "    </tr>\n",
       "    <tr>\n",
       "      <th>영어</th>\n",
       "      <td>85</td>\n",
       "      <td>82.0</td>\n",
       "    </tr>\n",
       "    <tr>\n",
       "      <th>수학</th>\n",
       "      <td>70</td>\n",
       "      <td>NaN</td>\n",
       "    </tr>\n",
       "  </tbody>\n",
       "</table>\n",
       "</div>"
      ],
      "text/plain": [
       "    1반    3반\n",
       "국어  80  90.0\n",
       "영어  85  82.0\n",
       "수학  70   NaN"
      ]
     },
     "execution_count": 59,
     "metadata": {},
     "output_type": "execute_result"
    }
   ],
   "source": [
    "# 3.3반 수학 점수를 빈값(NaN) 으로 변경하세요.\n",
    "df.loc['수학','3반'] = np.nan\n",
    "df"
   ]
  },
  {
   "cell_type": "code",
   "execution_count": 60,
   "id": "6151efd0-e70a-4440-960a-82f82b6b0c96",
   "metadata": {},
   "outputs": [
    {
     "data": {
      "text/html": [
       "<div>\n",
       "<style scoped>\n",
       "    .dataframe tbody tr th:only-of-type {\n",
       "        vertical-align: middle;\n",
       "    }\n",
       "\n",
       "    .dataframe tbody tr th {\n",
       "        vertical-align: top;\n",
       "    }\n",
       "\n",
       "    .dataframe thead th {\n",
       "        text-align: right;\n",
       "    }\n",
       "</style>\n",
       "<table border=\"1\" class=\"dataframe\">\n",
       "  <thead>\n",
       "    <tr style=\"text-align: right;\">\n",
       "      <th></th>\n",
       "      <th>1반</th>\n",
       "      <th>3반</th>\n",
       "    </tr>\n",
       "  </thead>\n",
       "  <tbody>\n",
       "    <tr>\n",
       "      <th>국어</th>\n",
       "      <td>80</td>\n",
       "      <td>90.0</td>\n",
       "    </tr>\n",
       "    <tr>\n",
       "      <th>영어</th>\n",
       "      <td>85</td>\n",
       "      <td>82.0</td>\n",
       "    </tr>\n",
       "    <tr>\n",
       "      <th>수학</th>\n",
       "      <td>70</td>\n",
       "      <td>100.0</td>\n",
       "    </tr>\n",
       "  </tbody>\n",
       "</table>\n",
       "</div>"
      ],
      "text/plain": [
       "    1반     3반\n",
       "국어  80   90.0\n",
       "영어  85   82.0\n",
       "수학  70  100.0"
      ]
     },
     "execution_count": 60,
     "metadata": {},
     "output_type": "execute_result"
    }
   ],
   "source": [
    "# 4.모든 빈값을 100으로 채우세요.\n",
    "df.fillna(100)"
   ]
  },
  {
   "cell_type": "markdown",
   "id": "5a2f8323-efc1-4adb-80b0-adca4013799f",
   "metadata": {},
   "source": [
    "## 4.4 데이터 탐색  \n",
    "데이터의 상태나 특징을 파악하는 작업  "
   ]
  },
  {
   "cell_type": "code",
   "execution_count": 2,
   "id": "0735308c-5b62-4899-acbf-0232dc584517",
   "metadata": {},
   "outputs": [
    {
     "data": {
      "text/plain": [
       "0     사과\n",
       "1      배\n",
       "2     사과\n",
       "3      배\n",
       "4    바나나\n",
       "dtype: object"
      ]
     },
     "execution_count": 2,
     "metadata": {},
     "output_type": "execute_result"
    }
   ],
   "source": [
    "# 과일 목록을 담은 시리즈 생성 \n",
    "# 시리즈 : 인덱스를 가지고 있는 한줄짜리 데이터\n",
    "s = pd.Series(['사과','배','사과','배','바나나'])\n",
    "s"
   ]
  },
  {
   "cell_type": "code",
   "execution_count": 3,
   "id": "3ad9613e-55cf-48df-96c0-fe2cec8ecc33",
   "metadata": {},
   "outputs": [
    {
     "data": {
      "text/plain": [
       "array(['사과', '배', '바나나'], dtype=object)"
      ]
     },
     "execution_count": 3,
     "metadata": {},
     "output_type": "execute_result"
    }
   ],
   "source": [
    "# 중복을 제거하고 유니크한 값만 남기기\n",
    "s.unique()"
   ]
  },
  {
   "cell_type": "code",
   "execution_count": 4,
   "id": "a94064d6-4609-441a-822c-b2d0afbf3d37",
   "metadata": {},
   "outputs": [
    {
     "data": {
      "text/plain": [
       "사과     2\n",
       "배      2\n",
       "바나나    1\n",
       "Name: count, dtype: int64"
      ]
     },
     "execution_count": 4,
     "metadata": {},
     "output_type": "execute_result"
    }
   ],
   "source": [
    "# 원소별 개수 세기\n",
    "s.value_counts()"
   ]
  },
  {
   "cell_type": "markdown",
   "id": "2dfa6033-d21b-4608-98eb-372c0bf4c6ab",
   "metadata": {},
   "source": [
    "## 연습문제"
   ]
  },
  {
   "cell_type": "markdown",
   "id": "858eff17-4c76-405c-a5b5-3f86402ef9b6",
   "metadata": {},
   "source": [
    "### 문제1)  \n",
    "지역 목록을 시리즈로 만들어주세요  \n",
    "값은 ['서울','부산','서울','대구','부산','광주','서울']입니다  \n",
    "\n",
    "중복을 제거한 데이터만 출력하세요  \n",
    "결과 :['서울','부산','대구','광주']  \n",
    "\n",
    "각 도시가 몇번 나왔는지 출력하세요  \n",
    "결과 : 서울 : 3, 부산 :2 , 대구 : 1, 광주 : 1  "
   ]
  },
  {
   "cell_type": "code",
   "execution_count": 5,
   "id": "c47564e7-a923-482b-a4bd-408d3c16db33",
   "metadata": {},
   "outputs": [
    {
     "data": {
      "text/plain": [
       "0    서울\n",
       "1    부산\n",
       "2    서울\n",
       "3    대구\n",
       "4    부산\n",
       "5    광주\n",
       "6    서울\n",
       "dtype: object"
      ]
     },
     "execution_count": 5,
     "metadata": {},
     "output_type": "execute_result"
    }
   ],
   "source": [
    "# 지역 목록을 시리즈로 만들어주세요\n",
    "# 값은 ['서울','부산','서울','대구','부산','광주','서울']입니다\n",
    "\n",
    "s = pd.Series(['서울','부산','서울','대구','부산','광주','서울'])\n",
    "s"
   ]
  },
  {
   "cell_type": "code",
   "execution_count": 6,
   "id": "5616e185-7269-4289-b0b0-cad6228598dd",
   "metadata": {},
   "outputs": [
    {
     "data": {
      "text/plain": [
       "array(['서울', '부산', '대구', '광주'], dtype=object)"
      ]
     },
     "execution_count": 6,
     "metadata": {},
     "output_type": "execute_result"
    }
   ],
   "source": [
    "# 중복을 제거한 데이터만 출력하세요 => 결과 :['서울','부산','대구','광주']\n",
    "s.unique()"
   ]
  },
  {
   "cell_type": "code",
   "execution_count": 7,
   "id": "94f395b1-2cd2-4a3c-a264-75059ef92087",
   "metadata": {},
   "outputs": [
    {
     "data": {
      "text/plain": [
       "서울    3\n",
       "부산    2\n",
       "대구    1\n",
       "광주    1\n",
       "Name: count, dtype: int64"
      ]
     },
     "execution_count": 7,
     "metadata": {},
     "output_type": "execute_result"
    }
   ],
   "source": [
    "# 각 도시가 몇번 나왔는지 출력하세요 => 결과 : 서울 : 3, 부산 :2 , 대구 : 1, 광주 : 1\n",
    "s.value_counts()"
   ]
  },
  {
   "cell_type": "markdown",
   "id": "800772b8-3b2c-4307-974c-5db96d9e3b5b",
   "metadata": {},
   "source": [
    "## 문제2)\n",
    "이름 목록을 시리즈로 만들어 주세요  \n",
    "값은 ['민수','지연','철수','민수','영희','민수','지연'] \n",
    "\n",
    "가장 많이 나온 이름의 수를 출력하세요(결과 : 3)  \n"
   ]
  },
  {
   "cell_type": "code",
   "execution_count": 8,
   "id": "5630c9ef-f5fc-4887-99ec-de6e42f2526d",
   "metadata": {},
   "outputs": [
    {
     "data": {
      "text/plain": [
       "0    민수\n",
       "1    지연\n",
       "2    철수\n",
       "3    민수\n",
       "4    영희\n",
       "5    민수\n",
       "6    지연\n",
       "dtype: object"
      ]
     },
     "execution_count": 8,
     "metadata": {},
     "output_type": "execute_result"
    }
   ],
   "source": [
    "# 이름 목록을 시리즈로 만들어 주세요\n",
    "# 값은 ['민수','지연','철수','민수','영희','민수','지연']\n",
    "\n",
    "s = pd.Series(['민수','지연','철수','민수','영희','민수','지연'])\n",
    "s"
   ]
  },
  {
   "cell_type": "code",
   "execution_count": 14,
   "id": "2b46db9f-bca4-4ebe-958b-d33520b08782",
   "metadata": {},
   "outputs": [
    {
     "data": {
      "text/plain": [
       "np.int64(3)"
      ]
     },
     "execution_count": 14,
     "metadata": {},
     "output_type": "execute_result"
    }
   ],
   "source": [
    "# 가장 많이 나온 이름의 수를 출력하세요(결과 : 3)\n",
    "result = s.value_counts()\n",
    "type(result)\n",
    "result.max()"
   ]
  },
  {
   "cell_type": "code",
   "execution_count": null,
   "id": "f62b536d-9184-4320-b622-e994a2a8c11f",
   "metadata": {},
   "outputs": [],
   "source": [
    "# 판다스의 series는 통계함수 사용할 수 있다\n",
    "# sum, mean, max, min"
   ]
  },
  {
   "cell_type": "code",
   "execution_count": null,
   "id": "d820d64f-e698-443c-a658-8f51a7d211aa",
   "metadata": {},
   "outputs": [],
   "source": []
  }
 ],
 "metadata": {
  "kernelspec": {
   "display_name": "Python 3 (ipykernel)",
   "language": "python",
   "name": "python3"
  },
  "language_info": {
   "codemirror_mode": {
    "name": "ipython",
    "version": 3
   },
   "file_extension": ".py",
   "mimetype": "text/x-python",
   "name": "python",
   "nbconvert_exporter": "python",
   "pygments_lexer": "ipython3",
   "version": "3.10.18"
  }
 },
 "nbformat": 4,
 "nbformat_minor": 5
}
