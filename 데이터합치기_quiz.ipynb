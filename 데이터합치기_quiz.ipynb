{
 "cells": [
  {
   "cell_type": "code",
   "execution_count": 1,
   "id": "95db588b-8a37-4b13-8196-81a4b4fdbbea",
   "metadata": {},
   "outputs": [],
   "source": [
    "import numpy as np\n",
    "import pandas as pd"
   ]
  },
  {
   "cell_type": "markdown",
   "id": "71ee6b59-61cc-4ff1-80a8-1cec318d38eb",
   "metadata": {},
   "source": [
    "## [문제1]  \n",
    "1. 매출 데이터를 담은 Series를 만들고, 멀티 인덱스를 설정하세요  \n",
    "• 인덱스: 지역-지점  \n",
    "• 값: 매출  \n",
    "서울 전체 매출을 조회하세요  \n",
    "부산 해운대점 매출을 조회하세요  "
   ]
  },
  {
   "cell_type": "code",
   "execution_count": 2,
   "id": "69bd1538-7cb2-4aeb-80cd-197f13a18412",
   "metadata": {},
   "outputs": [
    {
     "data": {
      "text/plain": [
       "서울  강남점     120\n",
       "    강북점     100\n",
       "부산  해운대점     90\n",
       "    서면점      80\n",
       "dtype: int64"
      ]
     },
     "execution_count": 2,
     "metadata": {},
     "output_type": "execute_result"
    }
   ],
   "source": [
    "# 매출 데이터를 담은 Series를 만들고, 멀티 인덱스를 설정하세요\n",
    "s = pd.Series([120,100,90,80],\n",
    "              index = [['서울','서울','부산','부산'],['강남점','강북점','해운대점','서면점']])\n",
    "s"
   ]
  },
  {
   "cell_type": "code",
   "execution_count": 3,
   "id": "47107fb9-6240-4509-bc60-3fa3676b4e79",
   "metadata": {},
   "outputs": [
    {
     "data": {
      "text/plain": [
       "강남점    120\n",
       "강북점    100\n",
       "dtype: int64"
      ]
     },
     "execution_count": 3,
     "metadata": {},
     "output_type": "execute_result"
    }
   ],
   "source": [
    "# 서울 전체 매출을 조회하세요\n",
    "s['서울']"
   ]
  },
  {
   "cell_type": "code",
   "execution_count": 4,
   "id": "1ff8e70c-d383-4e07-a82c-89448521d7f6",
   "metadata": {},
   "outputs": [
    {
     "data": {
      "text/plain": [
       "np.int64(90)"
      ]
     },
     "execution_count": 4,
     "metadata": {},
     "output_type": "execute_result"
    }
   ],
   "source": [
    "# 부산 해운대점 매출을 조회하세요\n",
    "s.loc[('부산','해운대점')]"
   ]
  },
  {
   "cell_type": "markdown",
   "id": "4c6d2734-23e2-478e-be23-40c80277ebaf",
   "metadata": {},
   "source": [
    "## [문제2]\n",
    "2. 쇼핑몰의 판매량 데이터를 담은 Series를 만들고, 멀티 인덱스을 설정하세요  \n",
    "• 인덱스 : 카테고리-상품명  \n",
    "• 값: 판매량  \n",
    "전자제품 카테고리 전체 판매량을 조회하세요  \n",
    "식품 카테고리의 라면 판매량을 조회하세요"
   ]
  },
  {
   "cell_type": "code",
   "execution_count": 5,
   "id": "d79ff6ec-d7cd-4e43-8f6e-77071a6e61b9",
   "metadata": {},
   "outputs": [
    {
     "data": {
      "text/plain": [
       "전자제품  노트북    300\n",
       "      휴대폰    250\n",
       "식품    라면     500\n",
       "      과자     400\n",
       "dtype: int64"
      ]
     },
     "execution_count": 5,
     "metadata": {},
     "output_type": "execute_result"
    }
   ],
   "source": [
    "# 쇼핑몰의 판매량 데이터를 담은 Series를 만들고, 멀티 인덱스을 설정하세요\n",
    "s = pd.Series([300,250,500,400],\n",
    "              index=[['전자제품','전자제품','식품','식품'],\n",
    "                     ['노트북','휴대폰','라면','과자']])\n",
    "s"
   ]
  },
  {
   "cell_type": "code",
   "execution_count": 6,
   "id": "791c9ed4-a404-4bb8-a38e-843a4d4053e1",
   "metadata": {},
   "outputs": [
    {
     "data": {
      "text/plain": [
       "노트북    300\n",
       "휴대폰    250\n",
       "dtype: int64"
      ]
     },
     "execution_count": 6,
     "metadata": {},
     "output_type": "execute_result"
    }
   ],
   "source": [
    "# 전자제품 카테고리 전체 판매량을 조회하세요\n",
    "s['전자제품']"
   ]
  },
  {
   "cell_type": "code",
   "execution_count": 7,
   "id": "ae7ca913-2858-4a18-a760-f41f28e02371",
   "metadata": {},
   "outputs": [
    {
     "data": {
      "text/plain": [
       "np.int64(500)"
      ]
     },
     "execution_count": 7,
     "metadata": {},
     "output_type": "execute_result"
    }
   ],
   "source": [
    "# 식품 카테고리의 라면 판매량을 조회하세요\n",
    "s.loc[('식품','라면')]"
   ]
  },
  {
   "cell_type": "code",
   "execution_count": null,
   "id": "b74f24a1-fcf8-419e-8bb0-bf602cef29e8",
   "metadata": {},
   "outputs": [],
   "source": []
  },
  {
   "cell_type": "markdown",
   "id": "914fbde2-6d97-409d-b467-98c26bd9301b",
   "metadata": {},
   "source": [
    "## [문제3]\n",
    "3. 도서관의 대출 건수를 담은 Series를 만들고 멀티 인덱스를 설정하세요  \n",
    "• 인덱스: 학년-과목  \n",
    "• 값: 대출 건수  \n",
    "1학년 전체 대출 건수를 조회하세요  \n",
    "2학년 수학 과목의 대출 건수를 조회하세요  "
   ]
  },
  {
   "cell_type": "code",
   "execution_count": 8,
   "id": "dd198fbb-34de-4fd1-8c73-6126e32bbada",
   "metadata": {},
   "outputs": [
    {
     "data": {
      "text/plain": [
       "1학년  국어    40\n",
       "     국어    35\n",
       "2학년  수학    50\n",
       "     수학    45\n",
       "dtype: int64"
      ]
     },
     "execution_count": 8,
     "metadata": {},
     "output_type": "execute_result"
    }
   ],
   "source": [
    "# 도서관의 대출 건수를 담은 Series를 만들고 멀티 인덱스를 설정하세요\n",
    "s = pd.Series([40,35,50,45],\n",
    "              index=[['1학년','1학년','2학년','2학년'],['국어','국어','수학','수학']])\n",
    "s"
   ]
  },
  {
   "cell_type": "code",
   "execution_count": 9,
   "id": "b023090c-0072-4469-89e9-326f06cddafc",
   "metadata": {},
   "outputs": [
    {
     "data": {
      "text/plain": [
       "국어    40\n",
       "국어    35\n",
       "dtype: int64"
      ]
     },
     "execution_count": 9,
     "metadata": {},
     "output_type": "execute_result"
    }
   ],
   "source": [
    "# 1학년 전체 대출 건수를 조회하세요\n",
    "s['1학년']"
   ]
  },
  {
   "cell_type": "code",
   "execution_count": 11,
   "id": "2222b9ec-1d9e-4f6b-b882-184701bb3566",
   "metadata": {},
   "outputs": [
    {
     "data": {
      "text/plain": [
       "2학년  수학    50\n",
       "     수학    45\n",
       "dtype: int64"
      ]
     },
     "execution_count": 11,
     "metadata": {},
     "output_type": "execute_result"
    }
   ],
   "source": [
    "# 2학년 수학 과목의 대출 건수를 조회하세요\n",
    "s.loc[('2학년','수학')]"
   ]
  },
  {
   "cell_type": "markdown",
   "id": "0d97e12c-9fa5-4352-a758-65a2157d7fa9",
   "metadata": {},
   "source": [
    "## [문제4]\n",
    "1. 도서관 대출 건수를 담은 DataFrame를 만들고, 멀티 인덱스를 설정하세요  \n",
    "• 행 인덱스: 도서관-월  \n",
    "• 열: 소설, 과학  \n",
    "• 값: 대출 건수  \n",
    "중앙도서관 전체 대출 건수를 조회하세요  \n",
    "시립도서관 2월의 과학 대출 건수를 조회하세요  "
   ]
  },
  {
   "cell_type": "code",
   "execution_count": 19,
   "id": "841c27a7-71fc-4f43-b1da-a88770d1310e",
   "metadata": {},
   "outputs": [
    {
     "data": {
      "text/html": [
       "<div>\n",
       "<style scoped>\n",
       "    .dataframe tbody tr th:only-of-type {\n",
       "        vertical-align: middle;\n",
       "    }\n",
       "\n",
       "    .dataframe tbody tr th {\n",
       "        vertical-align: top;\n",
       "    }\n",
       "\n",
       "    .dataframe thead th {\n",
       "        text-align: right;\n",
       "    }\n",
       "</style>\n",
       "<table border=\"1\" class=\"dataframe\">\n",
       "  <thead>\n",
       "    <tr style=\"text-align: right;\">\n",
       "      <th></th>\n",
       "      <th></th>\n",
       "      <th>소설</th>\n",
       "      <th>과학</th>\n",
       "    </tr>\n",
       "  </thead>\n",
       "  <tbody>\n",
       "    <tr>\n",
       "      <th rowspan=\"2\" valign=\"top\">중앙도서관</th>\n",
       "      <th>1월</th>\n",
       "      <td>125</td>\n",
       "      <td>45</td>\n",
       "    </tr>\n",
       "    <tr>\n",
       "      <th>2월</th>\n",
       "      <td>95</td>\n",
       "      <td>60</td>\n",
       "    </tr>\n",
       "    <tr>\n",
       "      <th rowspan=\"2\" valign=\"top\">시립도서관</th>\n",
       "      <th>1월</th>\n",
       "      <td>150</td>\n",
       "      <td>70</td>\n",
       "    </tr>\n",
       "    <tr>\n",
       "      <th>2월</th>\n",
       "      <td>110</td>\n",
       "      <td>55</td>\n",
       "    </tr>\n",
       "  </tbody>\n",
       "</table>\n",
       "</div>"
      ],
      "text/plain": [
       "           소설  과학\n",
       "중앙도서관 1월  125  45\n",
       "      2월   95  60\n",
       "시립도서관 1월  150  70\n",
       "      2월  110  55"
      ]
     },
     "execution_count": 19,
     "metadata": {},
     "output_type": "execute_result"
    }
   ],
   "source": [
    "# 도서관 대출 건수를 담은 DataFrame를 만들고, 멀티 인덱스를 설정하세요\n",
    "df = pd.DataFrame([[125,45],[95,60],[150,70],[110,55]],\n",
    "                index=[['중앙도서관','중앙도서관','시립도서관','시립도서관'],\n",
    "                         ['1월','2월','1월','2월']],\n",
    "                 columns=['소설','과학']\n",
    "                )\n",
    "df"
   ]
  },
  {
   "cell_type": "code",
   "execution_count": 20,
   "id": "639ef733-7d94-4b75-b0cb-4b30b1892c10",
   "metadata": {},
   "outputs": [
    {
     "data": {
      "text/html": [
       "<div>\n",
       "<style scoped>\n",
       "    .dataframe tbody tr th:only-of-type {\n",
       "        vertical-align: middle;\n",
       "    }\n",
       "\n",
       "    .dataframe tbody tr th {\n",
       "        vertical-align: top;\n",
       "    }\n",
       "\n",
       "    .dataframe thead th {\n",
       "        text-align: right;\n",
       "    }\n",
       "</style>\n",
       "<table border=\"1\" class=\"dataframe\">\n",
       "  <thead>\n",
       "    <tr style=\"text-align: right;\">\n",
       "      <th></th>\n",
       "      <th>소설</th>\n",
       "      <th>과학</th>\n",
       "    </tr>\n",
       "  </thead>\n",
       "  <tbody>\n",
       "    <tr>\n",
       "      <th>1월</th>\n",
       "      <td>125</td>\n",
       "      <td>45</td>\n",
       "    </tr>\n",
       "    <tr>\n",
       "      <th>2월</th>\n",
       "      <td>95</td>\n",
       "      <td>60</td>\n",
       "    </tr>\n",
       "  </tbody>\n",
       "</table>\n",
       "</div>"
      ],
      "text/plain": [
       "     소설  과학\n",
       "1월  125  45\n",
       "2월   95  60"
      ]
     },
     "execution_count": 20,
     "metadata": {},
     "output_type": "execute_result"
    }
   ],
   "source": [
    "# 중앙도서관 전체 대출 건수를 조회하세요\n",
    "df.loc['중앙도서관']"
   ]
  },
  {
   "cell_type": "code",
   "execution_count": 21,
   "id": "55de7a5f-088e-4559-a2fa-d5f908329b27",
   "metadata": {},
   "outputs": [
    {
     "data": {
      "text/plain": [
       "np.int64(55)"
      ]
     },
     "execution_count": 21,
     "metadata": {},
     "output_type": "execute_result"
    }
   ],
   "source": [
    "# 시립도서관 2월의 과학 대출 건수를 조회하세요\n",
    "df.loc[('시립도서관','2월'),'과학']"
   ]
  },
  {
   "cell_type": "markdown",
   "id": "85e76bcc-3c19-4e43-905a-31bc0f3b0b85",
   "metadata": {},
   "source": [
    "## [문제5]\n",
    "2. 자동차 판매량 데이터를 담은 DataFrame를 만들고, 멀티 인덱스를 설정하세요  \n",
    "• 행 인덱스: 연도-차종  \n",
    "• 열: 1분기, 2분기  \n",
    "• 값: 판매 대수  \n",
    "2022년 전체 판매량을 조회하세요  \n",
    "2023년 세단의 2분기 판매량을 조회하세요  \n"
   ]
  },
  {
   "cell_type": "code",
   "execution_count": 26,
   "id": "6125b715-dad7-4341-b7be-d396a775812e",
   "metadata": {},
   "outputs": [
    {
     "data": {
      "text/html": [
       "<div>\n",
       "<style scoped>\n",
       "    .dataframe tbody tr th:only-of-type {\n",
       "        vertical-align: middle;\n",
       "    }\n",
       "\n",
       "    .dataframe tbody tr th {\n",
       "        vertical-align: top;\n",
       "    }\n",
       "\n",
       "    .dataframe thead th {\n",
       "        text-align: right;\n",
       "    }\n",
       "</style>\n",
       "<table border=\"1\" class=\"dataframe\">\n",
       "  <thead>\n",
       "    <tr style=\"text-align: right;\">\n",
       "      <th></th>\n",
       "      <th></th>\n",
       "      <th>1분기</th>\n",
       "      <th>2분기</th>\n",
       "    </tr>\n",
       "  </thead>\n",
       "  <tbody>\n",
       "    <tr>\n",
       "      <th rowspan=\"2\" valign=\"top\">2022년</th>\n",
       "      <th>SUV</th>\n",
       "      <td>320</td>\n",
       "      <td>280</td>\n",
       "    </tr>\n",
       "    <tr>\n",
       "      <th>세단</th>\n",
       "      <td>210</td>\n",
       "      <td>230</td>\n",
       "    </tr>\n",
       "    <tr>\n",
       "      <th rowspan=\"2\" valign=\"top\">2023년</th>\n",
       "      <th>SUV</th>\n",
       "      <td>400</td>\n",
       "      <td>390</td>\n",
       "    </tr>\n",
       "    <tr>\n",
       "      <th>세단</th>\n",
       "      <td>180</td>\n",
       "      <td>200</td>\n",
       "    </tr>\n",
       "  </tbody>\n",
       "</table>\n",
       "</div>"
      ],
      "text/plain": [
       "           1분기  2분기\n",
       "2022년 SUV  320  280\n",
       "      세단   210  230\n",
       "2023년 SUV  400  390\n",
       "      세단   180  200"
      ]
     },
     "execution_count": 26,
     "metadata": {},
     "output_type": "execute_result"
    }
   ],
   "source": [
    "df = pd.DataFrame([[320,280],[210,230],[400,390],[180,200]],\n",
    "                  index = [['2022년','2022년','2023년','2023년'],\n",
    "                              ['SUV','세단','SUV','세단']],\n",
    "                  columns = ['1분기','2분기'] )\n",
    "df"
   ]
  },
  {
   "cell_type": "code",
   "execution_count": 28,
   "id": "1e211fb7-da47-45bf-8440-84fd53da3ab3",
   "metadata": {},
   "outputs": [
    {
     "data": {
      "text/html": [
       "<div>\n",
       "<style scoped>\n",
       "    .dataframe tbody tr th:only-of-type {\n",
       "        vertical-align: middle;\n",
       "    }\n",
       "\n",
       "    .dataframe tbody tr th {\n",
       "        vertical-align: top;\n",
       "    }\n",
       "\n",
       "    .dataframe thead th {\n",
       "        text-align: right;\n",
       "    }\n",
       "</style>\n",
       "<table border=\"1\" class=\"dataframe\">\n",
       "  <thead>\n",
       "    <tr style=\"text-align: right;\">\n",
       "      <th></th>\n",
       "      <th>1분기</th>\n",
       "      <th>2분기</th>\n",
       "    </tr>\n",
       "  </thead>\n",
       "  <tbody>\n",
       "    <tr>\n",
       "      <th>SUV</th>\n",
       "      <td>320</td>\n",
       "      <td>280</td>\n",
       "    </tr>\n",
       "    <tr>\n",
       "      <th>세단</th>\n",
       "      <td>210</td>\n",
       "      <td>230</td>\n",
       "    </tr>\n",
       "  </tbody>\n",
       "</table>\n",
       "</div>"
      ],
      "text/plain": [
       "     1분기  2분기\n",
       "SUV  320  280\n",
       "세단   210  230"
      ]
     },
     "execution_count": 28,
     "metadata": {},
     "output_type": "execute_result"
    }
   ],
   "source": [
    "# 2022년 전체 판매량을 조회하세요\n",
    "df.loc['2022년']"
   ]
  },
  {
   "cell_type": "code",
   "execution_count": 29,
   "id": "a5c6131b-67d6-4dbd-af9a-7ae56dd9f6ac",
   "metadata": {},
   "outputs": [
    {
     "data": {
      "text/plain": [
       "np.int64(200)"
      ]
     },
     "execution_count": 29,
     "metadata": {},
     "output_type": "execute_result"
    }
   ],
   "source": [
    "# 2023년 세단의 2분기 판매량을 조회하세요\n",
    "df.loc[('2023년','세단'),'2분기']"
   ]
  },
  {
   "cell_type": "markdown",
   "id": "5cdc1808-50d5-4246-820b-8b72555d600d",
   "metadata": {},
   "source": [
    "## [문제6]\n",
    "3. 호텔 예약 건수를 담은 DataFrame를 만들고, 멀티 인덱스를 설정하세요  \n",
    "• 행 인덱스: 지점-월  \n",
    "• 열: 싱글룸, 더블룸  \n",
    "• 값: 예약 건수  \n",
    "서울지점 전체 예약 건수를 조회하세요  \n",
    "부산지점 8월의 더블룸 예약 건수를 조회하세요  "
   ]
  },
  {
   "cell_type": "code",
   "execution_count": 35,
   "id": "c8ff7bfd-698f-4791-b124-ff9746ce200e",
   "metadata": {},
   "outputs": [
    {
     "data": {
      "text/html": [
       "<div>\n",
       "<style scoped>\n",
       "    .dataframe tbody tr th:only-of-type {\n",
       "        vertical-align: middle;\n",
       "    }\n",
       "\n",
       "    .dataframe tbody tr th {\n",
       "        vertical-align: top;\n",
       "    }\n",
       "\n",
       "    .dataframe thead th {\n",
       "        text-align: right;\n",
       "    }\n",
       "</style>\n",
       "<table border=\"1\" class=\"dataframe\">\n",
       "  <thead>\n",
       "    <tr style=\"text-align: right;\">\n",
       "      <th></th>\n",
       "      <th></th>\n",
       "      <th>싱글룸</th>\n",
       "      <th>더블룸</th>\n",
       "    </tr>\n",
       "  </thead>\n",
       "  <tbody>\n",
       "    <tr>\n",
       "      <th rowspan=\"2\" valign=\"top\">서울지점</th>\n",
       "      <th>7월</th>\n",
       "      <td>45</td>\n",
       "      <td>30</td>\n",
       "    </tr>\n",
       "    <tr>\n",
       "      <th>8월</th>\n",
       "      <td>50</td>\n",
       "      <td>35</td>\n",
       "    </tr>\n",
       "    <tr>\n",
       "      <th rowspan=\"2\" valign=\"top\">부산지점</th>\n",
       "      <th>7월</th>\n",
       "      <td>60</td>\n",
       "      <td>40</td>\n",
       "    </tr>\n",
       "    <tr>\n",
       "      <th>8월</th>\n",
       "      <td>55</td>\n",
       "      <td>38</td>\n",
       "    </tr>\n",
       "  </tbody>\n",
       "</table>\n",
       "</div>"
      ],
      "text/plain": [
       "         싱글룸  더블룸\n",
       "서울지점 7월   45   30\n",
       "     8월   50   35\n",
       "부산지점 7월   60   40\n",
       "     8월   55   38"
      ]
     },
     "execution_count": 35,
     "metadata": {},
     "output_type": "execute_result"
    }
   ],
   "source": [
    "# 호텔 예약 건수를 담은 DataFrame를 만들고, 멀티 인덱스를 설정하세요\n",
    "df = pd.DataFrame([[45,30],[50,35],[60,40],[55,38]],\n",
    "                  index=[['서울지점','서울지점','부산지점','부산지점'],\n",
    "                        ['7월','8월','7월','8월']],\n",
    "                  columns=['싱글룸','더블룸'])\n",
    "df"
   ]
  },
  {
   "cell_type": "code",
   "execution_count": 36,
   "id": "68a0de22-0f4d-43e0-a584-72a1512b95b8",
   "metadata": {},
   "outputs": [
    {
     "data": {
      "text/html": [
       "<div>\n",
       "<style scoped>\n",
       "    .dataframe tbody tr th:only-of-type {\n",
       "        vertical-align: middle;\n",
       "    }\n",
       "\n",
       "    .dataframe tbody tr th {\n",
       "        vertical-align: top;\n",
       "    }\n",
       "\n",
       "    .dataframe thead th {\n",
       "        text-align: right;\n",
       "    }\n",
       "</style>\n",
       "<table border=\"1\" class=\"dataframe\">\n",
       "  <thead>\n",
       "    <tr style=\"text-align: right;\">\n",
       "      <th></th>\n",
       "      <th>싱글룸</th>\n",
       "      <th>더블룸</th>\n",
       "    </tr>\n",
       "  </thead>\n",
       "  <tbody>\n",
       "    <tr>\n",
       "      <th>7월</th>\n",
       "      <td>45</td>\n",
       "      <td>30</td>\n",
       "    </tr>\n",
       "    <tr>\n",
       "      <th>8월</th>\n",
       "      <td>50</td>\n",
       "      <td>35</td>\n",
       "    </tr>\n",
       "  </tbody>\n",
       "</table>\n",
       "</div>"
      ],
      "text/plain": [
       "    싱글룸  더블룸\n",
       "7월   45   30\n",
       "8월   50   35"
      ]
     },
     "execution_count": 36,
     "metadata": {},
     "output_type": "execute_result"
    }
   ],
   "source": [
    "# 서울지점 전체 예약 건수를 조회하세요\n",
    "df.loc['서울지점']"
   ]
  },
  {
   "cell_type": "code",
   "execution_count": 37,
   "id": "214b6ad2-c90a-4705-846a-e18a0744ca24",
   "metadata": {},
   "outputs": [
    {
     "data": {
      "text/plain": [
       "np.int64(38)"
      ]
     },
     "execution_count": 37,
     "metadata": {},
     "output_type": "execute_result"
    }
   ],
   "source": [
    "# 부산지점 8월의 더블룸 예약 건수를 조회하세요\n",
    "df.loc[('부산지점','8월'),'더블룸']"
   ]
  },
  {
   "cell_type": "markdown",
   "id": "aa24ab26-6b66-4e72-b3e7-0c5bf626442c",
   "metadata": {},
   "source": [
    "## [문제7]\n",
    "4. 쇼핑몰 주문 건수를 담은 DataFrame를 만들고, 멀티 인덱스를 설정하세요  \n",
    "• 행 인덱스: 카테고리-상품  \n",
    "• 열: 1월, 2월  \n",
    "• 값: 주문 건수  \n",
    "가전 카테고리 전체 주문 건수를 조회하세요  \n",
    "식품 카테고리 라면의 2월 주문 건수를 조회하세요  "
   ]
  },
  {
   "cell_type": "code",
   "execution_count": 38,
   "id": "3791c40e-25be-4e25-b346-dcd793be60b6",
   "metadata": {},
   "outputs": [
    {
     "data": {
      "text/html": [
       "<div>\n",
       "<style scoped>\n",
       "    .dataframe tbody tr th:only-of-type {\n",
       "        vertical-align: middle;\n",
       "    }\n",
       "\n",
       "    .dataframe tbody tr th {\n",
       "        vertical-align: top;\n",
       "    }\n",
       "\n",
       "    .dataframe thead th {\n",
       "        text-align: right;\n",
       "    }\n",
       "</style>\n",
       "<table border=\"1\" class=\"dataframe\">\n",
       "  <thead>\n",
       "    <tr style=\"text-align: right;\">\n",
       "      <th></th>\n",
       "      <th></th>\n",
       "      <th>1월</th>\n",
       "      <th>2월</th>\n",
       "    </tr>\n",
       "  </thead>\n",
       "  <tbody>\n",
       "    <tr>\n",
       "      <th rowspan=\"2\" valign=\"top\">가전</th>\n",
       "      <th>노트북</th>\n",
       "      <td>120</td>\n",
       "      <td>140</td>\n",
       "    </tr>\n",
       "    <tr>\n",
       "      <th>청소기</th>\n",
       "      <td>80</td>\n",
       "      <td>95</td>\n",
       "    </tr>\n",
       "    <tr>\n",
       "      <th rowspan=\"2\" valign=\"top\">식품</th>\n",
       "      <th>라면</th>\n",
       "      <td>200</td>\n",
       "      <td>220</td>\n",
       "    </tr>\n",
       "    <tr>\n",
       "      <th>과자</th>\n",
       "      <td>150</td>\n",
       "      <td>160</td>\n",
       "    </tr>\n",
       "  </tbody>\n",
       "</table>\n",
       "</div>"
      ],
      "text/plain": [
       "         1월   2월\n",
       "가전 노트북  120  140\n",
       "   청소기   80   95\n",
       "식품 라면   200  220\n",
       "   과자   150  160"
      ]
     },
     "execution_count": 38,
     "metadata": {},
     "output_type": "execute_result"
    }
   ],
   "source": [
    "# 쇼핑몰 주문 건수를 담은 DataFrame를 만들고, 멀티 인덱스를 설정하세요\n",
    "df = pd.DataFrame([[120,140],[80,95],[200,220],[150,160]],\n",
    "                  index=[['가전','가전','식품','식품'],\n",
    "                        ['노트북','청소기','라면','과자']],\n",
    "                  columns=['1월','2월'])\n",
    "df"
   ]
  },
  {
   "cell_type": "code",
   "execution_count": 39,
   "id": "3ae4d331-54fe-4e2f-9096-3604c3ad1286",
   "metadata": {},
   "outputs": [
    {
     "data": {
      "text/html": [
       "<div>\n",
       "<style scoped>\n",
       "    .dataframe tbody tr th:only-of-type {\n",
       "        vertical-align: middle;\n",
       "    }\n",
       "\n",
       "    .dataframe tbody tr th {\n",
       "        vertical-align: top;\n",
       "    }\n",
       "\n",
       "    .dataframe thead th {\n",
       "        text-align: right;\n",
       "    }\n",
       "</style>\n",
       "<table border=\"1\" class=\"dataframe\">\n",
       "  <thead>\n",
       "    <tr style=\"text-align: right;\">\n",
       "      <th></th>\n",
       "      <th>1월</th>\n",
       "      <th>2월</th>\n",
       "    </tr>\n",
       "  </thead>\n",
       "  <tbody>\n",
       "    <tr>\n",
       "      <th>노트북</th>\n",
       "      <td>120</td>\n",
       "      <td>140</td>\n",
       "    </tr>\n",
       "    <tr>\n",
       "      <th>청소기</th>\n",
       "      <td>80</td>\n",
       "      <td>95</td>\n",
       "    </tr>\n",
       "  </tbody>\n",
       "</table>\n",
       "</div>"
      ],
      "text/plain": [
       "      1월   2월\n",
       "노트북  120  140\n",
       "청소기   80   95"
      ]
     },
     "execution_count": 39,
     "metadata": {},
     "output_type": "execute_result"
    }
   ],
   "source": [
    "# 가전 카테고리 전체 주문 건수를 조회하세요\n",
    "df.loc['가전']"
   ]
  },
  {
   "cell_type": "code",
   "execution_count": 40,
   "id": "5ecaf6dd-381d-441b-a91a-f39af8fbf49b",
   "metadata": {},
   "outputs": [
    {
     "data": {
      "text/plain": [
       "np.int64(220)"
      ]
     },
     "execution_count": 40,
     "metadata": {},
     "output_type": "execute_result"
    }
   ],
   "source": [
    "# 식품 카테고리 라면의 2월 주문 건수를 조회하세요\n",
    "df.loc[('식품','라면'),'2월']"
   ]
  },
  {
   "cell_type": "markdown",
   "id": "1ccf0970-1a1a-4a6e-88a4-6eca2706ee75",
   "metadata": {},
   "source": [
    "## [문제8] "
   ]
  },
  {
   "cell_type": "code",
   "execution_count": 41,
   "id": "69987ecb-b8c9-402c-b32c-fa27fed689fd",
   "metadata": {},
   "outputs": [
    {
     "name": "stdout",
     "output_type": "stream",
     "text": [
      "   고객ID  이름\n",
      "0   101  철수\n",
      "1   102  영희\n",
      "2   103  민수\n"
     ]
    },
    {
     "data": {
      "text/html": [
       "<div>\n",
       "<style scoped>\n",
       "    .dataframe tbody tr th:only-of-type {\n",
       "        vertical-align: middle;\n",
       "    }\n",
       "\n",
       "    .dataframe tbody tr th {\n",
       "        vertical-align: top;\n",
       "    }\n",
       "\n",
       "    .dataframe thead th {\n",
       "        text-align: right;\n",
       "    }\n",
       "</style>\n",
       "<table border=\"1\" class=\"dataframe\">\n",
       "  <thead>\n",
       "    <tr style=\"text-align: right;\">\n",
       "      <th></th>\n",
       "      <th>고객ID</th>\n",
       "      <th>상품</th>\n",
       "    </tr>\n",
       "  </thead>\n",
       "  <tbody>\n",
       "    <tr>\n",
       "      <th>0</th>\n",
       "      <td>101</td>\n",
       "      <td>노트북</td>\n",
       "    </tr>\n",
       "    <tr>\n",
       "      <th>1</th>\n",
       "      <td>104</td>\n",
       "      <td>청소기</td>\n",
       "    </tr>\n",
       "    <tr>\n",
       "      <th>2</th>\n",
       "      <td>102</td>\n",
       "      <td>책</td>\n",
       "    </tr>\n",
       "  </tbody>\n",
       "</table>\n",
       "</div>"
      ],
      "text/plain": [
       "   고객ID   상품\n",
       "0   101  노트북\n",
       "1   104  청소기\n",
       "2   102    책"
      ]
     },
     "execution_count": 41,
     "metadata": {},
     "output_type": "execute_result"
    }
   ],
   "source": [
    "# 1.고객 데이터를 담은 DataFrame와 주문 데이터를 담은 DataFrame를 만들고, 고객ID 기준으로 합치세요\n",
    "# → 결과를 보고 어떤 join 방식을 쓸지 결정하세요\n",
    "df1 = pd.DataFrame({'고객ID':[101,102,103], '이름':['철수','영희','민수']}) \n",
    "print(df1)\n",
    "df2 = pd.DataFrame({'고객ID':[101,104,102], '상품':['노트북','청소기','책']})\n",
    "df2"
   ]
  },
  {
   "cell_type": "code",
   "execution_count": 43,
   "id": "6d2aec83-3dad-4eb5-ae7a-b1a84c7936b8",
   "metadata": {},
   "outputs": [
    {
     "data": {
      "text/html": [
       "<div>\n",
       "<style scoped>\n",
       "    .dataframe tbody tr th:only-of-type {\n",
       "        vertical-align: middle;\n",
       "    }\n",
       "\n",
       "    .dataframe tbody tr th {\n",
       "        vertical-align: top;\n",
       "    }\n",
       "\n",
       "    .dataframe thead th {\n",
       "        text-align: right;\n",
       "    }\n",
       "</style>\n",
       "<table border=\"1\" class=\"dataframe\">\n",
       "  <thead>\n",
       "    <tr style=\"text-align: right;\">\n",
       "      <th></th>\n",
       "      <th>고객ID</th>\n",
       "      <th>이름</th>\n",
       "      <th>상품</th>\n",
       "    </tr>\n",
       "  </thead>\n",
       "  <tbody>\n",
       "    <tr>\n",
       "      <th>0</th>\n",
       "      <td>101</td>\n",
       "      <td>철수</td>\n",
       "      <td>노트북</td>\n",
       "    </tr>\n",
       "    <tr>\n",
       "      <th>1</th>\n",
       "      <td>102</td>\n",
       "      <td>영희</td>\n",
       "      <td>책</td>\n",
       "    </tr>\n",
       "  </tbody>\n",
       "</table>\n",
       "</div>"
      ],
      "text/plain": [
       "   고객ID  이름   상품\n",
       "0   101  철수  노트북\n",
       "1   102  영희    책"
      ]
     },
     "execution_count": 43,
     "metadata": {},
     "output_type": "execute_result"
    }
   ],
   "source": [
    "pd.merge(df1,df2, on='고객ID')"
   ]
  },
  {
   "cell_type": "code",
   "execution_count": 45,
   "id": "3c91d3ff-1b35-4497-a23e-602cc34eaf8b",
   "metadata": {},
   "outputs": [
    {
     "name": "stdout",
     "output_type": "stream",
     "text": [
      "   사번   이름\n",
      "0   1  홍길동\n",
      "1   2  임꺽정\n",
      "2   3  이몽룡\n",
      "   사번  부서\n",
      "0   1  영업\n",
      "1   3  개발\n"
     ]
    }
   ],
   "source": [
    "# 2. 직원 데이터를 담은 DataFrame와 부서 데이터를 담은 DataFrame를 만들고,\n",
    "# 사번 기준으로 합치세요\n",
    "df1 = pd.DataFrame({'사번':[1,2,3], '이름':['홍길동','임꺽정','이몽룡']}) \n",
    "print(df1)\n",
    "df2 = pd.DataFrame({'사번':[1,3], '부서':['영업','개발']}) \n",
    "print(df2)"
   ]
  },
  {
   "cell_type": "code",
   "execution_count": 46,
   "id": "686b5dc9-7748-44e9-97f2-6e0e3c18b741",
   "metadata": {},
   "outputs": [
    {
     "data": {
      "text/html": [
       "<div>\n",
       "<style scoped>\n",
       "    .dataframe tbody tr th:only-of-type {\n",
       "        vertical-align: middle;\n",
       "    }\n",
       "\n",
       "    .dataframe tbody tr th {\n",
       "        vertical-align: top;\n",
       "    }\n",
       "\n",
       "    .dataframe thead th {\n",
       "        text-align: right;\n",
       "    }\n",
       "</style>\n",
       "<table border=\"1\" class=\"dataframe\">\n",
       "  <thead>\n",
       "    <tr style=\"text-align: right;\">\n",
       "      <th></th>\n",
       "      <th>사번</th>\n",
       "      <th>이름</th>\n",
       "      <th>부서</th>\n",
       "    </tr>\n",
       "  </thead>\n",
       "  <tbody>\n",
       "    <tr>\n",
       "      <th>0</th>\n",
       "      <td>1</td>\n",
       "      <td>홍길동</td>\n",
       "      <td>영업</td>\n",
       "    </tr>\n",
       "    <tr>\n",
       "      <th>1</th>\n",
       "      <td>2</td>\n",
       "      <td>임꺽정</td>\n",
       "      <td>NaN</td>\n",
       "    </tr>\n",
       "    <tr>\n",
       "      <th>2</th>\n",
       "      <td>3</td>\n",
       "      <td>이몽룡</td>\n",
       "      <td>개발</td>\n",
       "    </tr>\n",
       "  </tbody>\n",
       "</table>\n",
       "</div>"
      ],
      "text/plain": [
       "   사번   이름   부서\n",
       "0   1  홍길동   영업\n",
       "1   2  임꺽정  NaN\n",
       "2   3  이몽룡   개발"
      ]
     },
     "execution_count": 46,
     "metadata": {},
     "output_type": "execute_result"
    }
   ],
   "source": [
    "pd.merge(df1,df2, on='사번', how='left')"
   ]
  },
  {
   "cell_type": "code",
   "execution_count": 47,
   "id": "37593db9-6b93-481e-b687-3b243f486878",
   "metadata": {},
   "outputs": [
    {
     "name": "stdout",
     "output_type": "stream",
     "text": [
      "  상품코드  상품명\n",
      "0   A1  노트북\n",
      "1   A2  청소기\n",
      "2   A3   책상\n",
      "  상품코드  재고\n",
      "0   A2   5\n",
      "1   A3   8\n",
      "2   A4  10\n"
     ]
    }
   ],
   "source": [
    "# 3. 상품 데이터를 담은 DataFrame와 재고 데이터를 담은 DataFrame를 만들고,\n",
    "# 상품코드 기준으로 합치세요\n",
    "\n",
    "df1 = pd.DataFrame({'상품코드':['A1','A2','A3'], '상품명':['노트북','청소기','책상']}) \n",
    "print(df1)\n",
    "df2 = pd.DataFrame({'상품코드':['A2','A3','A4'], '재고':[5,8,10]}) \n",
    "print(df2)"
   ]
  },
  {
   "cell_type": "code",
   "execution_count": 48,
   "id": "a120d526-7aec-4675-9950-95c4bf2a43cc",
   "metadata": {},
   "outputs": [
    {
     "data": {
      "text/html": [
       "<div>\n",
       "<style scoped>\n",
       "    .dataframe tbody tr th:only-of-type {\n",
       "        vertical-align: middle;\n",
       "    }\n",
       "\n",
       "    .dataframe tbody tr th {\n",
       "        vertical-align: top;\n",
       "    }\n",
       "\n",
       "    .dataframe thead th {\n",
       "        text-align: right;\n",
       "    }\n",
       "</style>\n",
       "<table border=\"1\" class=\"dataframe\">\n",
       "  <thead>\n",
       "    <tr style=\"text-align: right;\">\n",
       "      <th></th>\n",
       "      <th>상품코드</th>\n",
       "      <th>상품명</th>\n",
       "      <th>재고</th>\n",
       "    </tr>\n",
       "  </thead>\n",
       "  <tbody>\n",
       "    <tr>\n",
       "      <th>0</th>\n",
       "      <td>A2</td>\n",
       "      <td>청소기</td>\n",
       "      <td>5</td>\n",
       "    </tr>\n",
       "    <tr>\n",
       "      <th>1</th>\n",
       "      <td>A3</td>\n",
       "      <td>책상</td>\n",
       "      <td>8</td>\n",
       "    </tr>\n",
       "    <tr>\n",
       "      <th>2</th>\n",
       "      <td>A4</td>\n",
       "      <td>NaN</td>\n",
       "      <td>10</td>\n",
       "    </tr>\n",
       "  </tbody>\n",
       "</table>\n",
       "</div>"
      ],
      "text/plain": [
       "  상품코드  상품명  재고\n",
       "0   A2  청소기   5\n",
       "1   A3   책상   8\n",
       "2   A4  NaN  10"
      ]
     },
     "execution_count": 48,
     "metadata": {},
     "output_type": "execute_result"
    }
   ],
   "source": [
    "pd.merge(df1,df2, on='상품코드', how='right')"
   ]
  },
  {
   "cell_type": "code",
   "execution_count": 49,
   "id": "0503e8ac-c4e7-4a38-a49c-08bd46f76557",
   "metadata": {},
   "outputs": [
    {
     "name": "stdout",
     "output_type": "stream",
     "text": [
      "   학번  이름\n",
      "0   1  지훈\n",
      "1   2  서연\n",
      "2   3  민지\n",
      "   학번  동아리\n",
      "0   2  축구부\n",
      "1   4  합창단\n"
     ]
    }
   ],
   "source": [
    "# 4. 학생 데이터를 담은 DataFrame와 동아리 데이터를 담은 DataFrame를 만들고,\n",
    "# 학번 기준으로 합치세요\n",
    "\n",
    "df1 = pd.DataFrame({'학번':[1,2,3], '이름':['지훈','서연','민지']}) \n",
    "print(df1)\n",
    "df2 = pd.DataFrame({'학번':[2,4], '동아리':['축구부','합창단']}) \n",
    "print(df2)"
   ]
  },
  {
   "cell_type": "code",
   "execution_count": 51,
   "id": "debd6548-5f84-4cdc-ac0b-66131fa20ddf",
   "metadata": {},
   "outputs": [
    {
     "data": {
      "text/html": [
       "<div>\n",
       "<style scoped>\n",
       "    .dataframe tbody tr th:only-of-type {\n",
       "        vertical-align: middle;\n",
       "    }\n",
       "\n",
       "    .dataframe tbody tr th {\n",
       "        vertical-align: top;\n",
       "    }\n",
       "\n",
       "    .dataframe thead th {\n",
       "        text-align: right;\n",
       "    }\n",
       "</style>\n",
       "<table border=\"1\" class=\"dataframe\">\n",
       "  <thead>\n",
       "    <tr style=\"text-align: right;\">\n",
       "      <th></th>\n",
       "      <th>학번</th>\n",
       "      <th>이름</th>\n",
       "      <th>동아리</th>\n",
       "    </tr>\n",
       "  </thead>\n",
       "  <tbody>\n",
       "    <tr>\n",
       "      <th>0</th>\n",
       "      <td>1</td>\n",
       "      <td>지훈</td>\n",
       "      <td>NaN</td>\n",
       "    </tr>\n",
       "    <tr>\n",
       "      <th>1</th>\n",
       "      <td>2</td>\n",
       "      <td>서연</td>\n",
       "      <td>축구부</td>\n",
       "    </tr>\n",
       "    <tr>\n",
       "      <th>2</th>\n",
       "      <td>3</td>\n",
       "      <td>민지</td>\n",
       "      <td>NaN</td>\n",
       "    </tr>\n",
       "    <tr>\n",
       "      <th>3</th>\n",
       "      <td>4</td>\n",
       "      <td>NaN</td>\n",
       "      <td>합창단</td>\n",
       "    </tr>\n",
       "  </tbody>\n",
       "</table>\n",
       "</div>"
      ],
      "text/plain": [
       "   학번   이름  동아리\n",
       "0   1   지훈  NaN\n",
       "1   2   서연  축구부\n",
       "2   3   민지  NaN\n",
       "3   4  NaN  합창단"
      ]
     },
     "execution_count": 51,
     "metadata": {},
     "output_type": "execute_result"
    }
   ],
   "source": [
    "pd.merge(df1,df2, on='학번', how ='outer')"
   ]
  },
  {
   "cell_type": "markdown",
   "id": "6701f34c-aac2-4823-b07d-a5fa83c302fc",
   "metadata": {},
   "source": [
    "## [문제9] "
   ]
  },
  {
   "cell_type": "code",
   "execution_count": 52,
   "id": "3dd8aa0c-188e-4f28-8fee-95cc0df5502c",
   "metadata": {},
   "outputs": [
    {
     "name": "stdout",
     "output_type": "stream",
     "text": [
      "   사번   이름\n",
      "0   1  홍길동\n",
      "1   2  임꺽정\n",
      "   부서\n",
      "0  영업\n",
      "1  개발\n"
     ]
    }
   ],
   "source": [
    "# 1. 사원 데이터를 담은 DataFrame와 부서 데이터를 담은 DataFrame를 만들고, 하나로 합치세요  \n",
    "# → 결과를 보고 어떤 방향으로 붙일지 결정하세요 \n",
    "df1 = pd.DataFrame({'사번':[1,2], '이름':['홍길동','임꺽정']}) \n",
    "\n",
    "df2 = pd.DataFrame({'부서':['영업','개발']}) \n"
   ]
  },
  {
   "cell_type": "code",
   "execution_count": 54,
   "id": "25b7ad3e-2609-41b2-aa36-24f1cc7b6cf5",
   "metadata": {},
   "outputs": [
    {
     "data": {
      "text/html": [
       "<div>\n",
       "<style scoped>\n",
       "    .dataframe tbody tr th:only-of-type {\n",
       "        vertical-align: middle;\n",
       "    }\n",
       "\n",
       "    .dataframe tbody tr th {\n",
       "        vertical-align: top;\n",
       "    }\n",
       "\n",
       "    .dataframe thead th {\n",
       "        text-align: right;\n",
       "    }\n",
       "</style>\n",
       "<table border=\"1\" class=\"dataframe\">\n",
       "  <thead>\n",
       "    <tr style=\"text-align: right;\">\n",
       "      <th></th>\n",
       "      <th>사번</th>\n",
       "      <th>이름</th>\n",
       "      <th>부서</th>\n",
       "    </tr>\n",
       "  </thead>\n",
       "  <tbody>\n",
       "    <tr>\n",
       "      <th>0</th>\n",
       "      <td>1</td>\n",
       "      <td>홍길동</td>\n",
       "      <td>영업</td>\n",
       "    </tr>\n",
       "    <tr>\n",
       "      <th>1</th>\n",
       "      <td>2</td>\n",
       "      <td>임꺽정</td>\n",
       "      <td>개발</td>\n",
       "    </tr>\n",
       "  </tbody>\n",
       "</table>\n",
       "</div>"
      ],
      "text/plain": [
       "   사번   이름  부서\n",
       "0   1  홍길동  영업\n",
       "1   2  임꺽정  개발"
      ]
     },
     "execution_count": 54,
     "metadata": {},
     "output_type": "execute_result"
    }
   ],
   "source": [
    "pd.concat([df1,df2], axis=1)"
   ]
  },
  {
   "cell_type": "code",
   "execution_count": 57,
   "id": "f9051cf4-0469-4fa6-9b1b-dbcdef955b3e",
   "metadata": {},
   "outputs": [],
   "source": [
    "# 2. 세 개의 매출 데이터 DataFrame를 만들고, 하나로 합치세요\n",
    "# → 결과를 보고 어떤 옵션(방향, 인덱스)을 쓸지 결정하세요\n",
    "df1 = pd.DataFrame({'매출':[100,200]})\n",
    "df2 = pd.DataFrame({'매출':[150,250]}) \n",
    "df3 = pd.DataFrame({'매출':[300,400]}) "
   ]
  },
  {
   "cell_type": "code",
   "execution_count": 59,
   "id": "20f38c5b-c3dd-4c44-9ffd-3a8f0e8f5681",
   "metadata": {},
   "outputs": [
    {
     "data": {
      "text/html": [
       "<div>\n",
       "<style scoped>\n",
       "    .dataframe tbody tr th:only-of-type {\n",
       "        vertical-align: middle;\n",
       "    }\n",
       "\n",
       "    .dataframe tbody tr th {\n",
       "        vertical-align: top;\n",
       "    }\n",
       "\n",
       "    .dataframe thead th {\n",
       "        text-align: right;\n",
       "    }\n",
       "</style>\n",
       "<table border=\"1\" class=\"dataframe\">\n",
       "  <thead>\n",
       "    <tr style=\"text-align: right;\">\n",
       "      <th></th>\n",
       "      <th>매출</th>\n",
       "    </tr>\n",
       "  </thead>\n",
       "  <tbody>\n",
       "    <tr>\n",
       "      <th>0</th>\n",
       "      <td>100</td>\n",
       "    </tr>\n",
       "    <tr>\n",
       "      <th>1</th>\n",
       "      <td>200</td>\n",
       "    </tr>\n",
       "    <tr>\n",
       "      <th>2</th>\n",
       "      <td>150</td>\n",
       "    </tr>\n",
       "    <tr>\n",
       "      <th>3</th>\n",
       "      <td>250</td>\n",
       "    </tr>\n",
       "    <tr>\n",
       "      <th>4</th>\n",
       "      <td>300</td>\n",
       "    </tr>\n",
       "    <tr>\n",
       "      <th>5</th>\n",
       "      <td>400</td>\n",
       "    </tr>\n",
       "  </tbody>\n",
       "</table>\n",
       "</div>"
      ],
      "text/plain": [
       "    매출\n",
       "0  100\n",
       "1  200\n",
       "2  150\n",
       "3  250\n",
       "4  300\n",
       "5  400"
      ]
     },
     "execution_count": 59,
     "metadata": {},
     "output_type": "execute_result"
    }
   ],
   "source": [
    "pd.concat([df1,df2,df3], ignore_index=True)"
   ]
  },
  {
   "cell_type": "code",
   "execution_count": 60,
   "id": "e067c311-e003-4ef0-945c-e6551a4a2fe0",
   "metadata": {},
   "outputs": [],
   "source": [
    "# 3. 두 개의 학생 점수 데이터를 담은 DataFrame를 만들고, 하나로 합치세요\n",
    "df1 = pd.DataFrame({'이름':['철수','영희'],'국어':[85,90]})\n",
    "df2 = pd.DataFrame({'이름':['민수','지연'],'수학':[78,92]})"
   ]
  },
  {
   "cell_type": "code",
   "execution_count": 61,
   "id": "fbed990b-cf83-4656-8562-9ee1ee542470",
   "metadata": {},
   "outputs": [
    {
     "data": {
      "text/html": [
       "<div>\n",
       "<style scoped>\n",
       "    .dataframe tbody tr th:only-of-type {\n",
       "        vertical-align: middle;\n",
       "    }\n",
       "\n",
       "    .dataframe tbody tr th {\n",
       "        vertical-align: top;\n",
       "    }\n",
       "\n",
       "    .dataframe thead th {\n",
       "        text-align: right;\n",
       "    }\n",
       "</style>\n",
       "<table border=\"1\" class=\"dataframe\">\n",
       "  <thead>\n",
       "    <tr style=\"text-align: right;\">\n",
       "      <th></th>\n",
       "      <th>이름</th>\n",
       "      <th>국어</th>\n",
       "      <th>이름</th>\n",
       "      <th>수학</th>\n",
       "    </tr>\n",
       "  </thead>\n",
       "  <tbody>\n",
       "    <tr>\n",
       "      <th>0</th>\n",
       "      <td>철수</td>\n",
       "      <td>85</td>\n",
       "      <td>민수</td>\n",
       "      <td>78</td>\n",
       "    </tr>\n",
       "    <tr>\n",
       "      <th>1</th>\n",
       "      <td>영희</td>\n",
       "      <td>90</td>\n",
       "      <td>지연</td>\n",
       "      <td>92</td>\n",
       "    </tr>\n",
       "  </tbody>\n",
       "</table>\n",
       "</div>"
      ],
      "text/plain": [
       "   이름  국어  이름  수학\n",
       "0  철수  85  민수  78\n",
       "1  영희  90  지연  92"
      ]
     },
     "execution_count": 61,
     "metadata": {},
     "output_type": "execute_result"
    }
   ],
   "source": [
    "pd.concat([df1,df2], axis=1)"
   ]
  },
  {
   "cell_type": "markdown",
   "id": "6d4f5a51-a44d-46db-9e0f-f23046213d61",
   "metadata": {},
   "source": [
    "## [문제10]"
   ]
  },
  {
   "cell_type": "code",
   "execution_count": 62,
   "id": "07aac1ba-d9bd-400b-8863-d2f1ddee1940",
   "metadata": {},
   "outputs": [
    {
     "data": {
      "text/html": [
       "<div>\n",
       "<style scoped>\n",
       "    .dataframe tbody tr th:only-of-type {\n",
       "        vertical-align: middle;\n",
       "    }\n",
       "\n",
       "    .dataframe tbody tr th {\n",
       "        vertical-align: top;\n",
       "    }\n",
       "\n",
       "    .dataframe thead th {\n",
       "        text-align: right;\n",
       "    }\n",
       "</style>\n",
       "<table border=\"1\" class=\"dataframe\">\n",
       "  <thead>\n",
       "    <tr style=\"text-align: right;\">\n",
       "      <th></th>\n",
       "      <th>카테고리</th>\n",
       "      <th>월</th>\n",
       "      <th>매출</th>\n",
       "    </tr>\n",
       "  </thead>\n",
       "  <tbody>\n",
       "    <tr>\n",
       "      <th>0</th>\n",
       "      <td>식품</td>\n",
       "      <td>1월</td>\n",
       "      <td>200</td>\n",
       "    </tr>\n",
       "    <tr>\n",
       "      <th>1</th>\n",
       "      <td>식품</td>\n",
       "      <td>2월</td>\n",
       "      <td>250</td>\n",
       "    </tr>\n",
       "    <tr>\n",
       "      <th>2</th>\n",
       "      <td>가전</td>\n",
       "      <td>1월</td>\n",
       "      <td>500</td>\n",
       "    </tr>\n",
       "    <tr>\n",
       "      <th>3</th>\n",
       "      <td>가전</td>\n",
       "      <td>2월</td>\n",
       "      <td>550</td>\n",
       "    </tr>\n",
       "  </tbody>\n",
       "</table>\n",
       "</div>"
      ],
      "text/plain": [
       "  카테고리   월   매출\n",
       "0   식품  1월  200\n",
       "1   식품  2월  250\n",
       "2   가전  1월  500\n",
       "3   가전  2월  550"
      ]
     },
     "execution_count": 62,
     "metadata": {},
     "output_type": "execute_result"
    }
   ],
   "source": [
    "# 1. 쇼핑몰 판매 데이터를 담은 DataFrame를 만들고, pivot을 이용해 카테고리별 월 매출을 출력하세요\n",
    "df = pd.DataFrame({'카테고리': ['식품','식품','가전','가전'],\n",
    "                   '월':['1월','2월','1월','2월'],\n",
    "                  '매출':[200,250,500,550]})\n",
    "df"
   ]
  },
  {
   "cell_type": "code",
   "execution_count": 63,
   "id": "1971b8a1-38ad-475b-ad21-cc7f1a8b4d11",
   "metadata": {},
   "outputs": [
    {
     "data": {
      "text/html": [
       "<div>\n",
       "<style scoped>\n",
       "    .dataframe tbody tr th:only-of-type {\n",
       "        vertical-align: middle;\n",
       "    }\n",
       "\n",
       "    .dataframe tbody tr th {\n",
       "        vertical-align: top;\n",
       "    }\n",
       "\n",
       "    .dataframe thead th {\n",
       "        text-align: right;\n",
       "    }\n",
       "</style>\n",
       "<table border=\"1\" class=\"dataframe\">\n",
       "  <thead>\n",
       "    <tr style=\"text-align: right;\">\n",
       "      <th>월</th>\n",
       "      <th>1월</th>\n",
       "      <th>2월</th>\n",
       "    </tr>\n",
       "    <tr>\n",
       "      <th>카테고리</th>\n",
       "      <th></th>\n",
       "      <th></th>\n",
       "    </tr>\n",
       "  </thead>\n",
       "  <tbody>\n",
       "    <tr>\n",
       "      <th>가전</th>\n",
       "      <td>500</td>\n",
       "      <td>550</td>\n",
       "    </tr>\n",
       "    <tr>\n",
       "      <th>식품</th>\n",
       "      <td>200</td>\n",
       "      <td>250</td>\n",
       "    </tr>\n",
       "  </tbody>\n",
       "</table>\n",
       "</div>"
      ],
      "text/plain": [
       "월      1월   2월\n",
       "카테고리          \n",
       "가전    500  550\n",
       "식품    200  250"
      ]
     },
     "execution_count": 63,
     "metadata": {},
     "output_type": "execute_result"
    }
   ],
   "source": [
    "df.pivot(index='카테고리', columns='월', values='매출')"
   ]
  },
  {
   "cell_type": "code",
   "execution_count": 64,
   "id": "9a60037b-2c85-488f-ac04-efcd3e2719d9",
   "metadata": {},
   "outputs": [
    {
     "data": {
      "text/html": [
       "<div>\n",
       "<style scoped>\n",
       "    .dataframe tbody tr th:only-of-type {\n",
       "        vertical-align: middle;\n",
       "    }\n",
       "\n",
       "    .dataframe tbody tr th {\n",
       "        vertical-align: top;\n",
       "    }\n",
       "\n",
       "    .dataframe thead th {\n",
       "        text-align: right;\n",
       "    }\n",
       "</style>\n",
       "<table border=\"1\" class=\"dataframe\">\n",
       "  <thead>\n",
       "    <tr style=\"text-align: right;\">\n",
       "      <th></th>\n",
       "      <th>도서관</th>\n",
       "      <th>장르</th>\n",
       "      <th>대출건수</th>\n",
       "    </tr>\n",
       "  </thead>\n",
       "  <tbody>\n",
       "    <tr>\n",
       "      <th>0</th>\n",
       "      <td>중앙</td>\n",
       "      <td>소설</td>\n",
       "      <td>120</td>\n",
       "    </tr>\n",
       "    <tr>\n",
       "      <th>1</th>\n",
       "      <td>중앙</td>\n",
       "      <td>과학</td>\n",
       "      <td>45</td>\n",
       "    </tr>\n",
       "    <tr>\n",
       "      <th>2</th>\n",
       "      <td>시립</td>\n",
       "      <td>소설</td>\n",
       "      <td>95</td>\n",
       "    </tr>\n",
       "    <tr>\n",
       "      <th>3</th>\n",
       "      <td>시립</td>\n",
       "      <td>과학</td>\n",
       "      <td>60</td>\n",
       "    </tr>\n",
       "  </tbody>\n",
       "</table>\n",
       "</div>"
      ],
      "text/plain": [
       "  도서관  장르  대출건수\n",
       "0  중앙  소설   120\n",
       "1  중앙  과학    45\n",
       "2  시립  소설    95\n",
       "3  시립  과학    60"
      ]
     },
     "execution_count": 64,
     "metadata": {},
     "output_type": "execute_result"
    }
   ],
   "source": [
    "# 2. 도서관 대출 데이터를 담은 DataFrame를 만들고,\n",
    "# pivot을 이용해 도서관별 장르 대출 건수를 출력하세요\n",
    "df = pd.DataFrame({'도서관': ['중앙','중앙','시립','시립'],\n",
    "                   '장르':['소설','과학','소설','과학'],\n",
    "                  '대출건수':[120,45,95,60]})\n",
    "df"
   ]
  },
  {
   "cell_type": "code",
   "execution_count": 65,
   "id": "e0c3bd5d-4bb3-40fe-91bd-4fae2f7dc5cb",
   "metadata": {},
   "outputs": [
    {
     "data": {
      "text/html": [
       "<div>\n",
       "<style scoped>\n",
       "    .dataframe tbody tr th:only-of-type {\n",
       "        vertical-align: middle;\n",
       "    }\n",
       "\n",
       "    .dataframe tbody tr th {\n",
       "        vertical-align: top;\n",
       "    }\n",
       "\n",
       "    .dataframe thead th {\n",
       "        text-align: right;\n",
       "    }\n",
       "</style>\n",
       "<table border=\"1\" class=\"dataframe\">\n",
       "  <thead>\n",
       "    <tr style=\"text-align: right;\">\n",
       "      <th>장르</th>\n",
       "      <th>과학</th>\n",
       "      <th>소설</th>\n",
       "    </tr>\n",
       "    <tr>\n",
       "      <th>도서관</th>\n",
       "      <th></th>\n",
       "      <th></th>\n",
       "    </tr>\n",
       "  </thead>\n",
       "  <tbody>\n",
       "    <tr>\n",
       "      <th>시립</th>\n",
       "      <td>60</td>\n",
       "      <td>95</td>\n",
       "    </tr>\n",
       "    <tr>\n",
       "      <th>중앙</th>\n",
       "      <td>45</td>\n",
       "      <td>120</td>\n",
       "    </tr>\n",
       "  </tbody>\n",
       "</table>\n",
       "</div>"
      ],
      "text/plain": [
       "장르   과학   소설\n",
       "도서관         \n",
       "시립   60   95\n",
       "중앙   45  120"
      ]
     },
     "execution_count": 65,
     "metadata": {},
     "output_type": "execute_result"
    }
   ],
   "source": [
    "df.pivot(index='도서관', columns='장르', values='대출건수')"
   ]
  },
  {
   "cell_type": "code",
   "execution_count": 67,
   "id": "ff3307c0-0a74-4e12-9178-749c7354ad2f",
   "metadata": {},
   "outputs": [
    {
     "data": {
      "text/html": [
       "<div>\n",
       "<style scoped>\n",
       "    .dataframe tbody tr th:only-of-type {\n",
       "        vertical-align: middle;\n",
       "    }\n",
       "\n",
       "    .dataframe tbody tr th {\n",
       "        vertical-align: top;\n",
       "    }\n",
       "\n",
       "    .dataframe thead th {\n",
       "        text-align: right;\n",
       "    }\n",
       "</style>\n",
       "<table border=\"1\" class=\"dataframe\">\n",
       "  <thead>\n",
       "    <tr style=\"text-align: right;\">\n",
       "      <th></th>\n",
       "      <th>지점</th>\n",
       "      <th>객실유형</th>\n",
       "      <th>예약건수</th>\n",
       "    </tr>\n",
       "  </thead>\n",
       "  <tbody>\n",
       "    <tr>\n",
       "      <th>0</th>\n",
       "      <td>서울</td>\n",
       "      <td>싱글룸</td>\n",
       "      <td>45</td>\n",
       "    </tr>\n",
       "    <tr>\n",
       "      <th>1</th>\n",
       "      <td>서울</td>\n",
       "      <td>더블룸</td>\n",
       "      <td>30</td>\n",
       "    </tr>\n",
       "    <tr>\n",
       "      <th>2</th>\n",
       "      <td>부산</td>\n",
       "      <td>싱글룸</td>\n",
       "      <td>50</td>\n",
       "    </tr>\n",
       "    <tr>\n",
       "      <th>3</th>\n",
       "      <td>부산</td>\n",
       "      <td>더블룸</td>\n",
       "      <td>35</td>\n",
       "    </tr>\n",
       "  </tbody>\n",
       "</table>\n",
       "</div>"
      ],
      "text/plain": [
       "   지점 객실유형  예약건수\n",
       "0  서울  싱글룸    45\n",
       "1  서울  더블룸    30\n",
       "2  부산  싱글룸    50\n",
       "3  부산  더블룸    35"
      ]
     },
     "execution_count": 67,
     "metadata": {},
     "output_type": "execute_result"
    }
   ],
   "source": [
    "# 3. 호텔 예약 데이터를 담은 DataFrame를 만들고,\n",
    "# pivot을 이용해 지점별 객실 유형 예약 건수를 출력하세요\n",
    "df = pd.DataFrame({'지점': ['서울','서울','부산','부산'],\n",
    "                   '객실유형':['싱글룸','더블룸','싱글룸','더블룸'],\n",
    "                  '예약건수':[45,30,50,35]})\n",
    "df"
   ]
  },
  {
   "cell_type": "code",
   "execution_count": 68,
   "id": "d40990eb-3da8-42d2-a991-1a8dfcd8028d",
   "metadata": {},
   "outputs": [
    {
     "data": {
      "text/html": [
       "<div>\n",
       "<style scoped>\n",
       "    .dataframe tbody tr th:only-of-type {\n",
       "        vertical-align: middle;\n",
       "    }\n",
       "\n",
       "    .dataframe tbody tr th {\n",
       "        vertical-align: top;\n",
       "    }\n",
       "\n",
       "    .dataframe thead th {\n",
       "        text-align: right;\n",
       "    }\n",
       "</style>\n",
       "<table border=\"1\" class=\"dataframe\">\n",
       "  <thead>\n",
       "    <tr style=\"text-align: right;\">\n",
       "      <th>객실유형</th>\n",
       "      <th>더블룸</th>\n",
       "      <th>싱글룸</th>\n",
       "    </tr>\n",
       "    <tr>\n",
       "      <th>지점</th>\n",
       "      <th></th>\n",
       "      <th></th>\n",
       "    </tr>\n",
       "  </thead>\n",
       "  <tbody>\n",
       "    <tr>\n",
       "      <th>부산</th>\n",
       "      <td>35</td>\n",
       "      <td>50</td>\n",
       "    </tr>\n",
       "    <tr>\n",
       "      <th>서울</th>\n",
       "      <td>30</td>\n",
       "      <td>45</td>\n",
       "    </tr>\n",
       "  </tbody>\n",
       "</table>\n",
       "</div>"
      ],
      "text/plain": [
       "객실유형  더블룸  싱글룸\n",
       "지점            \n",
       "부산     35   50\n",
       "서울     30   45"
      ]
     },
     "execution_count": 68,
     "metadata": {},
     "output_type": "execute_result"
    }
   ],
   "source": [
    "df.pivot(index='지점', columns='객실유형', values='예약건수')"
   ]
  },
  {
   "cell_type": "code",
   "execution_count": null,
   "id": "b9ca55c9-a4c6-49ea-9fa5-7678cded576b",
   "metadata": {},
   "outputs": [],
   "source": []
  },
  {
   "cell_type": "code",
   "execution_count": null,
   "id": "6ffcb565-991d-4b32-bb53-a63a1687d7e8",
   "metadata": {},
   "outputs": [],
   "source": []
  },
  {
   "cell_type": "code",
   "execution_count": null,
   "id": "deccf0f8-95c2-4093-8961-36ddb8cfcb03",
   "metadata": {},
   "outputs": [],
   "source": []
  },
  {
   "cell_type": "code",
   "execution_count": null,
   "id": "7c6a4261-644d-42f9-8f6c-67cb04c25dca",
   "metadata": {},
   "outputs": [],
   "source": []
  },
  {
   "cell_type": "code",
   "execution_count": null,
   "id": "e8a99008-6774-4eb1-a702-1e458153da57",
   "metadata": {},
   "outputs": [],
   "source": []
  }
 ],
 "metadata": {
  "kernelspec": {
   "display_name": "Python 3 (ipykernel)",
   "language": "python",
   "name": "python3"
  },
  "language_info": {
   "codemirror_mode": {
    "name": "ipython",
    "version": 3
   },
   "file_extension": ".py",
   "mimetype": "text/x-python",
   "name": "python",
   "nbconvert_exporter": "python",
   "pygments_lexer": "ipython3",
   "version": "3.10.18"
  }
 },
 "nbformat": 4,
 "nbformat_minor": 5
}
