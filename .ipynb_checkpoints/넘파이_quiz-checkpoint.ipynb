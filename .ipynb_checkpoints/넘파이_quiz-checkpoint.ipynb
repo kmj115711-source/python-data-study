{
 "cells": [
  {
   "cell_type": "code",
   "execution_count": null,
   "id": "efa612ab-ca30-4a33-bd20-c7c9f3f9793c",
   "metadata": {},
   "outputs": [],
   "source": [
    "import numpy as np"
   ]
  },
  {
   "cell_type": "markdown",
   "id": "eb96bba4-a17d-4bb4-901c-4f6cf614f33f",
   "metadata": {},
   "source": [
    "array : 넘파이 배열 생성 "
   ]
  },
  {
   "cell_type": "code",
   "execution_count": null,
   "id": "250f1917-ed18-4b8c-a62d-ce9e7a940865",
   "metadata": {},
   "outputs": [],
   "source": [
    "# 문제 1\n",
    "# 파이썬 리스트 scores = [85, 90, 78, 92, 88]를 넘파이 배열로 변환하여 출력하세요\n",
    "arr_scores = np.array([85, 90, 78, 92, 88])\n",
    "print(arr_scores)\n",
    "\n",
    "# 문제 2\n",
    "# 리스트 heights = [160, 165, 170, 175, 180] 를 넘파이 배열로 변환하여 출력하세요\n",
    "arr_heights = np.array([160, 165, 170, 175, 180])\n",
    "print(arr_heights)\n",
    "\n",
    "# 문제 3\n",
    "# 리스트 prices = [1200, 1500, 1800, 2100] 넘파이 배열로 변환하여 출력하세요\n",
    "arr_prices = np.array([1200, 1500, 1800, 2100])\n",
    "print(arr_prices)\n",
    "\n",
    "# 문제 4\n",
    "# 리스트 temps = [20, 22, 19, 25, 30] 넘파이 배열로 변환하여 출력하세요\n",
    "arr_temps = np.array([20, 22, 19, 25, 30])\n",
    "print(arr_temps)"
   ]
  },
  {
   "cell_type": "markdown",
   "id": "bf6490c1-65c5-4151-923e-ea8f1fbbfba8",
   "metadata": {},
   "source": [
    "arange : 지정한 범위로 넘파이 배열 생성 "
   ]
  },
  {
   "cell_type": "code",
   "execution_count": null,
   "id": "510f00a5-303d-42d5-964e-83272c2687e3",
   "metadata": {},
   "outputs": [],
   "source": [
    "# 문제 1\n",
    "# 0부터 4까지 숫자를 원소로 가지는 배열을 생성하세요.\n",
    "arr1 = np.arange(5)\n",
    "print(\"문제1:\", arr1)\n",
    "\n",
    "# 문제 2\n",
    "# 0부터 9까지 숫자를 원소로 가지는 배열을 생성하세요.\n",
    "arr2 = np.arange(10)\n",
    "print(\"문제2:\", arr2)\n",
    "\n",
    "# 문제 3\n",
    "# 3부터 7까지 숫자를 원소로 가지는 배열을 생성하세요.\n",
    "arr3 = np.arange(3, 8)\n",
    "print(\"문제3:\", arr3)\n",
    "\n",
    "# 문제 4\n",
    "# -2부터 2까지 숫자를 원소로 가지는 배열을 생성하세요.\n",
    "arr4 = np.arange(-2, 3)\n",
    "print(\"문제4:\", arr4)\n",
    "\n",
    "# 문제 5\n",
    "# 100부터 104까지 숫자를 원소로 가지는 배열을 생성하세요.\n",
    "arr5 = np.arange(100, 105)\n",
    "print(\"문제5:\", arr5)"
   ]
  },
  {
   "cell_type": "markdown",
   "id": "03bf9462-8bc6-44d8-9201-1f7b086eee53",
   "metadata": {},
   "source": [
    "1차원 배열 인덱스"
   ]
  },
  {
   "cell_type": "code",
   "execution_count": null,
   "id": "72c33309-ca09-414d-85dd-20cf99e742de",
   "metadata": {},
   "outputs": [],
   "source": [
    "# 1번\n",
    "arr = np.array([10, 20, 30, 40, 50])\n",
    "\n",
    "# 배열의 첫 번째 값을 꺼내서 출력하세요.\n",
    "# 결과: 10\n",
    "print(arr[0])\n",
    "\n",
    "# 배열의 세 번째 값을 꺼내서 출력하세요.\n",
    "# 결과: 30\n",
    "print(arr[2])\n",
    "\n",
    "# 배열의 마지막 값을 꺼내서 출력하세요.\n",
    "# 결과: 50\n",
    "print(arr[-1])\n",
    "\n",
    "# 배열의 두 번째 값을 200으로 바꾸세요.\n",
    "# 결과: [ 10 200  30  40  50]\n",
    "arr[1] = 200\n",
    "print(arr)\n",
    "\n",
    "# 배열의 네 번째 값을 999로 바꾸세요.\n",
    "# 결과: [  10  200   30  999   50]\n",
    "arr[3] = 999\n",
    "print(arr)"
   ]
  },
  {
   "cell_type": "code",
   "execution_count": null,
   "id": "40f523d5-37b1-4c1d-b73a-e99d77026b24",
   "metadata": {},
   "outputs": [],
   "source": [
    "# 2번\n",
    "arr = np.array([\"가\", \"나\", \"다\", \"라\", \"마\"])\n",
    "\n",
    "# 배열의 두 번째 값을 꺼내서 출력하세요.\n",
    "# 결과: 나\n",
    "print(arr[1])\n",
    "\n",
    "# 배열의 네 번째 값을 꺼내서 출력하세요.\n",
    "# 결과: 라\n",
    "print(arr[3])\n",
    "\n",
    "# 배열의 마지막 값을 꺼내서 출력하세요.\n",
    "# 결과: 마\n",
    "print(arr[-1])\n",
    "\n",
    "# 배열의 첫 번째 값을 '하'로 바꾸세요.\n",
    "# 결과: ['하' '나' '다' '라' '마']\n",
    "arr[0] = \"하\"\n",
    "print(arr)\n",
    "\n",
    "# 배열의 세 번째 값을 '호'로 바꾸세요.\n",
    "# 결과: ['하' '나' '호' '라' '마']\n",
    "arr[2] = \"호\"\n",
    "print(arr)"
   ]
  },
  {
   "cell_type": "markdown",
   "id": "4e6e4fc3-966c-43dd-9d7a-6a22d73e2dc4",
   "metadata": {},
   "source": [
    "1차원 배열 슬라이스"
   ]
  },
  {
   "cell_type": "code",
   "execution_count": null,
   "id": "0afc916b-9b58-456c-9f3d-f21d34e022a1",
   "metadata": {},
   "outputs": [],
   "source": [
    "# 1번\n",
    "arr = np.array([10, 20, 30, 40, 50, 60, 70])\n",
    "\n",
    "# 배열의 처음 3개 값을 꺼내서 출력하세요.\n",
    "# 결과: [10 20 30]\n",
    "print(arr[0:3])\n",
    "\n",
    "# 배열의 네 번째부터 끝까지 값을 꺼내서 출력하세요.\n",
    "# 결과: [40 50 60 70]\n",
    "print(arr[3:])\n",
    "\n",
    "# 배열의 두 번째부터 다섯 번째까지 값을 꺼내서 출력하세요.\n",
    "# 결과: [20 30 40 50]\n",
    "print(arr[1:5])"
   ]
  },
  {
   "cell_type": "code",
   "execution_count": null,
   "id": "56f27061-5457-4260-9e59-894e97521321",
   "metadata": {},
   "outputs": [],
   "source": [
    "# 2번\n",
    "arr = np.array([\"a\", \"b\", \"c\", \"d\", \"e\", \"f\", \"g\"])\n",
    "\n",
    "# 배열의 처음 3개 값을 꺼내서 출력하세요.\n",
    "# 결과: ['a' 'b' 'c']\n",
    "print(arr[0:3])\n",
    "\n",
    "# 배열의 네 번째부터 끝까지 값을 꺼내서 출력하세요.\n",
    "# 결과: ['d' 'e' 'f' 'g']\n",
    "print(arr[3:])\n",
    "\n",
    "# 배열의 두 번째부터 다섯 번째까지 값을 꺼내서 출력하세요.\n",
    "# 결과: ['b' 'c' 'd' 'e']\n",
    "print(arr[1:5])"
   ]
  },
  {
   "cell_type": "markdown",
   "id": "e0e8a28a-c372-4658-916a-3a1ef90be683",
   "metadata": {},
   "source": [
    "2차원 배열 인덱싱"
   ]
  },
  {
   "cell_type": "code",
   "execution_count": null,
   "id": "776e5016-3409-47ce-b81b-e54af20d91be",
   "metadata": {},
   "outputs": [],
   "source": [
    "# 1번\n",
    "arr = np.array([[10, 20, 30],\n",
    "                [40, 50, 60],\n",
    "                [70, 80, 90]])\n",
    "\n",
    "# 첫 번째 행의 두 번째 값을 꺼내서 출력하세요.\n",
    "# 결과: 20\n",
    "print(\"문제1:\", arr[0, 1])\n",
    "\n",
    "# 세 번째 행의 첫 번째 값을 꺼내서 출력하세요.\n",
    "# 결과: 70\n",
    "print(\"문제2:\", arr[2, 0])\n",
    "\n",
    "# 두 번째 행 전체를 꺼내서 출력하세요.\n",
    "# 결과: [40 50 60]\n",
    "print(\"문제3:\", arr[1, :])\n",
    "\n",
    "# 두 번째 열 전체를 꺼내서 출력하세요.\n",
    "# 결과: [20 50 80]\n",
    "print(\"문제4:\", arr[:, 1])\n",
    "\n",
    "# 첫 번째 행의 세 번째 값을 300으로 바꾸세요.\n",
    "# 결과:\n",
    "# [[ 10  20 300]\n",
    "#  [ 40  50  60]\n",
    "#  [ 70  80  90]]\n",
    "arr[0, 2] = 300\n",
    "print(arr)\n",
    "\n",
    "# 세 번째 행의 두 번째 값을 999로 바꾸세요.\n",
    "# 결과:\n",
    "# [[ 10  20 300]\n",
    "#  [ 40  50  60]\n",
    "#  [ 70 999  90]]\n",
    "arr[2, 1] = 999\n",
    "print(arr)"
   ]
  },
  {
   "cell_type": "code",
   "execution_count": null,
   "id": "91ee289e-6b52-4776-8323-0c6953f9f2d5",
   "metadata": {},
   "outputs": [],
   "source": [
    "# 2번\n",
    "arr = np.array([[ 1,  2,  3,  4],\n",
    "                [ 5,  6,  7,  8],\n",
    "                [ 9, 10, 11, 12],\n",
    "                [13, 14, 15, 16]])\n",
    "\n",
    "# 두 번째 행의 세 번째 값을 꺼내서 출력하세요. 결과: 7\n",
    "print(\"문제1:\", arr[1, 2])\n",
    "\n",
    "# 네 번째 행의 첫 번째 값을 꺼내서 출력하세요. 결과: 13\n",
    "print(\"문제2:\", arr[3, 0])\n",
    "\n",
    "# 세 번째 행 전체를 꺼내서 출력하세요. 결과: [ 9 10 11 12]\n",
    "print(\"문제3:\", arr[2, :])\n",
    "\n",
    "# 네 번째 열 전체를 꺼내서 출력하세요. 결과: [ 4  8 12 16]\n",
    "print(\"문제4:\", arr[:, 3])\n",
    "\n",
    "# 첫 번째 행의 네 번째 값을 100으로 바꾸세요.\n",
    "# [[  1   2   3 100] \n",
    "# ..\n",
    "arr[0, 3] = 100\n",
    "print(arr)"
   ]
  },
  {
   "cell_type": "markdown",
   "id": "99346044-aad8-4a32-94a8-69388f53ca70",
   "metadata": {},
   "source": [
    "2차원 배열 슬라이스"
   ]
  },
  {
   "cell_type": "code",
   "execution_count": null,
   "id": "62f65b4b-9a5d-4685-8828-717dc0b6ed8a",
   "metadata": {},
   "outputs": [],
   "source": [
    "# 문제 1\n",
    "\n",
    "arr = np.array([[10, 20, 30],\n",
    "                [40, 50, 60],\n",
    "                [70, 80, 90]])\n",
    " \n",
    "# 첫 번째 행의 앞 2개 숫자를 꺼내서 출력하세요. 결과: [10 20]\n",
    "arr[0, 0:2]\n",
    "\n",
    "# 두 번째 행부터 세 번째 행까지 전체를 꺼내서 출력하세요.\n",
    "# 결과:\n",
    "# [[40 50 60]\n",
    "#  [70 80 90]]\n",
    "arr[1:3, :]\n",
    "\n",
    "# 모든 행에서 두 번째와 세 번째 열만 꺼내서 출력하세요.\n",
    "# 결과:\n",
    "# [[20 30]\n",
    "#  [50 60]\n",
    "#  [80 90]]\n",
    "arr[:, 1:3]\n",
    "\n",
    "# 첫 번째 행과 두 번째 행에서 첫 번째 열만 꺼내서 출력하세요.\n",
    "# 결과: [10 40]\n",
    "arr[0:2, 0]\n",
    "\n",
    "# 첫 번째 행부터 세 번째 행까지, 두 번째 열만 꺼내서 출력하세요.\n",
    "# 결과: [20 50 80]\n",
    "arr[:, 1]"
   ]
  },
  {
   "cell_type": "markdown",
   "id": "bb5d2bcd-cb76-4e87-a875-e575be2e02f9",
   "metadata": {},
   "source": [
    "불리언 인덱스"
   ]
  },
  {
   "cell_type": "code",
   "execution_count": null,
   "id": "f04d81f1-82c5-4a5e-ae43-d822ac6897a7",
   "metadata": {},
   "outputs": [],
   "source": [
    "# 1번\n",
    "arr = np.array([10, 20, 30, 40, 50, 60, 70])\n",
    "\n",
    "# 배열에서 30보다 큰 값만 꺼내서 출력하세요. \n",
    "# 결과: [40 50 60 70]\n",
    "print(\"문제1:\", arr[arr > 30])\n",
    "\n",
    "# 배열에서 짝수 값만 꺼내서 출력하세요.\n",
    "# 결과: [10 20 30 40 50 60 70]\n",
    "print(\"문제2:\", arr[arr % 2 == 0])\n",
    "\n",
    "# 배열에서 50보다 큰 값을 모두 999로 바꾸세요.\n",
    "# 결과: [ 10  20  30  40  50 999 999]\n",
    "arr[arr > 50] = 999\n",
    "print(\"문제3:\", arr)"
   ]
  },
  {
   "cell_type": "code",
   "execution_count": null,
   "id": "8595bc66-9d69-47d6-94ce-fed031d3bb50",
   "metadata": {},
   "outputs": [],
   "source": [
    "# 직원 이름 배열\n",
    "employees = np.array([\"짱구\", \"철수\", \"유리\", \"맹구\", \"훈이\"])\n",
    "\n",
    "# 직원별 월급 (만원 단위)\n",
    "salaries = np.array([250, 320, 280, 400, 150])\n",
    "\n",
    "# '맹구'의 급여를 조회하세요.\n",
    "salaries[employees == \"맹구\"]\n",
    "\n",
    "# 급여가 300만원 이상인 직원들의 이름을 출력하세요\n",
    "employees[salaries >= 300]\n",
    "\n",
    "# 급여가 200만원 미만인 직원들의 급여를 모두 200으로 올리세요.\n",
    "salaries[salaries < 200] = 200\n",
    "salaries"
   ]
  },
  {
   "cell_type": "markdown",
   "id": "82df5006-b29d-4003-bc5f-fd8885be5eda",
   "metadata": {},
   "source": [
    "reshape : 배열의 형태 바꾸기"
   ]
  },
  {
   "cell_type": "code",
   "execution_count": null,
   "id": "01a431f1-3a5e-447b-aad6-6de5cddf81e8",
   "metadata": {},
   "outputs": [],
   "source": [
    "# 문제 1\n",
    "\n",
    "# 0부터 11까지 숫자를 생성한 뒤, 3행 4열 배열로 바꾸세요.\n",
    "# 결과:\n",
    "# [[ 0  1  2  3]\n",
    "#  [ 4  5  6  7]\n",
    "#  [ 8  9 10 11]]\n",
    "arr1 = np.arange(12).reshape(3, 4)\n",
    "arr1\n",
    "\n",
    "# 1부터 16까지 숫자를 생성한 뒤, 4행 4열 배열로 바꾸세요.\n",
    "# 결과:\n",
    "# [[ 1  2  3  4]\n",
    "#  [ 5  6  7  8]\n",
    "#  [ 9 10 11 12]\n",
    "#  [13 14 15 16]]\n",
    "arr2 = np.arange(1, 17).reshape(4, 4)\n",
    "arr2\n",
    "\n",
    "# 1부터 20까지 숫자를 생성한 뒤, 5행 4열 배열로 바꾸세요.\n",
    "# 결과:\n",
    "# [[ 1  2  3  4]\n",
    "#  [ 5  6  7  8]\n",
    "#  [ 9 10 11 12]\n",
    "#  [13 14 15 16]\n",
    "#  [17 18 19 20]]\n",
    "arr3 = np.arange(1, 21).reshape(5, 4)\n",
    "arr3\n",
    "\n",
    "# 10부터 25까지 숫자를 생성한 뒤, 4행 4열 배열로 바꾸세요.\n",
    "# 결과:\n",
    "# [[10 11 12 13]\n",
    "#  [14 15 16 17]\n",
    "#  [18 19 20 21]\n",
    "#  [22 23 24 25]]\n",
    "arr4 = np.arange(10, 26).reshape(4, 4)\n",
    "arr4"
   ]
  },
  {
   "cell_type": "markdown",
   "id": "172411a9-8837-4b82-bc69-dd80ad4fe371",
   "metadata": {},
   "source": [
    "랜덤값"
   ]
  },
  {
   "cell_type": "code",
   "execution_count": null,
   "id": "a29b7ad0-1262-4e0b-b370-5b0264f295b6",
   "metadata": {},
   "outputs": [],
   "source": [
    "# 표준정규분포에서 랜덤값 5개를 생성하세요.\n",
    "arr1 = np.random.standard_normal(5)\n",
    "arr1\n",
    "\n",
    "# 균일분포에서 랜덤값 5개를 생성하세요.\n",
    "arr2 = np.random.uniform(size=5)\n",
    "arr2"
   ]
  },
  {
   "cell_type": "markdown",
   "id": "456ff219-268d-483f-9593-d1f6a9de953d",
   "metadata": {},
   "source": [
    "조건문"
   ]
  },
  {
   "cell_type": "code",
   "execution_count": null,
   "id": "ec56959b-03c1-44b8-b89f-5f730d3d10f4",
   "metadata": {},
   "outputs": [],
   "source": [
    "# 문제 1\n",
    "\n",
    "# 배열 [5, 12, 7, 20, 3] 에서\n",
    "# 10보다 크면 그대로 두고, 10 이하면 0으로 바꾸세요.\n",
    "# 결과: [ 0 12  0 20  0]\n",
    "arr = np.array([5, 12, 7, 20, 3])\n",
    "result1 = np.where(arr > 10, 100, 0)\n",
    "print(\"문제1:\", result1)\n",
    "\n",
    "# 배열 [15, 8, 22, 6, 13] 에서\n",
    "# 짝수면 1, 홀수면 -1로 바꾸세요.\n",
    "# 결과: [-1  1  1  1 -1]\n",
    "arr = np.array([15, 8, 22, 6, 13])\n",
    "result2 = np.where(arr % 2 == 0, 1, -1)\n",
    "print(\"문제2:\", result2)\n",
    "\n",
    "# 배열 [10, 20, 30, 40, 50] 과 [1, 2, 3, 4, 5]을 만들고\n",
    "# 조건 배열 [True, False, True, False, True] 를 사용해\n",
    "# 조건이 True일 때는 첫 번째 배열 값, False일 때는 두 번째 배열 값을 선택하세요.\n",
    "# 결과: [10  2 30  4 50]\n",
    "arr1 = np.array([10, 20, 30, 40, 50])\n",
    "arr2 = np.array([1, 2, 3, 4, 5])\n",
    "cond = np.array([True, False, True, False, True])\n",
    "result3 = np.where(cond, arr1, arr2)\n",
    "print(\"문제3:\", result3)\n",
    "\n",
    "# 배열 [-5, -2, 0, 3, 7] 에서\n",
    "# 0보다 크면 100, 아니면 -100으로 바꾸세요.\n",
    "# 결과: [-100 -100 -100  100  100]\n",
    "arr = np.array([-5, -2, 0, 3, 7])\n",
    "result4 = np.where(arr > 0, 100, -100)\n",
    "print(\"문제4:\", result4)"
   ]
  },
  {
   "cell_type": "markdown",
   "id": "9de2a383-09f1-4f96-8482-346674b28567",
   "metadata": {},
   "source": [
    "최대,최소,합계,평균 구하기  \n",
    "21~22p"
   ]
  },
  {
   "cell_type": "code",
   "execution_count": null,
   "id": "5a904075-98b3-4ab9-bc5a-019e12b404b0",
   "metadata": {},
   "outputs": [],
   "source": [
    "food_kcal = np.array([250, 550, 400, 800])\n",
    "\n",
    "# 1. 총합\n",
    "total = food_kcal.sum()\n",
    "\n",
    "# 2. 평균\n",
    "avg = food_kcal.mean()\n",
    "\n",
    "# 3. 최고 칼로리\n",
    "high = food_kcal.max()\n",
    "\n",
    "# 4. 최저 칼로리\n",
    "low = food_kcal.min()\n",
    "\n",
    "print(\"총합:\", total)\n",
    "print(\"평균:\", avg)\n",
    "print(\"최고 칼로리:\", high)\n",
    "print(\"최저 칼로리:\", low)"
   ]
  },
  {
   "cell_type": "code",
   "execution_count": null,
   "id": "8e08d293-762e-4ffe-b0ce-b003a4c25fac",
   "metadata": {},
   "outputs": [],
   "source": [
    "# 일주일 동안 운동한 시간(분)\n",
    "exercise_time = np.array([30, 45, 60, 20, 40, 50, 35])\n",
    "\n",
    "total = exercise_time.sum()\n",
    "avg = exercise_time.mean()\n",
    "high = exercise_time.max()\n",
    "low = exercise_time.min()\n",
    "\n",
    "print(\"총 운동 시간:\", total, \"분\")\n",
    "print(\"평균 운동 시간:\", avg, \"분\")\n",
    "print(\"가장 오래 한 운동:\", high, \"분\")\n",
    "print(\"가장 짧게 한 운동:\", low, \"분\")"
   ]
  },
  {
   "cell_type": "code",
   "execution_count": null,
   "id": "58ed6bee-a234-4995-8b95-8565b2bd6c07",
   "metadata": {},
   "outputs": [],
   "source": []
  }
 ],
 "metadata": {
  "kernelspec": {
   "display_name": "Python 3 (ipykernel)",
   "language": "python",
   "name": "python3"
  },
  "language_info": {
   "codemirror_mode": {
    "name": "ipython",
    "version": 3
   },
   "file_extension": ".py",
   "mimetype": "text/x-python",
   "name": "python",
   "nbconvert_exporter": "python",
   "pygments_lexer": "ipython3",
   "version": "3.10.18"
  }
 },
 "nbformat": 4,
 "nbformat_minor": 5
}
