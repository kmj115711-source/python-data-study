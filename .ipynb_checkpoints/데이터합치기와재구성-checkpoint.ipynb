{
 "cells": [
  {
   "cell_type": "markdown",
   "id": "11323b29-41a7-496e-987c-3d603a1ea9c9",
   "metadata": {},
   "source": [
    "## 7. 데이터 합치기와 재구성"
   ]
  },
  {
   "cell_type": "markdown",
   "id": "3a6023b0-f600-4c9b-8d91-c2b321f88bb6",
   "metadata": {},
   "source": [
    "### 7.1 멀티 인덱스"
   ]
  },
  {
   "cell_type": "code",
   "execution_count": 1,
   "id": "3152fa8b-cc85-4e46-ae03-93f07dc95973",
   "metadata": {},
   "outputs": [],
   "source": [
    "# 모듈 불러오기\n",
    "import numpy as np\n",
    "import pandas as pd"
   ]
  },
  {
   "cell_type": "markdown",
   "id": "0258d36b-eb32-4b3d-93b1-919f2e2b909a",
   "metadata": {},
   "source": [
    "### Series의 멀티 인덱스"
   ]
  },
  {
   "cell_type": "code",
   "execution_count": 3,
   "id": "e5a94208-14eb-4532-8f1b-0f8f25dc8d54",
   "metadata": {},
   "outputs": [
    {
     "data": {
      "text/plain": [
       "1학년  a반    85\n",
       "     a반    90\n",
       "     b반    78\n",
       "2학년  a반    92\n",
       "     b반    88\n",
       "     b반    75\n",
       "dtype: int64"
      ]
     },
     "execution_count": 3,
     "metadata": {},
     "output_type": "execute_result"
    }
   ],
   "source": [
    "# 학생 점수를 시리즈로 생성\n",
    "# pd.Series(리스트)\n",
    "# pd.Series(리스트,[인덱스])\n",
    "# 인덱스는 단일x 멀티o\n",
    "# 학년 - 반 \n",
    "# 첫번째 인덱스 : 학년(1,2)\n",
    "# 두번째 인덱스 : 반 (A,B)\n",
    "s = pd.Series([85,90,78,92,88,75],\n",
    "             index=[['1학년','1학년','1학년','2학년','2학년','2학년'],\n",
    "                    ['a반','a반','b반','a반','b반','b반']]\n",
    "             )\n",
    "s"
   ]
  },
  {
   "cell_type": "markdown",
   "id": "23dcccaf-1faf-4006-8952-7ae535b3a420",
   "metadata": {},
   "source": [
    "### 인덱스로 값 꺼내기"
   ]
  },
  {
   "cell_type": "code",
   "execution_count": 10,
   "id": "e9a06fad-abf4-4142-8a9d-8af77268a7b7",
   "metadata": {},
   "outputs": [
    {
     "data": {
      "text/plain": [
       "1학년  a반    85\n",
       "     a반    90\n",
       "     b반    78\n",
       "dtype: int64"
      ]
     },
     "execution_count": 10,
     "metadata": {},
     "output_type": "execute_result"
    }
   ],
   "source": [
    "# 시리즈에서 1학년만 꺼내기\n",
    "s['1학년']\n",
    "# 1학년 a반만 꺼내기\n",
    "s.loc[('1학년','a반')]\n",
    "# 1학년의 a반과 b반 모두 가지고 오기(여러개 선택)\n",
    "s.loc[('1학년',['a반','b반'])]\n"
   ]
  },
  {
   "cell_type": "markdown",
   "id": "14bd1095-9b66-4a55-a4f2-059688bbe627",
   "metadata": {},
   "source": [
    "### 데이터 프레임의 멀티 인덱스"
   ]
  },
  {
   "cell_type": "code",
   "execution_count": null,
   "id": "19564dc7-b4fd-4ccb-9d54-dcf9f724483e",
   "metadata": {},
   "outputs": [],
   "source": [
    "# Series : 한줄짜리 데이터\n",
    "# DataFrame : 표 모양의 데이터 "
   ]
  },
  {
   "cell_type": "code",
   "execution_count": 13,
   "id": "a5eaff30-d7d3-4a01-93f6-d337ee0a223b",
   "metadata": {},
   "outputs": [
    {
     "data": {
      "text/html": [
       "<div>\n",
       "<style scoped>\n",
       "    .dataframe tbody tr th:only-of-type {\n",
       "        vertical-align: middle;\n",
       "    }\n",
       "\n",
       "    .dataframe tbody tr th {\n",
       "        vertical-align: top;\n",
       "    }\n",
       "\n",
       "    .dataframe thead th {\n",
       "        text-align: right;\n",
       "    }\n",
       "</style>\n",
       "<table border=\"1\" class=\"dataframe\">\n",
       "  <thead>\n",
       "    <tr style=\"text-align: right;\">\n",
       "      <th></th>\n",
       "      <th></th>\n",
       "      <th>제품1</th>\n",
       "      <th>제품2</th>\n",
       "    </tr>\n",
       "  </thead>\n",
       "  <tbody>\n",
       "    <tr>\n",
       "      <th rowspan=\"2\" valign=\"top\">2020년</th>\n",
       "      <th>구월점</th>\n",
       "      <td>50</td>\n",
       "      <td>60</td>\n",
       "    </tr>\n",
       "    <tr>\n",
       "      <th>부평점</th>\n",
       "      <td>70</td>\n",
       "      <td>80</td>\n",
       "    </tr>\n",
       "    <tr>\n",
       "      <th rowspan=\"2\" valign=\"top\">2021년</th>\n",
       "      <th>구월점</th>\n",
       "      <td>100</td>\n",
       "      <td>110</td>\n",
       "    </tr>\n",
       "    <tr>\n",
       "      <th>부평점</th>\n",
       "      <td>120</td>\n",
       "      <td>130</td>\n",
       "    </tr>\n",
       "  </tbody>\n",
       "</table>\n",
       "</div>"
      ],
      "text/plain": [
       "           제품1  제품2\n",
       "2020년 구월점   50   60\n",
       "      부평점   70   80\n",
       "2021년 구월점  100  110\n",
       "      부평점  120  130"
      ]
     },
     "execution_count": 13,
     "metadata": {},
     "output_type": "execute_result"
    }
   ],
   "source": [
    "# 상품 판매 데이터를 데이터프레임으로 생성\n",
    "# pd.DataFrame(2차원 배열 데이터)\n",
    "# pd.DataFrame(데이터,[인덱스],[컬럼])\n",
    "# 데이터 : 4행 2열의 배열(판매 데이터)\n",
    "# 행 인덱스 : 멀티(연도-지점) \n",
    "# 열 컬럼 : 제품\n",
    "df = pd.DataFrame([[50,60],[70,80],[100,110],[120,130]],\n",
    "                 index =[['2020년','2020년','2021년','2021년'],['구월점','부평점','구월점','부평점']],\n",
    "                  columns=['제품1','제품2']\n",
    "                 )\n",
    "df"
   ]
  },
  {
   "cell_type": "markdown",
   "id": "67cc833c-ed05-4715-9f60-73918b720894",
   "metadata": {},
   "source": [
    "### 데이터프레임에서 꺼내기"
   ]
  },
  {
   "cell_type": "code",
   "execution_count": 18,
   "id": "dd98cb00-757d-40ea-a521-c323b1983987",
   "metadata": {},
   "outputs": [
    {
     "name": "stdout",
     "output_type": "stream",
     "text": [
      "MultiIndex([('2020년', '구월점'),\n",
      "            ('2020년', '부평점'),\n",
      "            ('2021년', '구월점'),\n",
      "            ('2021년', '부평점')],\n",
      "           )\n",
      "Index(['제품1', '제품2'], dtype='object')\n"
     ]
    },
    {
     "data": {
      "text/html": [
       "<div>\n",
       "<style scoped>\n",
       "    .dataframe tbody tr th:only-of-type {\n",
       "        vertical-align: middle;\n",
       "    }\n",
       "\n",
       "    .dataframe tbody tr th {\n",
       "        vertical-align: top;\n",
       "    }\n",
       "\n",
       "    .dataframe thead th {\n",
       "        text-align: right;\n",
       "    }\n",
       "</style>\n",
       "<table border=\"1\" class=\"dataframe\">\n",
       "  <thead>\n",
       "    <tr style=\"text-align: right;\">\n",
       "      <th></th>\n",
       "      <th>제품1</th>\n",
       "      <th>제품2</th>\n",
       "    </tr>\n",
       "  </thead>\n",
       "  <tbody>\n",
       "    <tr>\n",
       "      <th>구월점</th>\n",
       "      <td>50</td>\n",
       "      <td>60</td>\n",
       "    </tr>\n",
       "    <tr>\n",
       "      <th>부평점</th>\n",
       "      <td>70</td>\n",
       "      <td>80</td>\n",
       "    </tr>\n",
       "  </tbody>\n",
       "</table>\n",
       "</div>"
      ],
      "text/plain": [
       "     제품1  제품2\n",
       "구월점   50   60\n",
       "부평점   70   80"
      ]
     },
     "execution_count": 18,
     "metadata": {},
     "output_type": "execute_result"
    }
   ],
   "source": [
    "# 2020년도 전체 판매량 조회\n",
    "print(df.index)\n",
    "print(df.columns)\n",
    "\n",
    "df.loc['2020년']"
   ]
  },
  {
   "cell_type": "code",
   "execution_count": 19,
   "id": "76c6df48-d332-4d79-9af9-10e271e06e16",
   "metadata": {},
   "outputs": [
    {
     "data": {
      "text/plain": [
       "제품1    50\n",
       "제품2    60\n",
       "Name: (2020년, 구월점), dtype: int64"
      ]
     },
     "execution_count": 19,
     "metadata": {},
     "output_type": "execute_result"
    }
   ],
   "source": [
    "# 2020년 구월점 판매량만 조회\n",
    "df.loc[('2020년','구월점')]"
   ]
  },
  {
   "cell_type": "code",
   "execution_count": 20,
   "id": "0330c895-60f1-44bb-ad74-ccf299f1dcef",
   "metadata": {},
   "outputs": [
    {
     "data": {
      "text/plain": [
       "np.int64(130)"
      ]
     },
     "execution_count": 20,
     "metadata": {},
     "output_type": "execute_result"
    }
   ],
   "source": [
    "# 2021년 부평점의 제품2 판매량만 조회\n",
    "df.loc[('2021년','부평점'),'제품2'] #130"
   ]
  },
  {
   "cell_type": "markdown",
   "id": "6fafe49b-073f-428d-baae-856352b62f18",
   "metadata": {},
   "source": [
    "### 7.2 데이터 합치기"
   ]
  },
  {
   "cell_type": "markdown",
   "id": "282aad95-43ad-406d-a358-6fe54b0e31e2",
   "metadata": {},
   "source": [
    "merge  \n",
    "- 두개의 데이터프레임을 하나로 합치는 함수\n",
    "- 기준컬럼이 맞으면 연결"
   ]
  },
  {
   "cell_type": "code",
   "execution_count": 31,
   "id": "23bc0488-0583-434e-a337-b9f3da7feab4",
   "metadata": {},
   "outputs": [
    {
     "data": {
      "text/html": [
       "<div>\n",
       "<style scoped>\n",
       "    .dataframe tbody tr th:only-of-type {\n",
       "        vertical-align: middle;\n",
       "    }\n",
       "\n",
       "    .dataframe tbody tr th {\n",
       "        vertical-align: top;\n",
       "    }\n",
       "\n",
       "    .dataframe thead th {\n",
       "        text-align: right;\n",
       "    }\n",
       "</style>\n",
       "<table border=\"1\" class=\"dataframe\">\n",
       "  <thead>\n",
       "    <tr style=\"text-align: right;\">\n",
       "      <th></th>\n",
       "      <th>학번</th>\n",
       "      <th>점수</th>\n",
       "    </tr>\n",
       "  </thead>\n",
       "  <tbody>\n",
       "    <tr>\n",
       "      <th>0</th>\n",
       "      <td>1</td>\n",
       "      <td>90</td>\n",
       "    </tr>\n",
       "    <tr>\n",
       "      <th>1</th>\n",
       "      <td>2</td>\n",
       "      <td>85</td>\n",
       "    </tr>\n",
       "    <tr>\n",
       "      <th>2</th>\n",
       "      <td>4</td>\n",
       "      <td>70</td>\n",
       "    </tr>\n",
       "  </tbody>\n",
       "</table>\n",
       "</div>"
      ],
      "text/plain": [
       "   학번  점수\n",
       "0   1  90\n",
       "1   2  85\n",
       "2   4  70"
      ]
     },
     "execution_count": 31,
     "metadata": {},
     "output_type": "execute_result"
    }
   ],
   "source": [
    "# 학생 데이터를 담아서 데이터프레임 생성\n",
    "# pd.DataFrame(2차원배열)\n",
    "# pd.DataFrame(dic)\n",
    "df1 = pd.DataFrame({'학번':[1,2,3], '이름':['철수','영희','민수']}) # =>2개의 열\n",
    "df1\n",
    "# 시험 점수 데이터를 담아서 데이터프레임 생성\n",
    "df2 = pd.DataFrame({'학번':[1,2,4], '점수':[90,85,70]})\n",
    "df2"
   ]
  },
  {
   "cell_type": "markdown",
   "id": "e840e692-9cb8-45fa-8852-c57e4495c883",
   "metadata": {},
   "source": [
    "### merge의 종류\n",
    "- inner join : 양쪽 데이터에서 공통된 부분만 가지고 옴\n",
    "- left join : 왼쪽 데이터는 모두 가지고 오고, 오른쪽은 겹치는 부분만  \n",
    "- right join :오른쪽 데이터는 모두 가지고 오고, 오른쪽은 겹치는 부분만  \n",
    "- outer join : "
   ]
  },
  {
   "cell_type": "code",
   "execution_count": 25,
   "id": "f5ae519a-5053-4233-a60c-e027756cefbf",
   "metadata": {},
   "outputs": [
    {
     "data": {
      "text/html": [
       "<div>\n",
       "<style scoped>\n",
       "    .dataframe tbody tr th:only-of-type {\n",
       "        vertical-align: middle;\n",
       "    }\n",
       "\n",
       "    .dataframe tbody tr th {\n",
       "        vertical-align: top;\n",
       "    }\n",
       "\n",
       "    .dataframe thead th {\n",
       "        text-align: right;\n",
       "    }\n",
       "</style>\n",
       "<table border=\"1\" class=\"dataframe\">\n",
       "  <thead>\n",
       "    <tr style=\"text-align: right;\">\n",
       "      <th></th>\n",
       "      <th>학번</th>\n",
       "      <th>이름</th>\n",
       "      <th>점수</th>\n",
       "    </tr>\n",
       "  </thead>\n",
       "  <tbody>\n",
       "    <tr>\n",
       "      <th>0</th>\n",
       "      <td>1</td>\n",
       "      <td>철수</td>\n",
       "      <td>90</td>\n",
       "    </tr>\n",
       "    <tr>\n",
       "      <th>1</th>\n",
       "      <td>2</td>\n",
       "      <td>영희</td>\n",
       "      <td>85</td>\n",
       "    </tr>\n",
       "  </tbody>\n",
       "</table>\n",
       "</div>"
      ],
      "text/plain": [
       "   학번  이름  점수\n",
       "0   1  철수  90\n",
       "1   2  영희  85"
      ]
     },
     "execution_count": 25,
     "metadata": {},
     "output_type": "execute_result"
    }
   ],
   "source": [
    "# 학생정보와 시험점수 합치기\n",
    "# pd.merge(데이터1,데이터2, 공통컬럼)\n",
    "pd.merge(df1,df2, on='학번') # => inner join(기본값)과 같다 "
   ]
  },
  {
   "cell_type": "code",
   "execution_count": 27,
   "id": "94c77203-92a8-4744-b020-4eb4522b73c0",
   "metadata": {},
   "outputs": [
    {
     "data": {
      "text/html": [
       "<div>\n",
       "<style scoped>\n",
       "    .dataframe tbody tr th:only-of-type {\n",
       "        vertical-align: middle;\n",
       "    }\n",
       "\n",
       "    .dataframe tbody tr th {\n",
       "        vertical-align: top;\n",
       "    }\n",
       "\n",
       "    .dataframe thead th {\n",
       "        text-align: right;\n",
       "    }\n",
       "</style>\n",
       "<table border=\"1\" class=\"dataframe\">\n",
       "  <thead>\n",
       "    <tr style=\"text-align: right;\">\n",
       "      <th></th>\n",
       "      <th>학번</th>\n",
       "      <th>이름</th>\n",
       "      <th>점수</th>\n",
       "    </tr>\n",
       "  </thead>\n",
       "  <tbody>\n",
       "    <tr>\n",
       "      <th>0</th>\n",
       "      <td>1</td>\n",
       "      <td>철수</td>\n",
       "      <td>90.0</td>\n",
       "    </tr>\n",
       "    <tr>\n",
       "      <th>1</th>\n",
       "      <td>2</td>\n",
       "      <td>영희</td>\n",
       "      <td>85.0</td>\n",
       "    </tr>\n",
       "    <tr>\n",
       "      <th>2</th>\n",
       "      <td>3</td>\n",
       "      <td>민수</td>\n",
       "      <td>NaN</td>\n",
       "    </tr>\n",
       "  </tbody>\n",
       "</table>\n",
       "</div>"
      ],
      "text/plain": [
       "   학번  이름    점수\n",
       "0   1  철수  90.0\n",
       "1   2  영희  85.0\n",
       "2   3  민수   NaN"
      ]
     },
     "execution_count": 27,
     "metadata": {},
     "output_type": "execute_result"
    }
   ],
   "source": [
    "# pd.merge(데이터1,데이터2, 공통컬럼, [join종류]\n",
    "# =>가지고 올 데이터가 없을때는 nan값으로 채운다\n",
    "pd.merge(df1,df2, on='학번', how='left') # =>left join"
   ]
  },
  {
   "cell_type": "code",
   "execution_count": 28,
   "id": "23cd9dee-b9cf-4886-95c3-9eb3d15aa6c0",
   "metadata": {},
   "outputs": [
    {
     "data": {
      "text/html": [
       "<div>\n",
       "<style scoped>\n",
       "    .dataframe tbody tr th:only-of-type {\n",
       "        vertical-align: middle;\n",
       "    }\n",
       "\n",
       "    .dataframe tbody tr th {\n",
       "        vertical-align: top;\n",
       "    }\n",
       "\n",
       "    .dataframe thead th {\n",
       "        text-align: right;\n",
       "    }\n",
       "</style>\n",
       "<table border=\"1\" class=\"dataframe\">\n",
       "  <thead>\n",
       "    <tr style=\"text-align: right;\">\n",
       "      <th></th>\n",
       "      <th>학번</th>\n",
       "      <th>이름</th>\n",
       "      <th>점수</th>\n",
       "    </tr>\n",
       "  </thead>\n",
       "  <tbody>\n",
       "    <tr>\n",
       "      <th>0</th>\n",
       "      <td>1</td>\n",
       "      <td>철수</td>\n",
       "      <td>90</td>\n",
       "    </tr>\n",
       "    <tr>\n",
       "      <th>1</th>\n",
       "      <td>2</td>\n",
       "      <td>영희</td>\n",
       "      <td>85</td>\n",
       "    </tr>\n",
       "    <tr>\n",
       "      <th>2</th>\n",
       "      <td>4</td>\n",
       "      <td>NaN</td>\n",
       "      <td>70</td>\n",
       "    </tr>\n",
       "  </tbody>\n",
       "</table>\n",
       "</div>"
      ],
      "text/plain": [
       "   학번   이름  점수\n",
       "0   1   철수  90\n",
       "1   2   영희  85\n",
       "2   4  NaN  70"
      ]
     },
     "execution_count": 28,
     "metadata": {},
     "output_type": "execute_result"
    }
   ],
   "source": [
    "# right join \n",
    "pd.merge(df1,df2, on='학번', how='right')"
   ]
  },
  {
   "cell_type": "code",
   "execution_count": 34,
   "id": "cf64ada6-0c1d-4602-838b-9bf4d92132b3",
   "metadata": {},
   "outputs": [
    {
     "data": {
      "text/html": [
       "<div>\n",
       "<style scoped>\n",
       "    .dataframe tbody tr th:only-of-type {\n",
       "        vertical-align: middle;\n",
       "    }\n",
       "\n",
       "    .dataframe tbody tr th {\n",
       "        vertical-align: top;\n",
       "    }\n",
       "\n",
       "    .dataframe thead th {\n",
       "        text-align: right;\n",
       "    }\n",
       "</style>\n",
       "<table border=\"1\" class=\"dataframe\">\n",
       "  <thead>\n",
       "    <tr style=\"text-align: right;\">\n",
       "      <th></th>\n",
       "      <th>학번</th>\n",
       "      <th>이름</th>\n",
       "      <th>점수</th>\n",
       "    </tr>\n",
       "  </thead>\n",
       "  <tbody>\n",
       "    <tr>\n",
       "      <th>0</th>\n",
       "      <td>1</td>\n",
       "      <td>철수</td>\n",
       "      <td>90.0</td>\n",
       "    </tr>\n",
       "    <tr>\n",
       "      <th>1</th>\n",
       "      <td>2</td>\n",
       "      <td>영희</td>\n",
       "      <td>85.0</td>\n",
       "    </tr>\n",
       "    <tr>\n",
       "      <th>2</th>\n",
       "      <td>3</td>\n",
       "      <td>민수</td>\n",
       "      <td>NaN</td>\n",
       "    </tr>\n",
       "    <tr>\n",
       "      <th>3</th>\n",
       "      <td>4</td>\n",
       "      <td>NaN</td>\n",
       "      <td>70.0</td>\n",
       "    </tr>\n",
       "  </tbody>\n",
       "</table>\n",
       "</div>"
      ],
      "text/plain": [
       "   학번   이름    점수\n",
       "0   1   철수  90.0\n",
       "1   2   영희  85.0\n",
       "2   3   민수   NaN\n",
       "3   4  NaN  70.0"
      ]
     },
     "execution_count": 34,
     "metadata": {},
     "output_type": "execute_result"
    }
   ],
   "source": [
    "# outer join\n",
    "# outer join에서 연결이 안되는 부분은 nan(빈값)으로 채우기\n",
    "pd.merge(df1,df2, on='학번', how='outer')"
   ]
  },
  {
   "cell_type": "markdown",
   "id": "45fcdffa-019a-4a96-ac37-7ab15e42c128",
   "metadata": {},
   "source": [
    "### concat\n",
    "- 여러개의 데이터를 이어붙이는 함수\n",
    "- 조건없이 그냥 이어붙임\n",
    "- 방향 : 위아래 / 옆으로"
   ]
  },
  {
   "cell_type": "code",
   "execution_count": null,
   "id": "a937dcfd-29cd-4967-97f8-7fcd8152179b",
   "metadata": {},
   "outputs": [],
   "source": [
    "# 학생데이터, 시험 점수 데이터를 담아서 데이터프레임 생성\n",
    "df1 = pd.DataFrame({'학번':[1,2,3], '이름':['철수','영희','민수']}) \n",
    "df2 = pd.DataFrame({'학번':[1,2,4], '점수':[90,85,70]})"
   ]
  },
  {
   "cell_type": "code",
   "execution_count": 35,
   "id": "fad7339d-9f43-4ad0-be07-56eb38d21c96",
   "metadata": {},
   "outputs": [
    {
     "data": {
      "text/html": [
       "<div>\n",
       "<style scoped>\n",
       "    .dataframe tbody tr th:only-of-type {\n",
       "        vertical-align: middle;\n",
       "    }\n",
       "\n",
       "    .dataframe tbody tr th {\n",
       "        vertical-align: top;\n",
       "    }\n",
       "\n",
       "    .dataframe thead th {\n",
       "        text-align: right;\n",
       "    }\n",
       "</style>\n",
       "<table border=\"1\" class=\"dataframe\">\n",
       "  <thead>\n",
       "    <tr style=\"text-align: right;\">\n",
       "      <th></th>\n",
       "      <th>학번</th>\n",
       "      <th>이름</th>\n",
       "      <th>점수</th>\n",
       "    </tr>\n",
       "  </thead>\n",
       "  <tbody>\n",
       "    <tr>\n",
       "      <th>0</th>\n",
       "      <td>1</td>\n",
       "      <td>철수</td>\n",
       "      <td>NaN</td>\n",
       "    </tr>\n",
       "    <tr>\n",
       "      <th>1</th>\n",
       "      <td>2</td>\n",
       "      <td>영희</td>\n",
       "      <td>NaN</td>\n",
       "    </tr>\n",
       "    <tr>\n",
       "      <th>2</th>\n",
       "      <td>3</td>\n",
       "      <td>민수</td>\n",
       "      <td>NaN</td>\n",
       "    </tr>\n",
       "    <tr>\n",
       "      <th>0</th>\n",
       "      <td>1</td>\n",
       "      <td>NaN</td>\n",
       "      <td>90.0</td>\n",
       "    </tr>\n",
       "    <tr>\n",
       "      <th>1</th>\n",
       "      <td>2</td>\n",
       "      <td>NaN</td>\n",
       "      <td>85.0</td>\n",
       "    </tr>\n",
       "    <tr>\n",
       "      <th>2</th>\n",
       "      <td>4</td>\n",
       "      <td>NaN</td>\n",
       "      <td>70.0</td>\n",
       "    </tr>\n",
       "  </tbody>\n",
       "</table>\n",
       "</div>"
      ],
      "text/plain": [
       "   학번   이름    점수\n",
       "0   1   철수   NaN\n",
       "1   2   영희   NaN\n",
       "2   3   민수   NaN\n",
       "0   1  NaN  90.0\n",
       "1   2  NaN  85.0\n",
       "2   4  NaN  70.0"
      ]
     },
     "execution_count": 35,
     "metadata": {},
     "output_type": "execute_result"
    }
   ],
   "source": [
    "# 두 데이터 이어 붙이기 \n",
    "# 데이터가 2개 이상이 될 수 있기 때문에, 리스트로 입력\n",
    "# pd.concat([리스트]) => 방향 : 기본값 axis=0(=y축 위아래)\n",
    "pd.concat([df1,df2])"
   ]
  },
  {
   "cell_type": "code",
   "execution_count": 36,
   "id": "3344c001-7b9e-4876-9f73-65f0a698ec04",
   "metadata": {},
   "outputs": [
    {
     "data": {
      "text/html": [
       "<div>\n",
       "<style scoped>\n",
       "    .dataframe tbody tr th:only-of-type {\n",
       "        vertical-align: middle;\n",
       "    }\n",
       "\n",
       "    .dataframe tbody tr th {\n",
       "        vertical-align: top;\n",
       "    }\n",
       "\n",
       "    .dataframe thead th {\n",
       "        text-align: right;\n",
       "    }\n",
       "</style>\n",
       "<table border=\"1\" class=\"dataframe\">\n",
       "  <thead>\n",
       "    <tr style=\"text-align: right;\">\n",
       "      <th></th>\n",
       "      <th>학번</th>\n",
       "      <th>이름</th>\n",
       "      <th>학번</th>\n",
       "      <th>점수</th>\n",
       "    </tr>\n",
       "  </thead>\n",
       "  <tbody>\n",
       "    <tr>\n",
       "      <th>0</th>\n",
       "      <td>1</td>\n",
       "      <td>철수</td>\n",
       "      <td>1</td>\n",
       "      <td>90</td>\n",
       "    </tr>\n",
       "    <tr>\n",
       "      <th>1</th>\n",
       "      <td>2</td>\n",
       "      <td>영희</td>\n",
       "      <td>2</td>\n",
       "      <td>85</td>\n",
       "    </tr>\n",
       "    <tr>\n",
       "      <th>2</th>\n",
       "      <td>3</td>\n",
       "      <td>민수</td>\n",
       "      <td>4</td>\n",
       "      <td>70</td>\n",
       "    </tr>\n",
       "  </tbody>\n",
       "</table>\n",
       "</div>"
      ],
      "text/plain": [
       "   학번  이름  학번  점수\n",
       "0   1  철수   1  90\n",
       "1   2  영희   2  85\n",
       "2   3  민수   4  70"
      ]
     },
     "execution_count": 36,
     "metadata": {},
     "output_type": "execute_result"
    }
   ],
   "source": [
    "# axis=1(=x축 옆으로)\n",
    "# pd.concat([데이터리스트],방향)\n",
    "pd.concat([df1,df2], axis=1)"
   ]
  },
  {
   "cell_type": "code",
   "execution_count": 37,
   "id": "3cc18906-12fa-40f1-a2ac-1d1bb23780c1",
   "metadata": {},
   "outputs": [
    {
     "data": {
      "text/html": [
       "<div>\n",
       "<style scoped>\n",
       "    .dataframe tbody tr th:only-of-type {\n",
       "        vertical-align: middle;\n",
       "    }\n",
       "\n",
       "    .dataframe tbody tr th {\n",
       "        vertical-align: top;\n",
       "    }\n",
       "\n",
       "    .dataframe thead th {\n",
       "        text-align: right;\n",
       "    }\n",
       "</style>\n",
       "<table border=\"1\" class=\"dataframe\">\n",
       "  <thead>\n",
       "    <tr style=\"text-align: right;\">\n",
       "      <th></th>\n",
       "      <th>학번</th>\n",
       "      <th>이름</th>\n",
       "      <th>점수</th>\n",
       "    </tr>\n",
       "  </thead>\n",
       "  <tbody>\n",
       "    <tr>\n",
       "      <th>0</th>\n",
       "      <td>1</td>\n",
       "      <td>철수</td>\n",
       "      <td>NaN</td>\n",
       "    </tr>\n",
       "    <tr>\n",
       "      <th>1</th>\n",
       "      <td>2</td>\n",
       "      <td>영희</td>\n",
       "      <td>NaN</td>\n",
       "    </tr>\n",
       "    <tr>\n",
       "      <th>2</th>\n",
       "      <td>3</td>\n",
       "      <td>민수</td>\n",
       "      <td>NaN</td>\n",
       "    </tr>\n",
       "    <tr>\n",
       "      <th>3</th>\n",
       "      <td>1</td>\n",
       "      <td>NaN</td>\n",
       "      <td>90.0</td>\n",
       "    </tr>\n",
       "    <tr>\n",
       "      <th>4</th>\n",
       "      <td>2</td>\n",
       "      <td>NaN</td>\n",
       "      <td>85.0</td>\n",
       "    </tr>\n",
       "    <tr>\n",
       "      <th>5</th>\n",
       "      <td>4</td>\n",
       "      <td>NaN</td>\n",
       "      <td>70.0</td>\n",
       "    </tr>\n",
       "  </tbody>\n",
       "</table>\n",
       "</div>"
      ],
      "text/plain": [
       "   학번   이름    점수\n",
       "0   1   철수   NaN\n",
       "1   2   영희   NaN\n",
       "2   3   민수   NaN\n",
       "3   1  NaN  90.0\n",
       "4   2  NaN  85.0\n",
       "5   4  NaN  70.0"
      ]
     },
     "execution_count": 37,
     "metadata": {},
     "output_type": "execute_result"
    }
   ],
   "source": [
    "# concat 후에 인덱스 재설정\n",
    "# pd.concat([데이터리스트], [인덱스옵션]ignore_index=True)\n",
    "# => ignore_index=True : 기존 인덱스를 무시하고 순차적으로 부여\n",
    "pd.concat([df1,df2], ignore_index=True)"
   ]
  },
  {
   "cell_type": "markdown",
   "id": "48ca56c9-a798-4050-9371-70405243e07e",
   "metadata": {},
   "source": [
    "### 7.3 데이터 재구성"
   ]
  },
  {
   "cell_type": "markdown",
   "id": "3a7688b8-ea01-4079-9280-57e2cc80e2a1",
   "metadata": {},
   "source": [
    "### 피봇(pivot)\n",
    "- 행열을 바꿔서 표를 재구성하는 함수"
   ]
  },
  {
   "cell_type": "code",
   "execution_count": 38,
   "id": "a097cfe9-2ba6-4ee6-9464-2be553377aa4",
   "metadata": {},
   "outputs": [
    {
     "data": {
      "text/html": [
       "<div>\n",
       "<style scoped>\n",
       "    .dataframe tbody tr th:only-of-type {\n",
       "        vertical-align: middle;\n",
       "    }\n",
       "\n",
       "    .dataframe tbody tr th {\n",
       "        vertical-align: top;\n",
       "    }\n",
       "\n",
       "    .dataframe thead th {\n",
       "        text-align: right;\n",
       "    }\n",
       "</style>\n",
       "<table border=\"1\" class=\"dataframe\">\n",
       "  <thead>\n",
       "    <tr style=\"text-align: right;\">\n",
       "      <th></th>\n",
       "      <th>이름</th>\n",
       "      <th>과목</th>\n",
       "      <th>점수</th>\n",
       "    </tr>\n",
       "  </thead>\n",
       "  <tbody>\n",
       "    <tr>\n",
       "      <th>0</th>\n",
       "      <td>철수</td>\n",
       "      <td>국어</td>\n",
       "      <td>90</td>\n",
       "    </tr>\n",
       "    <tr>\n",
       "      <th>1</th>\n",
       "      <td>영희</td>\n",
       "      <td>국어</td>\n",
       "      <td>85</td>\n",
       "    </tr>\n",
       "    <tr>\n",
       "      <th>2</th>\n",
       "      <td>철수</td>\n",
       "      <td>수학</td>\n",
       "      <td>80</td>\n",
       "    </tr>\n",
       "    <tr>\n",
       "      <th>3</th>\n",
       "      <td>영희</td>\n",
       "      <td>수학</td>\n",
       "      <td>95</td>\n",
       "    </tr>\n",
       "  </tbody>\n",
       "</table>\n",
       "</div>"
      ],
      "text/plain": [
       "   이름  과목  점수\n",
       "0  철수  국어  90\n",
       "1  영희  국어  85\n",
       "2  철수  수학  80\n",
       "3  영희  수학  95"
      ]
     },
     "execution_count": 38,
     "metadata": {},
     "output_type": "execute_result"
    }
   ],
   "source": [
    "# 학생의 시험 점수를 데이터프레임에 저장\n",
    "df = pd.DataFrame({'이름' : ['철수','영희','철수','영희'],\n",
    "                  '과목' : ['국어','국어','수학','수학'],\n",
    "                   '점수' : [90,85,80,95]\n",
    "                  })\n",
    "df"
   ]
  },
  {
   "cell_type": "code",
   "execution_count": null,
   "id": "2e75ca20-942a-4cc5-8126-81bab844cfee",
   "metadata": {},
   "outputs": [],
   "source": [
    "# 이 표는 데이터를 저장, 수정하기에는 좋지만\n",
    "# 조회하는 건 불편하다"
   ]
  },
  {
   "cell_type": "code",
   "execution_count": 40,
   "id": "6604a52d-150f-4667-8cc6-510fe54233d4",
   "metadata": {},
   "outputs": [
    {
     "name": "stdout",
     "output_type": "stream",
     "text": [
      "Index(['영희', '철수'], dtype='object', name='이름')\n",
      "Index(['국어', '수학'], dtype='object', name='과목')\n"
     ]
    }
   ],
   "source": [
    "# 이 데이터를 성적표 형태로 변경 =>\n",
    "# pivot(인덱스, 컬럼, 데이터)\n",
    "# 원본 데이터의 컬럼 중에서 선택\n",
    "result = df.pivot(index='이름', columns='과목', values='점수')\n",
    "# 새로 만든 데이터 프레임의 행열 확인\n",
    "print(result.index)\n",
    "print(result.columns)"
   ]
  },
  {
   "cell_type": "code",
   "execution_count": null,
   "id": "2e65c5f7-151b-48a5-aa7f-9ae3e3134cb2",
   "metadata": {},
   "outputs": [],
   "source": []
  }
 ],
 "metadata": {
  "kernelspec": {
   "display_name": "Python 3 (ipykernel)",
   "language": "python",
   "name": "python3"
  },
  "language_info": {
   "codemirror_mode": {
    "name": "ipython",
    "version": 3
   },
   "file_extension": ".py",
   "mimetype": "text/x-python",
   "name": "python",
   "nbconvert_exporter": "python",
   "pygments_lexer": "ipython3",
   "version": "3.10.18"
  }
 },
 "nbformat": 4,
 "nbformat_minor": 5
}
