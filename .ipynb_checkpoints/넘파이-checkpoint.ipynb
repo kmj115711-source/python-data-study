{
 "cells": [
  {
   "cell_type": "markdown",
   "id": "4a37b4a0-6a3c-4bf9-a7f4-e3d393fec726",
   "metadata": {},
   "source": [
    "## 3. 넘파이  \n",
    "다차원 배열을 편리하게 사용하게 해주는 파이썬 라이브러리"
   ]
  },
  {
   "cell_type": "markdown",
   "id": "40a2ce64-8036-4159-bd5e-dc4581d9fd96",
   "metadata": {},
   "source": [
    "3.1 ndarray  \n",
    "다차원 배열  \n",
    "모든 요소의 타입은 동일함  \n",
    "계산 속도가 빠르다  "
   ]
  },
  {
   "cell_type": "code",
   "execution_count": 2,
   "id": "d5bad3bf-3ab6-467d-9cca-36093f23f3be",
   "metadata": {},
   "outputs": [],
   "source": [
    "# numpy 모듈을 가져와서 np로 부르기\n",
    "import numpy as np"
   ]
  },
  {
   "cell_type": "code",
   "execution_count": null,
   "id": "05063ece-b1fe-41e3-88fa-e3c19fdc881d",
   "metadata": {},
   "outputs": [],
   "source": [
    "# 1차원 배열 생성하기\n",
    "a = np.array([1,2,3])\n",
    "a\n",
    "# b = np.array(['a','b','c'])\n",
    "# b"
   ]
  },
  {
   "cell_type": "code",
   "execution_count": null,
   "id": "a9b04abf-d223-4068-982b-df5afc0ab9d5",
   "metadata": {},
   "outputs": [],
   "source": [
    "# 2차원 배열 생성하기\n",
    "# 행(row) 열(column)\n",
    "arr = np.array([[1,2,3], [4,5,6]])\n",
    "arr"
   ]
  },
  {
   "cell_type": "code",
   "execution_count": null,
   "id": "f30b3ec4-fe48-483a-8aee-2efe4f6420fa",
   "metadata": {},
   "outputs": [],
   "source": [
    "# arange : 파이썬의 range 함수 같이 숫자를 생성하는 함수\n",
    "# 0~9 숫자 10개 생성\n",
    "a = np.arange(10)\n",
    "a\n",
    "# 1부터 10까지\n",
    "b = np.arange(1,11)\n",
    "b\n",
    "# 1부터 10까지, 2간격으로\n",
    "c = np.arange(1,11,2)\n",
    "c"
   ]
  },
  {
   "cell_type": "code",
   "execution_count": null,
   "id": "12c66b0e-5a8c-40c1-bbe6-bad60e057b05",
   "metadata": {},
   "outputs": [],
   "source": [
    "# 10개 크기의 1차원 배열 생성. 모든 값이 0.0으로 초기화\n",
    "np.zeros(10)\n",
    "# 3행 6열 크기의 2차원 배열 생성. 모든 값이 0.0으로 초기화\n",
    "np.zeros((3, 3))"
   ]
  },
  {
   "cell_type": "code",
   "execution_count": null,
   "id": "575512e0-e367-478c-bde4-f3ec205e642b",
   "metadata": {},
   "outputs": [],
   "source": [
    "# 1차원 배열 생성\n",
    "a = np.array([1,2,3])\n",
    "print(a.dtype) #자료형 확인\n",
    "print(a.ndim) #차원\n",
    "print(a.shape) #행열크기\n",
    "# 2차원 배열 생성\n",
    "b = np.array([ [1,2,3], [4,5,6] ])\n",
    "print(b.dtype) #자료형 확인\n",
    "print(b.ndim) #차원\n",
    "print(b.shape) #행열크기"
   ]
  },
  {
   "cell_type": "code",
   "execution_count": null,
   "id": "9100b961-0cca-479f-96bc-8bf10a451126",
   "metadata": {},
   "outputs": [],
   "source": [
    "# astype : 자료형 변경\n",
    "# float -> int\n",
    "arr = np.array([1.1,1.2,1.3])\n",
    "print(arr, arr.dtype)\n",
    "arr2 = arr.astype(np.int32)\n",
    "print(arr2, arr2.dtype)"
   ]
  },
  {
   "cell_type": "code",
   "execution_count": null,
   "id": "eee421f7-83f0-404f-936a-4279f409909d",
   "metadata": {},
   "outputs": [],
   "source": [
    "# 파이썬의 리스트에 있는 각 요소에 3 더하기\n",
    "lis = [1,2,3]\n",
    "# lis + 3\n",
    "# 리스트는 이대로 계산 불가\n",
    "# 반복문을 사용해야함\n",
    "for i in lis:\n",
    "    print(i + 3)"
   ]
  },
  {
   "cell_type": "code",
   "execution_count": null,
   "id": "20765500-78b9-4b8b-818b-542aeb66fbdf",
   "metadata": {},
   "outputs": [],
   "source": [
    "# 넘파이 배열은 for문을 쓰지 않아도 각 원소에 계산이 된다\n",
    "a = np.array([1,2,3])\n",
    "a+3\n",
    "a-3\n",
    "a*3"
   ]
  },
  {
   "cell_type": "code",
   "execution_count": null,
   "id": "045cf4c1-95d0-410f-9f1e-5469ed776bbc",
   "metadata": {},
   "outputs": [],
   "source": [
    "# 배열간의 연산\n",
    "# 비교를 하면 불리언 배열이 반환됨\n",
    "b = np.array([4,5,6])\n",
    "b > a"
   ]
  },
  {
   "cell_type": "markdown",
   "id": "a57f657c-ee98-42c8-a754-b7927d6784f8",
   "metadata": {},
   "source": [
    "## 1차원 배열 인덱싱과 슬라이스"
   ]
  },
  {
   "cell_type": "code",
   "execution_count": null,
   "id": "960ba728-71ba-4af2-acc1-4a5a99adb35e",
   "metadata": {},
   "outputs": [],
   "source": [
    "# 1차원 배열\n",
    "arr = np.arange(10)\n",
    "print(arr)\n",
    "\n",
    "# 특정 요소 꺼내기\n",
    "print(arr[0])\n",
    "\n",
    "# 배열 슬라이스\n",
    "print(arr[5:8])\n",
    "\n",
    "# 배열 슬라이스에 숫자를 넣으면 값이 전파되어, \n",
    "# arr[5] arr[6] arr[7]에 모두 12가 저장됨\n",
    "arr[5:8] = 99\n",
    "print(arr)"
   ]
  },
  {
   "cell_type": "code",
   "execution_count": null,
   "id": "fed3d86a-0700-4d88-b973-254dc045fe80",
   "metadata": {},
   "outputs": [],
   "source": [
    "# 슬라이스 배열을 변수에 담기\n",
    "arr_slice = arr[5:8]\n",
    "print(s)\n",
    "# 파이썬의 리스트 슬라이스는 '복사본'을 만들지만,\n",
    "# 넘파이 배열의 슬라이스는 '뷰(view)'로 원본 데이터를 그대로 보여줌\n",
    "# 슬라이스 배열의 값을 바꾸면 원본 배열도 함께 변경되므로 조심해서 사용\n",
    "arr_slice[1] = 111\n",
    "print(arr)"
   ]
  },
  {
   "cell_type": "code",
   "execution_count": null,
   "id": "73400ae2-f97c-4273-8a88-28b2ff939b43",
   "metadata": {},
   "outputs": [],
   "source": [
    "# [:]은 배열의 모든값\n",
    "arr_slice[:] = 64\n",
    "arr"
   ]
  },
  {
   "cell_type": "markdown",
   "id": "43b1f62c-c33f-45c0-b125-21b9f431a545",
   "metadata": {},
   "source": [
    "## 2차원 배열 인덱싱과 슬라이스"
   ]
  },
  {
   "cell_type": "code",
   "execution_count": null,
   "id": "d3454ede-685e-4e21-be55-707cc8178eb3",
   "metadata": {},
   "outputs": [],
   "source": [
    "# 2차원 배열\n",
    "arr = np.array([[1, 2, 3], [4, 5, 6], [7, 8, 9]])\n",
    "# 2차원 배열에서 각 요소는 1차원 배열\n",
    "arr[2]"
   ]
  },
  {
   "cell_type": "code",
   "execution_count": null,
   "id": "18187241-7ffe-43c3-8a67-4ff3b212696d",
   "metadata": {},
   "outputs": [],
   "source": [
    "# 특정 요소 꺼내기\n",
    "print(arr[0][2])\n",
    "print(arr[0, 2])"
   ]
  },
  {
   "cell_type": "code",
   "execution_count": null,
   "id": "78277604-93f3-4de4-9f8b-1db913ef0e20",
   "metadata": {},
   "outputs": [],
   "source": [
    "# 값 바꾸기\n",
    "arr[1][1] = 0\n",
    "arr[1, 1] = 0\n",
    "arr"
   ]
  },
  {
   "cell_type": "code",
   "execution_count": null,
   "id": "23667d23-45f2-4445-9f21-b0f94d0184eb",
   "metadata": {},
   "outputs": [],
   "source": [
    "# 2차원 배열 슬라이스하기\n",
    "# 열을 기준으로 슬라이스 (0번부터 1번까지)\n",
    "arr[:2]\n",
    "\n",
    "# 배열[행범위, 앞에서 선택한 행에서 열범위]\n",
    "# 모든 행에서 첫 번째 열만 선택 (2차원)\n",
    "arr[:, :1]\n",
    "\n",
    "# 1행~2행, 1열~2열 선택\n",
    "arr[1:3, 1:3]\n",
    "\n",
    "# 0~1행, 0~1열 선택\n",
    "arr[:2, :2]\n",
    "\n",
    "# 1행의 0~1열 선택\n",
    "arr[1, 0:2]"
   ]
  },
  {
   "cell_type": "markdown",
   "id": "0ab32a50-6f7f-4acb-ba4b-6659e8e69224",
   "metadata": {},
   "source": [
    "## 불리언 인덱스"
   ]
  },
  {
   "cell_type": "code",
   "execution_count": null,
   "id": "432b1638-38fd-4c06-9548-687d1060c0b6",
   "metadata": {},
   "outputs": [],
   "source": [
    "# 철수의 대출 이력 조회하기\n",
    "\n",
    "# 학생 목록\n",
    "students = np.array([\"철수\", \"영희\", \"민수\", \"철수\", \"영희\"])\n",
    "\n",
    "# 학생별 대출 이력\n",
    "books = np.array([\n",
    "    [\"수학의 정석\", 7],   # 책제목, 대출일수\n",
    "    [\"해리포터\", 14],\n",
    "    [\"파이썬 입문\", 10],\n",
    "    [\"한국사\", 5],\n",
    "    [\"데미안\", 12]\n",
    "])\n",
    "# 학생목록과 대출이력은 인덱스 위치 기준으로 대응"
   ]
  },
  {
   "cell_type": "code",
   "execution_count": null,
   "id": "51c9e896-a04d-4a2d-88a9-f8b4561ff935",
   "metadata": {},
   "outputs": [],
   "source": [
    "# 넘파이 배열에 비교연산을 쓰면 불리언 배열 반환\n",
    "print(students == \"철수\")\n",
    "\n",
    "# 불리언 배열 [True False False True False]를 books 배열에 적용하면,\n",
    "# True인 위치(0번째, 3번째)의 행만 뽑혀 나옴\n",
    "books[students == \"철수\"]\n",
    "\n",
    "# 철수의 대출 이력만 조회"
   ]
  },
  {
   "cell_type": "code",
   "execution_count": null,
   "id": "253e1b7e-2054-40aa-9005-52b4e723fa2a",
   "metadata": {},
   "outputs": [],
   "source": [
    "# 철수의 대출 기록 보기\n",
    "# 1: => 두번째 열부터 마지막까지 (대출일수)\n",
    "print(books[students == \"철수\", 1:])\n",
    "# 1 => 두번째 열만 (대출일수)\n",
    "print(books[students == \"철수\", 1])\n",
    "\n",
    "# 철수가 아닌 항목 찾기\n",
    "print(students != \"철수\")"
   ]
  },
  {
   "cell_type": "code",
   "execution_count": null,
   "id": "03b2e44c-6b37-4ee1-93d8-7906acb5ba2f",
   "metadata": {},
   "outputs": [],
   "source": [
    "# 불리언색인을 사용해서 값 수정하기\n",
    "# \"수학의 정석\"을 찾아서 책제목 바꾸기\n",
    "books[books == \"수학의 정석\"] = \"자바의 정석\"\n",
    "print(books)\n",
    "\n",
    "# 철수가 아닌 행 전체를 7로 바꾸기\n",
    "books[students != \"철수\"] = 7\n",
    "print(books)"
   ]
  },
  {
   "cell_type": "markdown",
   "id": "8de952d3-ef4b-485f-b97c-57980e65da14",
   "metadata": {},
   "source": [
    "## 3.2 배열의 모양 바꾸기"
   ]
  },
  {
   "cell_type": "code",
   "execution_count": null,
   "id": "4b1c3f83-b2e9-44a6-ad57-1800baa9934e",
   "metadata": {},
   "outputs": [],
   "source": [
    "# reshape : 배열의 형태를 바꿈\n",
    "# 1차원 배열 -> 2차원 배열 변환\n",
    "# arange(1,10) : 1~9 9개 크기의 1차원 배열\n",
    "# reshape(3, 3) : 3행 3열 짜리 2차원 배열 생성\n",
    "arr = np.arange(1,10).reshape(3, 3)\n",
    "arr\n",
    "\n",
    "# 1부터 8까지 숫자가 담긴 1차원 배열 생성\n",
    "# 2행 4열 크기의 배열로 변환\n",
    "x = np.arange(1,9).reshape(2,4)\n",
    "x"
   ]
  },
  {
   "cell_type": "code",
   "execution_count": null,
   "id": "b4f3813b-c09b-46bd-a252-ece416dd62bd",
   "metadata": {},
   "outputs": [],
   "source": [
    "# # 3행 3열 배열 생성\n",
    "# a = np.arange(1,10).reshape(3,3)\n",
    "# a\n",
    "\n",
    "# # dot : 행렬 곱셈\n",
    "# np.dot(a, a)"
   ]
  },
  {
   "cell_type": "markdown",
   "id": "43337f90-bf6e-4d3d-ae7f-8e9396220a6e",
   "metadata": {},
   "source": [
    "## 3.3 랜덤값 생성"
   ]
  },
  {
   "cell_type": "code",
   "execution_count": null,
   "id": "a3a56461-27e2-48ea-b686-328af887e8ca",
   "metadata": {},
   "outputs": [],
   "source": [
    "# random 함수와 비슷\n",
    "# 표준 편차가 1인 표준정규분포에서 난수 생성(범위: -3~3)\n",
    "samples = np.random.standard_normal(10)\n",
    "samples"
   ]
  },
  {
   "cell_type": "code",
   "execution_count": null,
   "id": "29f000b6-9201-4ba2-af5b-62ca92ee6936",
   "metadata": {},
   "outputs": [],
   "source": [
    "# 균일 분포 : 0~1 사이에서 구간별로 동일한 확률로 난수 생성\n",
    "arr = np.random.uniform(size=10)\n",
    "print(arr)"
   ]
  },
  {
   "cell_type": "code",
   "execution_count": null,
   "id": "89b128ea-3db6-4533-8821-9400fd0fe053",
   "metadata": {},
   "outputs": [],
   "source": [
    "# 정수형 랜덤값 만들기\n",
    "# 범위: 1~10\n",
    "# 개수: 10개\n",
    "arr = np.random.randint(1,11, 10)\n",
    "arr"
   ]
  },
  {
   "cell_type": "markdown",
   "id": "8a53eabb-681c-439a-ab37-10e6aa19161b",
   "metadata": {},
   "source": [
    "## 3.4 유니버설 함수\n",
    "반복문 없이 배열 전체에 계산을 해주는 함수"
   ]
  },
  {
   "cell_type": "code",
   "execution_count": null,
   "id": "d0d1c566-946f-4cee-a00c-9ad70441436f",
   "metadata": {},
   "outputs": [],
   "source": [
    "# 0~9 배열 생성\n",
    "arr = np.arange(10)\n",
    "arr\n",
    "\n",
    "# add : 모든 배열 요소에 n만큼 더하기\n",
    "np.add(arr, 1)"
   ]
  },
  {
   "cell_type": "code",
   "execution_count": null,
   "id": "3e3d0476-c5b6-4c02-bae9-24c101364261",
   "metadata": {},
   "outputs": [],
   "source": [
    "x = np.array([1,3,2,4,5])\n",
    "y = np.array([3,4,5,6,7])\n",
    "\n",
    "# maximum : 두 배열을 비교해서 최대값 구하기\n",
    "np.maximum(x, y)"
   ]
  },
  {
   "cell_type": "markdown",
   "id": "5f15711f-4cad-40c8-a289-3ba87701cf1a",
   "metadata": {},
   "source": [
    "## 3.5 배열을 이용한 프로그래밍"
   ]
  },
  {
   "cell_type": "markdown",
   "id": "42651ee1-d265-45a5-ade2-bc8c41958fc9",
   "metadata": {},
   "source": [
    "### 조건문"
   ]
  },
  {
   "cell_type": "code",
   "execution_count": null,
   "id": "e2376caf-796f-431f-a3d2-047344d7b270",
   "metadata": {},
   "outputs": [],
   "source": [
    "# 두개의 배열\n",
    "arr1 = np.array([1, 2, 3])\n",
    "arr2 = np.array([10, 20, 30])\n",
    "# 불리언 배열\n",
    "cond = np.array([True, True, False])"
   ]
  },
  {
   "cell_type": "code",
   "execution_count": null,
   "id": "8c9c023c-67db-4a69-a687-2df1e56f8286",
   "metadata": {},
   "outputs": [],
   "source": [
    "# 조건문\n",
    "# where(조건, 참일때값, 거짓일때값)\n",
    "# true면 arr1에서 선택하고, false면 arr2에서 선택\n",
    "result = np.where(cond, arr1, arr2)\n",
    "result"
   ]
  },
  {
   "cell_type": "code",
   "execution_count": null,
   "id": "14c8916f-8154-47ca-99ae-1dbeef3f846e",
   "metadata": {},
   "outputs": [],
   "source": [
    "arr = np.array([-2,-1,0,1,2])\n",
    "\n",
    "# 불리언 배열 대신 조건식 넣기\n",
    "# 요소가 0보다 크면 'o', 아니면 'x'로 치환\n",
    "np.where(arr > 0, 'o', 'x')"
   ]
  },
  {
   "cell_type": "markdown",
   "id": "118848b2-7023-48d5-8cb3-95366585238d",
   "metadata": {},
   "source": [
    "통계를 구할 때 자주 사용하는 함수들\n",
    "(최대 최소 합계 평균)"
   ]
  },
  {
   "cell_type": "code",
   "execution_count": null,
   "id": "22bdf9c1-80f6-40fe-ad28-da77d5bfd1e3",
   "metadata": {},
   "outputs": [],
   "source": [
    "arr = np.array([1,2,3,4,5])\n",
    "# 최대값\n",
    "np.max(arr)\n",
    "# 최소값\n",
    "np.min(arr)\n",
    "# 합계\n",
    "np.sum(arr)\n",
    "# 평균\n",
    "np.mean(arr)"
   ]
  },
  {
   "cell_type": "markdown",
   "id": "111bc51f-18ad-4343-a6f2-a5f1e9e5cdaa",
   "metadata": {},
   "source": [
    "행/열 단위로 합계 구하기"
   ]
  },
  {
   "cell_type": "code",
   "execution_count": null,
   "id": "d1f6d8ad-0c5d-4932-bbc5-a2405eca153a",
   "metadata": {},
   "outputs": [],
   "source": [
    "arr = np.arange(1,10).reshape(3,3)\n",
    "print(arr)\n",
    "# 모든 행의 합계 구하기\n",
    "# axis=0 => 세로 방향으로 계산\n",
    "print(arr.sum(axis=0))\n",
    "# axis=1 => 가로 방향으로 계산 \n",
    "print(arr.sum(axis=1))"
   ]
  },
  {
   "cell_type": "markdown",
   "id": "ba97d75f-ae01-4c07-a288-64eafd63b90f",
   "metadata": {},
   "source": [
    "누적값 구하기"
   ]
  },
  {
   "cell_type": "code",
   "execution_count": null,
   "id": "c9432c10-0a93-4a45-9d7f-261337e217b8",
   "metadata": {},
   "outputs": [],
   "source": [
    "# cumsum : 누적값 구하기\n",
    "# 중간 결과값을 볼 수 있음. 누적값을 구하는 과정\n",
    "arr = np.array([1, 2, 3, 4, 5])\n",
    "arr.cumsum()\n",
    "# 0\n",
    "# 0+1 = 1\n",
    "# 0+1+2 = 3\n",
    "# ..."
   ]
  },
  {
   "cell_type": "markdown",
   "id": "a9e220b8-ae3b-425b-8461-90b3bd874201",
   "metadata": {},
   "source": [
    "2차원 배열의 누적값 구하기"
   ]
  },
  {
   "cell_type": "code",
   "execution_count": null,
   "id": "3d585a4b-25a5-42f9-ab7b-56d29649d296",
   "metadata": {},
   "outputs": [],
   "source": [
    "# 3행 3열 크기의 배열 생성\n",
    "arr = np.array([[0, 1, 2], [3, 4, 5], [6, 7, 8]])\n",
    "print(arr)\n",
    "# 세로 방향으로 누적값 구하기 (위->아래)\n",
    "print(arr.cumsum(axis=0))\n",
    "# 가로 방향으로 누적값 구하기 (왼->오)\n",
    "print(arr.cumsum(axis=1))\n",
    "# 앞에 있는 값을 더함"
   ]
  },
  {
   "cell_type": "markdown",
   "id": "ec314b66-0449-468e-91e2-c0b8f8f77a25",
   "metadata": {},
   "source": [
    "any 함수와 all 함수"
   ]
  },
  {
   "cell_type": "code",
   "execution_count": null,
   "id": "b5f986f9-0721-467e-be9e-7ec12d7801ad",
   "metadata": {},
   "outputs": [],
   "source": [
    "# 불리언 배열 생성\n",
    "bools = np.array([False, False, True, False])\n",
    "\n",
    "# any : 하나이상의 true가 있는지 검사\n",
    "print(bools.any())\n",
    "\n",
    "# all : 모든 요소가 true인지 검사\n",
    "print(bools.all())"
   ]
  },
  {
   "cell_type": "code",
   "execution_count": null,
   "id": "87169fbd-6073-43f5-90f7-8862645fb72f",
   "metadata": {},
   "outputs": [],
   "source": [
    "# 넘파이의 sort함수를 사용\n",
    "# 원본배열은 그대로 두고, 정렬된 새로운 배열을 반환함\n",
    "arr = np.array([1,3,4,2,5])\n",
    "result = np.sort(arr)\n",
    "\n",
    "print('원본 배열:', arr)\n",
    "print('새로운 배열:', result)"
   ]
  }
 ],
 "metadata": {
  "kernelspec": {
   "display_name": "Python 3 (ipykernel)",
   "language": "python",
   "name": "python3"
  },
  "language_info": {
   "codemirror_mode": {
    "name": "ipython",
    "version": 3
   },
   "file_extension": ".py",
   "mimetype": "text/x-python",
   "name": "python",
   "nbconvert_exporter": "python",
   "pygments_lexer": "ipython3",
   "version": "3.10.18"
  }
 },
 "nbformat": 4,
 "nbformat_minor": 5
}
